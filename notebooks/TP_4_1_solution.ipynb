{
  "cells": [
    {
      "cell_type": "markdown",
      "metadata": {
        "id": "view-in-github",
        "colab_type": "text"
      },
      "source": [
        "<a href=\"https://colab.research.google.com/github/Mart1Portfolio/ensai-apprentissage-profond/blob/main/notebooks/TP_4_1_solution.ipynb\" target=\"_parent\"><img src=\"https://colab.research.google.com/assets/colab-badge.svg\" alt=\"Open In Colab\"/></a>"
      ]
    },
    {
      "cell_type": "markdown",
      "id": "a729761a",
      "metadata": {
        "id": "a729761a"
      },
      "source": [
        "**Avant de débuter ce TP** :\n",
        "\n",
        "1. **Changez le type d'exécution sur Google Colab** : `Exécution > Modifiez le type d'exécution > T4 GPU`\n",
        "2. **Installez les paquets ci-dessous** :"
      ]
    },
    {
      "cell_type": "code",
      "execution_count": 1,
      "id": "c03161bd",
      "metadata": {
        "colab": {
          "base_uri": "https://localhost:8080/"
        },
        "id": "c03161bd",
        "outputId": "3c2e2406-e2c0-4306-8f6e-3cb18e1776cb"
      },
      "outputs": [
        {
          "output_type": "stream",
          "name": "stdout",
          "text": [
            "Collecting lightning\n",
            "  Downloading lightning-2.5.5-py3-none-any.whl.metadata (39 kB)\n",
            "Collecting torchmetrics\n",
            "  Downloading torchmetrics-1.8.2-py3-none-any.whl.metadata (22 kB)\n",
            "Collecting torchinfo\n",
            "  Downloading torchinfo-1.8.0-py3-none-any.whl.metadata (21 kB)\n",
            "Requirement already satisfied: PyYAML<8.0,>5.4 in /usr/local/lib/python3.12/dist-packages (from lightning) (6.0.3)\n",
            "Requirement already satisfied: fsspec<2027.0,>=2022.5.0 in /usr/local/lib/python3.12/dist-packages (from fsspec[http]<2027.0,>=2022.5.0->lightning) (2025.3.0)\n",
            "Collecting lightning-utilities<2.0,>=0.10.0 (from lightning)\n",
            "  Downloading lightning_utilities-0.15.2-py3-none-any.whl.metadata (5.7 kB)\n",
            "Requirement already satisfied: packaging<27.0,>=20.0 in /usr/local/lib/python3.12/dist-packages (from lightning) (25.0)\n",
            "Requirement already satisfied: torch<4.0,>=2.1.0 in /usr/local/lib/python3.12/dist-packages (from lightning) (2.8.0+cu126)\n",
            "Requirement already satisfied: tqdm<6.0,>=4.57.0 in /usr/local/lib/python3.12/dist-packages (from lightning) (4.67.1)\n",
            "Requirement already satisfied: typing-extensions<6.0,>4.5.0 in /usr/local/lib/python3.12/dist-packages (from lightning) (4.15.0)\n",
            "Collecting pytorch-lightning (from lightning)\n",
            "  Downloading pytorch_lightning-2.5.5-py3-none-any.whl.metadata (20 kB)\n",
            "Requirement already satisfied: numpy>1.20.0 in /usr/local/lib/python3.12/dist-packages (from torchmetrics) (2.0.2)\n",
            "Requirement already satisfied: aiohttp!=4.0.0a0,!=4.0.0a1 in /usr/local/lib/python3.12/dist-packages (from fsspec[http]<2027.0,>=2022.5.0->lightning) (3.13.0)\n",
            "Requirement already satisfied: setuptools in /usr/local/lib/python3.12/dist-packages (from lightning-utilities<2.0,>=0.10.0->lightning) (75.2.0)\n",
            "Requirement already satisfied: filelock in /usr/local/lib/python3.12/dist-packages (from torch<4.0,>=2.1.0->lightning) (3.20.0)\n",
            "Requirement already satisfied: sympy>=1.13.3 in /usr/local/lib/python3.12/dist-packages (from torch<4.0,>=2.1.0->lightning) (1.13.3)\n",
            "Requirement already satisfied: networkx in /usr/local/lib/python3.12/dist-packages (from torch<4.0,>=2.1.0->lightning) (3.5)\n",
            "Requirement already satisfied: jinja2 in /usr/local/lib/python3.12/dist-packages (from torch<4.0,>=2.1.0->lightning) (3.1.6)\n",
            "Requirement already satisfied: nvidia-cuda-nvrtc-cu12==12.6.77 in /usr/local/lib/python3.12/dist-packages (from torch<4.0,>=2.1.0->lightning) (12.6.77)\n",
            "Requirement already satisfied: nvidia-cuda-runtime-cu12==12.6.77 in /usr/local/lib/python3.12/dist-packages (from torch<4.0,>=2.1.0->lightning) (12.6.77)\n",
            "Requirement already satisfied: nvidia-cuda-cupti-cu12==12.6.80 in /usr/local/lib/python3.12/dist-packages (from torch<4.0,>=2.1.0->lightning) (12.6.80)\n",
            "Requirement already satisfied: nvidia-cudnn-cu12==9.10.2.21 in /usr/local/lib/python3.12/dist-packages (from torch<4.0,>=2.1.0->lightning) (9.10.2.21)\n",
            "Requirement already satisfied: nvidia-cublas-cu12==12.6.4.1 in /usr/local/lib/python3.12/dist-packages (from torch<4.0,>=2.1.0->lightning) (12.6.4.1)\n",
            "Requirement already satisfied: nvidia-cufft-cu12==11.3.0.4 in /usr/local/lib/python3.12/dist-packages (from torch<4.0,>=2.1.0->lightning) (11.3.0.4)\n",
            "Requirement already satisfied: nvidia-curand-cu12==10.3.7.77 in /usr/local/lib/python3.12/dist-packages (from torch<4.0,>=2.1.0->lightning) (10.3.7.77)\n",
            "Requirement already satisfied: nvidia-cusolver-cu12==11.7.1.2 in /usr/local/lib/python3.12/dist-packages (from torch<4.0,>=2.1.0->lightning) (11.7.1.2)\n",
            "Requirement already satisfied: nvidia-cusparse-cu12==12.5.4.2 in /usr/local/lib/python3.12/dist-packages (from torch<4.0,>=2.1.0->lightning) (12.5.4.2)\n",
            "Requirement already satisfied: nvidia-cusparselt-cu12==0.7.1 in /usr/local/lib/python3.12/dist-packages (from torch<4.0,>=2.1.0->lightning) (0.7.1)\n",
            "Requirement already satisfied: nvidia-nccl-cu12==2.27.3 in /usr/local/lib/python3.12/dist-packages (from torch<4.0,>=2.1.0->lightning) (2.27.3)\n",
            "Requirement already satisfied: nvidia-nvtx-cu12==12.6.77 in /usr/local/lib/python3.12/dist-packages (from torch<4.0,>=2.1.0->lightning) (12.6.77)\n",
            "Requirement already satisfied: nvidia-nvjitlink-cu12==12.6.85 in /usr/local/lib/python3.12/dist-packages (from torch<4.0,>=2.1.0->lightning) (12.6.85)\n",
            "Requirement already satisfied: nvidia-cufile-cu12==1.11.1.6 in /usr/local/lib/python3.12/dist-packages (from torch<4.0,>=2.1.0->lightning) (1.11.1.6)\n",
            "Requirement already satisfied: triton==3.4.0 in /usr/local/lib/python3.12/dist-packages (from torch<4.0,>=2.1.0->lightning) (3.4.0)\n",
            "Requirement already satisfied: aiohappyeyeballs>=2.5.0 in /usr/local/lib/python3.12/dist-packages (from aiohttp!=4.0.0a0,!=4.0.0a1->fsspec[http]<2027.0,>=2022.5.0->lightning) (2.6.1)\n",
            "Requirement already satisfied: aiosignal>=1.4.0 in /usr/local/lib/python3.12/dist-packages (from aiohttp!=4.0.0a0,!=4.0.0a1->fsspec[http]<2027.0,>=2022.5.0->lightning) (1.4.0)\n",
            "Requirement already satisfied: attrs>=17.3.0 in /usr/local/lib/python3.12/dist-packages (from aiohttp!=4.0.0a0,!=4.0.0a1->fsspec[http]<2027.0,>=2022.5.0->lightning) (25.4.0)\n",
            "Requirement already satisfied: frozenlist>=1.1.1 in /usr/local/lib/python3.12/dist-packages (from aiohttp!=4.0.0a0,!=4.0.0a1->fsspec[http]<2027.0,>=2022.5.0->lightning) (1.8.0)\n",
            "Requirement already satisfied: multidict<7.0,>=4.5 in /usr/local/lib/python3.12/dist-packages (from aiohttp!=4.0.0a0,!=4.0.0a1->fsspec[http]<2027.0,>=2022.5.0->lightning) (6.7.0)\n",
            "Requirement already satisfied: propcache>=0.2.0 in /usr/local/lib/python3.12/dist-packages (from aiohttp!=4.0.0a0,!=4.0.0a1->fsspec[http]<2027.0,>=2022.5.0->lightning) (0.3.2)\n",
            "Requirement already satisfied: yarl<2.0,>=1.17.0 in /usr/local/lib/python3.12/dist-packages (from aiohttp!=4.0.0a0,!=4.0.0a1->fsspec[http]<2027.0,>=2022.5.0->lightning) (1.22.0)\n",
            "Requirement already satisfied: mpmath<1.4,>=1.1.0 in /usr/local/lib/python3.12/dist-packages (from sympy>=1.13.3->torch<4.0,>=2.1.0->lightning) (1.3.0)\n",
            "Requirement already satisfied: MarkupSafe>=2.0 in /usr/local/lib/python3.12/dist-packages (from jinja2->torch<4.0,>=2.1.0->lightning) (3.0.3)\n",
            "Requirement already satisfied: idna>=2.0 in /usr/local/lib/python3.12/dist-packages (from yarl<2.0,>=1.17.0->aiohttp!=4.0.0a0,!=4.0.0a1->fsspec[http]<2027.0,>=2022.5.0->lightning) (3.10)\n",
            "Downloading lightning-2.5.5-py3-none-any.whl (828 kB)\n",
            "\u001b[2K   \u001b[90m━━━━━━━━━━━━━━━━━━━━━━━━━━━━━━━━━━━━━━━━\u001b[0m \u001b[32m828.5/828.5 kB\u001b[0m \u001b[31m58.4 MB/s\u001b[0m eta \u001b[36m0:00:00\u001b[0m\n",
            "\u001b[?25hDownloading torchmetrics-1.8.2-py3-none-any.whl (983 kB)\n",
            "\u001b[2K   \u001b[90m━━━━━━━━━━━━━━━━━━━━━━━━━━━━━━━━━━━━━━━━\u001b[0m \u001b[32m983.2/983.2 kB\u001b[0m \u001b[31m63.7 MB/s\u001b[0m eta \u001b[36m0:00:00\u001b[0m\n",
            "\u001b[?25hDownloading torchinfo-1.8.0-py3-none-any.whl (23 kB)\n",
            "Downloading lightning_utilities-0.15.2-py3-none-any.whl (29 kB)\n",
            "Downloading pytorch_lightning-2.5.5-py3-none-any.whl (832 kB)\n",
            "\u001b[2K   \u001b[90m━━━━━━━━━━━━━━━━━━━━━━━━━━━━━━━━━━━━━━━━\u001b[0m \u001b[32m832.4/832.4 kB\u001b[0m \u001b[31m63.8 MB/s\u001b[0m eta \u001b[36m0:00:00\u001b[0m\n",
            "\u001b[?25hInstalling collected packages: torchinfo, lightning-utilities, torchmetrics, pytorch-lightning, lightning\n",
            "Successfully installed lightning-2.5.5 lightning-utilities-0.15.2 pytorch-lightning-2.5.5 torchinfo-1.8.0 torchmetrics-1.8.2\n"
          ]
        }
      ],
      "source": [
        "! pip install lightning torchmetrics torchinfo"
      ]
    },
    {
      "cell_type": "markdown",
      "id": "ab76bdb8",
      "metadata": {
        "id": "ab76bdb8"
      },
      "source": [
        "3. Exécutez ce code pour supprimer quelques messages et avertissements éventuellement affichés."
      ]
    },
    {
      "cell_type": "code",
      "execution_count": 2,
      "id": "65832519",
      "metadata": {
        "id": "65832519"
      },
      "outputs": [],
      "source": [
        "import logging\n",
        "logging.getLogger(\"lightning\").setLevel(logging.ERROR)\n",
        "logging.getLogger(\"lightning.pytorch.utilities.rank_zero\").setLevel(logging.WARNING)\n",
        "logging.getLogger(\"lightning.pytorch.accelerators.cuda\").setLevel(logging.WARNING)\n",
        "logger = logging.getLogger(\"lightning\")\n",
        "logger.propagate = False\n",
        "\n",
        "import warnings\n",
        "warnings.filterwarnings(\"ignore\", \".*does not have many workers.*\")"
      ]
    },
    {
      "cell_type": "markdown",
      "id": "2682ff49",
      "metadata": {
        "id": "2682ff49"
      },
      "source": [
        "# *Inpainting* d'images masquées\n",
        "\n",
        "Dans ce notebook, vous allez travailler sur le jeu de données [MNIST](https://en.wikipedia.org/wiki/MNIST_database) constitué d'images de chiffres manuscrits.\n",
        "\n",
        "L'[*inpainting*](https://fr.wikipedia.org/wiki/Inpainting) consiste à reconstruire des images détériorées ou à remplir des parties manques des images.\n",
        "L'exemple ci-dessous est tiré de la page Wikipedia concernant l'*inpainting*.\n",
        "À gauche se trouve l'image détériorée et à droite se trouve l'image reconstruite.\n",
        "\n",
        "<img src=\"https://upload.wikimedia.org/wikipedia/commons/f/f8/Restoration.jpg\" width=800 />\n",
        "\n",
        "**L'objectif est de reconstruire les images à partir des images détériorées.**"
      ]
    },
    {
      "cell_type": "markdown",
      "id": "e88bf550",
      "metadata": {
        "id": "e88bf550"
      },
      "source": [
        "## Téléchargement et visualisation des données\n",
        "\n",
        "La fonction `load_dataset()` définie ci-dessous permet de télécharger le jeu de données."
      ]
    },
    {
      "cell_type": "code",
      "execution_count": 3,
      "id": "c683c4ae",
      "metadata": {
        "id": "c683c4ae"
      },
      "outputs": [],
      "source": [
        "import torch\n",
        "\n",
        "\n",
        "def load_dataset(train, path=\"data\"):\n",
        "    \"\"\"Charge le jeu de données.\n",
        "\n",
        "    Parameters\n",
        "    ----------\n",
        "    train : bool\n",
        "        Si True, renvoie le jeu d'entraînement. Sinon, renvoie le jeu de validation.\n",
        "\n",
        "    path : str\n",
        "        Chemin du répertoire où charger ou télécharger le jeu de données.\n",
        "\n",
        "    Returns\n",
        "    -------\n",
        "    X : Tensor, shape = (n_observations, 1, hauteur, largeur)\n",
        "        Images originales.\n",
        "    \"\"\"\n",
        "    from torchvision.datasets import MNIST\n",
        "\n",
        "    # Télécharge les données\n",
        "    dataset = MNIST(root=path, download=True, train=train)\n",
        "\n",
        "    # Formate le tenseur\n",
        "    X = torch.unsqueeze(dataset.data / 255, 1)\n",
        "\n",
        "    return X"
      ]
    },
    {
      "cell_type": "markdown",
      "id": "2e468f8c",
      "metadata": {
        "id": "2e468f8c"
      },
      "source": [
        "Il suffit d'appeler cette fonction pour récupérer les jeux d'entraînement et de validation."
      ]
    },
    {
      "cell_type": "code",
      "execution_count": 4,
      "id": "ae3857d4",
      "metadata": {
        "colab": {
          "base_uri": "https://localhost:8080/"
        },
        "id": "ae3857d4",
        "outputId": "f04bd34d-c4b3-4190-8c41-90d726577af0"
      },
      "outputs": [
        {
          "output_type": "stream",
          "name": "stderr",
          "text": [
            "100%|██████████| 9.91M/9.91M [00:02<00:00, 4.81MB/s]\n",
            "100%|██████████| 28.9k/28.9k [00:00<00:00, 131kB/s]\n",
            "100%|██████████| 1.65M/1.65M [00:01<00:00, 1.23MB/s]\n",
            "100%|██████████| 4.54k/4.54k [00:00<00:00, 11.1MB/s]\n"
          ]
        }
      ],
      "source": [
        "X_train_original = load_dataset(train=True)\n",
        "X_val_original = load_dataset(train=False)"
      ]
    },
    {
      "cell_type": "markdown",
      "id": "0fa02739",
      "metadata": {
        "id": "0fa02739"
      },
      "source": [
        "### Question 1\n",
        "\n",
        "Déterminez le nombre d'observations dans les jeux d'entraînement et de validation.\n",
        "Déterminez (par du code) la taille de chaque observation (on admettra que toutes les observations ont la même taille, il suffit donc de calculer la taille d'une seule observation)."
      ]
    },
    {
      "cell_type": "code",
      "execution_count": 20,
      "id": "ce817c01",
      "metadata": {
        "colab": {
          "base_uri": "https://localhost:8080/"
        },
        "id": "ce817c01",
        "outputId": "f4389f0f-a59b-49c4-c761-26a645c50120"
      },
      "outputs": [
        {
          "output_type": "stream",
          "name": "stdout",
          "text": [
            "taille du jeu d'entrainement 60000\n",
            "taille du jeu d'entrainement 10000\n",
            "taille d'une observation torch.Size([28, 28])  soit  784 pixels\n"
          ]
        }
      ],
      "source": [
        "# TODO\n",
        "print(\"taille du jeu d'entrainement\", X_train_original.shape[0])\n",
        "print(\"taille du jeu d'entrainement\", X_val_original.shape[0])\n",
        "\n",
        "print(\"taille d'une observation\", X_train_original[0][0].shape, \" soit \", X_train_original[0][0].shape[0] * X_train_original[0][0].shape[1], \"pixels\")"
      ]
    },
    {
      "cell_type": "markdown",
      "source": [
        "Notre jeu d'entrainement est composé de 60000 images et le jeu d'entrainement de 10000 images. Chaque image est composé de 28*28 pixels soit 784 pixels."
      ],
      "metadata": {
        "id": "2i3Ym1ZuJeuu"
      },
      "id": "2i3Ym1ZuJeuu"
    },
    {
      "cell_type": "markdown",
      "id": "7e95f2fc",
      "metadata": {
        "id": "7e95f2fc"
      },
      "source": [
        "### Question 2\n",
        "\n",
        "Quelles sont les valeurs minimale et maximale des pixels sur le jeu d'entraînement ?"
      ]
    },
    {
      "cell_type": "code",
      "execution_count": 23,
      "id": "1bea2065",
      "metadata": {
        "colab": {
          "base_uri": "https://localhost:8080/"
        },
        "id": "1bea2065",
        "outputId": "d103483f-d6f4-4321-c80b-f47c07183444"
      },
      "outputs": [
        {
          "output_type": "stream",
          "name": "stdout",
          "text": [
            "Valeur minimale des pixels sur le jeu d'entraînement : tensor(0.)\n",
            "Valeur maximale des pixels sur le jeu d'entraînement : tensor(1.)\n",
            "Des valeurs logiques puisque nous travaillons sur des images en noire et blanc. Donc ayant des valeurs allant de 0 à 1.\n"
          ]
        }
      ],
      "source": [
        "print(\"Valeur minimale des pixels sur le jeu d'entraînement :\", torch.min(X_train_original))\n",
        "print(\"Valeur maximale des pixels sur le jeu d'entraînement :\", torch.max(X_train_original))\n",
        "print(\"Des valeurs logiques puisque nous travaillons sur des images en noire et blanc. Donc ayant des valeurs allant de 0 à 1.\")"
      ]
    },
    {
      "cell_type": "markdown",
      "id": "36d2412f",
      "metadata": {
        "id": "36d2412f"
      },
      "source": [
        "Le jeu de données ne contient que les images originales (non-détériorées).\n",
        "Il va donc falloir implémenter notre propre technique de détérioration d'images.\n",
        "Nous allons implémenter quelque chose de simple : chaque pixel est remplacé, avec une probabilité $p$, par un pixel noir (c'est-à-dire un pixel dont la valeur est $0.0$).\n",
        "Une implémentation possible de cette approche est la suivante :\n",
        "\n",
        "1. Générer un tenseur de variables aléatoires uniformes sur l'intervalle $[0, 1]$ de la même forme que le tenseur d'entrées. Pour ce faire, vous pouvez utiliser la fonction [`torch.rand_like()`](https://docs.pytorch.org/docs/stable/generated/torch.rand_like.html).\n",
        "2. Transformer ce tenseur de variables aléatoires uniformes en un masque, c'est-à-dire un tenseur de booléens, indiquant quels éléments du tenseur d'entrée garder : les éléments gardés sont ceux dont la variable aléatoire uniforme est supérieure à $p$.\n",
        "3. Multiplier le tenseur d'entrées par le masque : les éléments pour lesquels le masque vaut `True` sont gardés, et les éléments pour lesquels le masque vaut `False` sont remplacés par $0$.\n",
        "\n",
        "\n",
        "La fonction `deteriorate_images()` définie ci-dessous permet d'effectuer cette détérioration.\n",
        "\n",
        "### Question 3\n",
        "\n",
        "Complétez le code manquant dans la fonction `deteriorate_images()`."
      ]
    },
    {
      "cell_type": "code",
      "execution_count": 35,
      "id": "327fd0d0",
      "metadata": {
        "id": "327fd0d0"
      },
      "outputs": [],
      "source": [
        "def deteriorate_images(images, p=0.5):\n",
        "    \"\"\"Détériore des images.\n",
        "\n",
        "    Parameters\n",
        "    ----------\n",
        "    images : Tensor, shape = (n_images, 1, hauteur, largeur)\n",
        "        Images originales.\n",
        "\n",
        "    p : float, default = 0.5\n",
        "        Probabilité de remplacer chaque pixel par un pixel noir.\n",
        "\n",
        "    Returns\n",
        "    -------\n",
        "    images_masked : Tensor, shape = (n_images, 1, hauteur, largeur)\n",
        "        Images détériorées.\n",
        "    \"\"\"\n",
        "    ### BEGIN TODO ###\n",
        "    t = torch.rand_like(images)\n",
        "    mask = t < p\n",
        "    images_masked = images.clone()\n",
        "    images_masked[mask] = 0.00\n",
        "    ### END TODO\n",
        "    return images_masked"
      ]
    },
    {
      "cell_type": "markdown",
      "id": "3cd983f0",
      "metadata": {
        "id": "3cd983f0"
      },
      "source": [
        "On appelle maintenant la fonction `deteriorate_images()`, avec `p=0.5`, pour créer des images détériorées sur les jeux d'entraînement et de validation :"
      ]
    },
    {
      "cell_type": "code",
      "execution_count": 36,
      "id": "172b01bf",
      "metadata": {
        "id": "172b01bf"
      },
      "outputs": [],
      "source": [
        "X_train_deteriorated = deteriorate_images(X_train_original)\n",
        "X_val_deteriorated = deteriorate_images(X_val_original)"
      ]
    },
    {
      "cell_type": "markdown",
      "id": "a1505356",
      "metadata": {
        "id": "a1505356"
      },
      "source": [
        "La fonction `plot_original_and_deteriorated_images()` définie ci-dessous permet de visualiser cette opération : elle prend en entrée un lot d'images originales, applique la transformation et affiche les images originales et détériorées."
      ]
    },
    {
      "cell_type": "code",
      "execution_count": 40,
      "id": "0d9da5f0",
      "metadata": {
        "id": "0d9da5f0"
      },
      "outputs": [],
      "source": [
        "import matplotlib.pyplot as plt\n",
        "\n",
        "\n",
        "def plot_original_and_deteriorated_images(images_original, images_deteriorated):\n",
        "    \"\"\"Affiche les images originales et les images détériorées.\n",
        "\n",
        "    Parameters\n",
        "    ----------\n",
        "    images_original : Tensor, shape = (n_images, 1, hauteur, largeur)\n",
        "        Images originales.\n",
        "\n",
        "    images_deteriorated : Tensor, shape = (n_images, 1, hauteur, largeur)\n",
        "        Images détériorées.\n",
        "    \"\"\"\n",
        "    # Récupère le nombre d'images\n",
        "    n_images = images_original.shape[0]\n",
        "\n",
        "    # Initialise la figure\n",
        "    plt.figure(figsize=(6.5, 3 * n_images))\n",
        "\n",
        "    # Pour chaque ligne\n",
        "    for row in range(n_images):\n",
        "\n",
        "        # Affiche l'image originale\n",
        "        plt.subplot(n_images, 2, 1 + row * 2)\n",
        "        plt.imshow(images_original[row, 0], cmap=\"gray\", vmin=0.0, vmax=1.0)\n",
        "        plt.title(\"Image originale\")\n",
        "        plt.axis(\"off\");\n",
        "\n",
        "        # Affiche l'image détériorée\n",
        "        plt.subplot(n_images, 2, 2 + row * 2)\n",
        "        plt.imshow(images_deteriorated[row, 0], cmap=\"gray\", vmin=0.0, vmax=1.0)\n",
        "        plt.title(\"Image détériorée\")\n",
        "        plt.axis(\"off\");"
      ]
    },
    {
      "cell_type": "markdown",
      "id": "131c6b01",
      "metadata": {
        "id": "131c6b01"
      },
      "source": [
        "### Question 4\n",
        "\n",
        "Appelez la fonction `plot_original_and_deteriorated_images()` pour afficher quelques images originales et détériorées des jeux d'entraînement et de validation."
      ]
    },
    {
      "cell_type": "code",
      "execution_count": 43,
      "id": "d7097f84",
      "metadata": {
        "colab": {
          "base_uri": "https://localhost:8080/",
          "height": 1000
        },
        "id": "d7097f84",
        "outputId": "6f35f55d-22bc-4190-cb71-a86f6efd40b8"
      },
      "outputs": [
        {
          "output_type": "display_data",
          "data": {
            "text/plain": [
              "<Figure size 650x1800 with 12 Axes>"
            ],
            "image/png": "[encoded data removed]"
          },
          "metadata": {}
        }
      ],
      "source": [
        "# TODO\n",
        "plot_original_and_deteriorated_images(X_train_original[0:6], X_train_deteriorated[0:6])"
      ]
    },
    {
      "cell_type": "code",
      "execution_count": 44,
      "id": "6c3a40f6",
      "metadata": {
        "colab": {
          "base_uri": "https://localhost:8080/",
          "height": 1000
        },
        "id": "6c3a40f6",
        "outputId": "f76592a8-2887-4bcb-97fa-e178081431b3"
      },
      "outputs": [
        {
          "output_type": "display_data",
          "data": {
            "text/plain": [
              "<Figure size 650x1800 with 12 Axes>"
            ],
            "image/png": "[encoded data removed]"
          },
          "metadata": {}
        }
      ],
      "source": [
        "# TODO\n",
        "plot_original_and_deteriorated_images(X_val_original[0:6], X_val_deteriorated[0:6])"
      ]
    },
    {
      "cell_type": "markdown",
      "id": "c0239ca9",
      "metadata": {
        "id": "c0239ca9"
      },
      "source": [
        "Nous allons évaluer la performance des modèles avec l’erreur quadratique moyenne (*mean squared error*) :\n",
        "$$\n",
        "  \\text{MSE} = \\frac{1}{n H W} \\sum_{i=1}^n \\sum_{j=1}^H \\sum_{k=1}^W \\left( X_{i, j, k} - \\hat{X}_{i, j, k} \\right)^2\n",
        "$$\n",
        "où $n$ est le nombre d'images, $H$ est la hauteur (c'est-à-dire le nombre de lignes) et $W$ est la largeur (c'est-à-dire le nombre de colonnes).\n",
        "\n",
        "\n",
        "Un modèle vraiment trivial consiste à ne prédire que des images noires (c'est-à-dire dont tous les pixels sont égaux à $0.0$) :\n",
        "$$\n",
        "    \\forall i, j, k, \\; \\hat{X}_{i, j, k} = 0.0\n",
        "$$\n",
        "\n",
        "### Question 5\n",
        "\n",
        "Calculez les erreurs quadratiques moyennes sur les jeux d'entraînement et de validation pour cette approche. On rappelle que :\n",
        "\n",
        "* l'opérateur *puissance* en Python s'obtient avec deux étoiles : `2.0 ** 3` veut dire $2.0^3$ ; cet opérateur fonctionne également sur les tenseurs et applique la puissance à chaque élément du tenseur ;\n",
        "* on peut calculer la valeur moyenne d'un tenseur avec la méthode [`torch.Tensor.mean()`](https://docs.pytorch.org/docs/stable/generated/torch.Tensor.mean.html) ou la fonction [`torch.mean()`](https://docs.pytorch.org/docs/stable/generated/torch.mean.html)."
      ]
    },
    {
      "cell_type": "code",
      "execution_count": 50,
      "id": "70b6ad63",
      "metadata": {
        "id": "70b6ad63"
      },
      "outputs": [],
      "source": [
        "# TODO\n",
        "def mean_squarred_error (x, x_bar) :\n",
        "  mse = torch.mean((x - x_bar)**2)\n",
        "  return float(mse)\n"
      ]
    },
    {
      "cell_type": "code",
      "source": [
        "# TODO\n",
        "print(\"MSE modèle trivial simple sur le jeu d'entrainement = \", mean_squarred_error(X_train_original, 0))\n",
        "print(\"MSE modèle trivial simple sur le jeu d'évaluation = \", mean_squarred_error(X_val_original, 0))"
      ],
      "metadata": {
        "colab": {
          "base_uri": "https://localhost:8080/"
        },
        "id": "0An7aQl5Qe4n",
        "outputId": "465ffb50-2a0f-44c7-ec76-6f0ccf2e5aff"
      },
      "id": "0An7aQl5Qe4n",
      "execution_count": 57,
      "outputs": [
        {
          "output_type": "stream",
          "name": "stdout",
          "text": [
            "MSE modèle trivial simple sur le jeu d'entrainement =  0.11200257390737534\n",
            "MSE modèle trivial simple sur le jeu d'évaluation =  0.11395809799432755\n"
          ]
        }
      ]
    },
    {
      "cell_type": "markdown",
      "id": "0dc07489",
      "metadata": {
        "id": "0dc07489"
      },
      "source": [
        "Un autre modèle trivial consiste à garder les images détériorées telles quelles.\n",
        "\n",
        "### Question 6\n",
        "\n",
        "Calculez les erreurs quadratiques moyennes sur les jeux d'entraînement et de validation pour cette approche."
      ]
    },
    {
      "cell_type": "code",
      "execution_count": 59,
      "id": "56738060",
      "metadata": {
        "colab": {
          "base_uri": "https://localhost:8080/"
        },
        "id": "56738060",
        "outputId": "fddb30bc-ced6-451a-875f-d13c7d527d6e"
      },
      "outputs": [
        {
          "output_type": "stream",
          "name": "stdout",
          "text": [
            "MSE modèle trivial image détérioré sur le jeu d'entrainement =  0.05598871037364006\n",
            "MSE modèle trivial image détérioré sur le jeu d'évaluation =  0.05701133608818054\n"
          ]
        }
      ],
      "source": [
        "# TODO\n",
        "print(\"MSE modèle trivial image détérioré sur le jeu d'entrainement = \", mean_squarred_error(X_train_original, X_train_deteriorated))\n",
        "print(\"MSE modèle trivial image détérioré sur le jeu d'évaluation = \", mean_squarred_error(X_val_original, X_val_deteriorated))"
      ]
    },
    {
      "cell_type": "markdown",
      "id": "e91a1e1c",
      "metadata": {
        "id": "e91a1e1c"
      },
      "source": [
        "Avant d'entraîner un réseau de neurones, nous allons essayons une approche simple.\n",
        "Nous allons utiliser un noyau de floutage uniforme : on remplace la valeur de chaque pixel par la moyenne uniforme de son pixel et de ses pixels voisins.\n",
        "La fonction `box_blur_convolution()` définie ci-dessous implémente cette approche."
      ]
    },
    {
      "cell_type": "code",
      "execution_count": 52,
      "id": "708dabf5",
      "metadata": {
        "id": "708dabf5"
      },
      "outputs": [],
      "source": [
        "def box_blur_convolution(images_deteriorated, kernel_size=3):\n",
        "    \"\"\"\n",
        "\n",
        "    Parameters\n",
        "    ----------\n",
        "    images_deteriorated : Tensor, shape = (n_images, 1, hauteur, largeur)\n",
        "        Images détériorées.\n",
        "\n",
        "    kernel_size : int, default = 3\n",
        "        Taille du noyau. Doit être un entier impair supérieur ou égal à 3.\n",
        "\n",
        "    Returns\n",
        "    -------\n",
        "    images_convolved : Tensor, shape = (n_images, 1, hauteur, largeur)\n",
        "\n",
        "    \"\"\"\n",
        "    if not (isinstance(kernel_size, int) and (kernel_size > 2) and (kernel_size % 2 == 1)):\n",
        "        raise ValueError(\"'kernel_size' doit être un entier impair supérieur ou égal à 3.\")\n",
        "\n",
        "    kernel = torch.ones(1, 1, kernel_size, kernel_size) / kernel_size ** 2\n",
        "    conv = torch.nn.Conv2d(1, 1, kernel_size, padding=\"same\", bias=False)\n",
        "    conv.weight = torch.nn.Parameter(kernel, requires_grad=False)\n",
        "    images_convolved = conv(images_deteriorated)\n",
        "    return images_convolved"
      ]
    },
    {
      "cell_type": "markdown",
      "id": "1d14bd30",
      "metadata": {
        "id": "1d14bd30"
      },
      "source": [
        "On appelle cette fonction pour appliquer la transformation sur les jeux d'entraînement et de validation :"
      ]
    },
    {
      "cell_type": "code",
      "execution_count": 53,
      "id": "735cbf90",
      "metadata": {
        "id": "735cbf90"
      },
      "outputs": [],
      "source": [
        "X_train_reconstructed = box_blur_convolution(X_train_deteriorated)\n",
        "X_val_reconstructed = box_blur_convolution(X_val_deteriorated)"
      ]
    },
    {
      "cell_type": "markdown",
      "id": "3669bae6",
      "metadata": {
        "id": "3669bae6"
      },
      "source": [
        "### Question 7\n",
        "\n",
        "Calculez les erreurs quadratiques moyennes sur ces deux jeux."
      ]
    },
    {
      "cell_type": "code",
      "execution_count": 60,
      "id": "36358da4",
      "metadata": {
        "colab": {
          "base_uri": "https://localhost:8080/"
        },
        "id": "36358da4",
        "outputId": "d8c89ba5-30ca-48d0-8bae-7f3852411057"
      },
      "outputs": [
        {
          "output_type": "stream",
          "name": "stdout",
          "text": [
            "MSE modèle trivial image reconstruite sur le jeu d'entrainement =  0.04470296576619148\n",
            "MSE modèle trivial image reconstruite sur le jeu d'évaluation =  0.04515676945447922\n"
          ]
        }
      ],
      "source": [
        "# TODO\n",
        "print(\"MSE modèle trivial image reconstruite sur le jeu d'entrainement = \", mean_squarred_error(X_train_original, X_train_reconstructed))\n",
        "print(\"MSE modèle trivial image reconstruite sur le jeu d'évaluation = \", mean_squarred_error(X_val_original, X_val_reconstructed))"
      ]
    },
    {
      "cell_type": "markdown",
      "id": "4f7e2343",
      "metadata": {
        "id": "4f7e2343"
      },
      "source": [
        "On définit la fonction `plot_original_deteriorated_reconstructed_images()` pour afficher des images originales, des images détériorées et des images reconstruites."
      ]
    },
    {
      "cell_type": "code",
      "execution_count": 61,
      "id": "61caab50",
      "metadata": {
        "scrolled": true,
        "id": "61caab50"
      },
      "outputs": [],
      "source": [
        "def plot_original_deteriorated_reconstructed_images(\n",
        "    images_original, images_deteriorated, images_reconstructed\n",
        "):\n",
        "    \"\"\"Affiche les images originales, les images détériorées et les images reconstruites.\n",
        "\n",
        "    Parameters\n",
        "    ----------\n",
        "    images_original : Tensor, shape = (n_images, 1, hauteur, largeur)\n",
        "        Images originales.\n",
        "\n",
        "    images_deteriorated : Tensor, shape = (n_images, 1, hauteur, largeur)\n",
        "        Images détériorées.\n",
        "\n",
        "    images_reconstructed : Tensor, shape = (n_images, 1, hauteur, largeur)\n",
        "        Images reconstruites.\n",
        "    \"\"\"\n",
        "    # Récupère le nombre d'images\n",
        "    n_images = images_original.shape[0]\n",
        "\n",
        "    # Initialise la figure\n",
        "    plt.figure(figsize=(6.5, 3 * n_images))\n",
        "\n",
        "    # Pour chaque ligne\n",
        "    for row in range(n_images):\n",
        "\n",
        "        # Affiche l'image originale\n",
        "        plt.subplot(n_images, 3, 1 + row * 3)\n",
        "        plt.imshow(images_original[row, 0], cmap=\"gray\", vmin=0.0, vmax=1.0)\n",
        "        plt.title(\"Image originale\")\n",
        "        plt.axis(\"off\");\n",
        "\n",
        "        # Affiche l'image détériorée\n",
        "        plt.subplot(n_images, 3, 2 + row * 3)\n",
        "        plt.imshow(images_deteriorated[row, 0], cmap=\"gray\", vmin=0.0, vmax=1.0)\n",
        "        plt.title(\"Image détériorée\")\n",
        "        plt.axis(\"off\");\n",
        "\n",
        "        # Affiche l'image reconstruite\n",
        "        plt.subplot(n_images, 3, 3 + row * 3)\n",
        "        plt.imshow(images_reconstructed[row, 0], cmap=\"gray\", vmin=0.0, vmax=1.0)\n",
        "        plt.title(\"Image reconstruite\")\n",
        "        plt.axis(\"off\");"
      ]
    },
    {
      "cell_type": "markdown",
      "id": "b5f57bf5",
      "metadata": {
        "id": "b5f57bf5"
      },
      "source": [
        "### Question 8\n",
        "\n",
        "Appelez la fonction `plot_original_deteriorated_reconstructed_images()` pour afficher des images originales, des images détériorées et des images reconstruites sur le jeu de validation. Que constatez-vous ?"
      ]
    },
    {
      "cell_type": "code",
      "execution_count": 62,
      "id": "67b1c6e1",
      "metadata": {
        "colab": {
          "base_uri": "https://localhost:8080/",
          "height": 1000
        },
        "id": "67b1c6e1",
        "outputId": "a0defdd7-8c3c-4ce2-a13a-e0e5fa0c84e6"
      },
      "outputs": [
        {
          "output_type": "display_data",
          "data": {
            "text/plain": [
              "<Figure size 650x1800 with 18 Axes>"
            ],
            "image/png": "[encoded data removed]"
          },
          "metadata": {}
        }
      ],
      "source": [
        "# TODO\n",
        "plot_original_deteriorated_reconstructed_images(X_train_original[0:6],X_train_deteriorated[0:6],X_train_reconstructed[0:6])"
      ]
    },
    {
      "cell_type": "markdown",
      "id": "ac82ddf9",
      "metadata": {
        "id": "ac82ddf9"
      },
      "source": [
        "**Réponse** : Sur l'image détériorée on observe bien qu'on a retiré des pixels blancs aléatoirement, notre fonction a donc bien marché. Les chiffres deviennent difficillement discernables. On observe que l'image reconstruite est floutée, mais se rapproche bien de l'image originale on pourrait deviner le chiffre, néanmoins le chiffre n'est clairement pas aussi facilement discernable que l'original."
      ]
    },
    {
      "cell_type": "markdown",
      "id": "c9acd310",
      "metadata": {
        "id": "c9acd310"
      },
      "source": [
        "### Question 9\n",
        "\n",
        "Pour confirmer votre réponse à la question précédente, affichez la distribution des pixels des images originales d'une part et des images reconstruites d'autre part, sur le jeu d'entraînement.\n",
        "Vous pouvez utiliser la fonction [`matplotlib.pyplot.hist()`](https://matplotlib.org/stable/api/_as_gen/matplotlib.pyplot.hist.html)."
      ]
    },
    {
      "cell_type": "code",
      "execution_count": 78,
      "id": "26c0f77b",
      "metadata": {
        "colab": {
          "base_uri": "https://localhost:8080/",
          "height": 517
        },
        "id": "26c0f77b",
        "outputId": "186e81f0-1d32-4725-bf9e-724f8419ca89"
      },
      "outputs": [
        {
          "output_type": "execute_result",
          "data": {
            "text/plain": [
              "(array([593.,  59.,  39.,  33.,  22.,  21.,   4.,   6.,   5.,   2.]),\n",
              " array([0.        , 0.07324618, 0.14649236, 0.21973854, 0.29298472,\n",
              "        0.36623091, 0.43947709, 0.51272327, 0.58596945, 0.65921563,\n",
              "        0.73246181]),\n",
              " <BarContainer object of 10 artists>)"
            ]
          },
          "metadata": {},
          "execution_count": 78
        },
        {
          "output_type": "display_data",
          "data": {
            "text/plain": [
              "<Figure size 640x480 with 1 Axes>"
            ],
            "image/png": "[encoded data removed]"
          },
          "metadata": {}
        }
      ],
      "source": [
        "# TODO\n",
        "pixels_x_train_original = X_train_original[0].flatten().numpy()\n",
        "pixels_x_train_reconstructed = X_train_reconstructed[0].flatten().numpy()\n",
        "plt.hist(pixels_x_train_original, color = \"blue\")\n",
        "plt.hist(pixels_x_train_reconstructed, color = \"red\", alpha = 0.7)"
      ]
    },
    {
      "cell_type": "markdown",
      "id": "484ae9d2",
      "metadata": {
        "id": "484ae9d2"
      },
      "source": [
        "Pour essayer de remédier à ce problème, nous allons normaliser les images pour que la valeur maximale des pixels de chaque image reconstruite soit égale à $1.0$. Pour ce faire, on va simplement diviser chaque pixel d'une image reconstruite par la valeur maximale des pixels de cette image reconsruite.\n",
        "\n",
        "### Question 10\n",
        "\n",
        "1. Appliquez cette transformation aux images reconstruites des jeux d'entraînement et d'évaluation.\n",
        "2. Affichez la nouvelle distribution des pixels sur le jeu d'entraînement.\n",
        "3. Affichez quelques images reconstruites normalisées sur le jeu de validation avec la fonction `plot_original_deteriorated_reconstructed_images()`.\n",
        "4. Calculez les erreurs quadratiques moyennes sur les deux jeux.\n",
        "5. Commentez les résultats obtenus.\n",
        "\n",
        "Pour répondre à la première question, vous pouvez utiliser la fonction [`torch.amax()`](https://docs.pytorch.org/docs/stable/generated/torch.amax.html) ou la méthode [`torch.Tensor.amax()`](https://docs.pytorch.org/docs/stable/generated/torch.Tensor.amax.html).\n",
        "Lisez la documentation, notamment pour les paramètres `dim` et `keepdim`.\n",
        "Il est possible de répondre à la question sans boucle `for` grâce au [*broadcasting*](https://docs.pytorch.org/docs/stable/notes/broadcasting.html)."
      ]
    },
    {
      "cell_type": "code",
      "execution_count": 80,
      "id": "c7bf3c52",
      "metadata": {
        "id": "c7bf3c52"
      },
      "outputs": [],
      "source": [
        "# TODO\n",
        "X_train_reconstructed_normalized = X_train_reconstructed / torch.amax(X_train_reconstructed, dim=(1,2,3), keepdim=True)\n",
        "X_val_reconstructed_normalized = X_val_reconstructed / torch.amax(X_val_reconstructed, dim=(1,2,3), keepdim=True)"
      ]
    },
    {
      "cell_type": "code",
      "execution_count": 91,
      "id": "983d9d3c",
      "metadata": {
        "colab": {
          "base_uri": "https://localhost:8080/",
          "height": 617
        },
        "id": "983d9d3c",
        "outputId": "51b94216-05d6-4741-df47-364b91a24132"
      },
      "outputs": [
        {
          "output_type": "execute_result",
          "data": {
            "text/plain": [
              "<function matplotlib.pyplot.show(close=None, block=None)>"
            ],
            "text/html": [
              "<div style=\"max-width:800px; border: 1px solid var(--colab-border-color);\"><style>\n",
              "      pre.function-repr-contents {\n",
              "        overflow-x: auto;\n",
              "        padding: 8px 12px;\n",
              "        max-height: 500px;\n",
              "      }\n",
              "\n",
              "      pre.function-repr-contents.function-repr-contents-collapsed {\n",
              "        cursor: pointer;\n",
              "        max-height: 100px;\n",
              "      }\n",
              "    </style>\n",
              "    <pre style=\"white-space: initial; background:\n",
              "         var(--colab-secondary-surface-color); padding: 8px 12px;\n",
              "         border-bottom: 1px solid var(--colab-border-color);\"><b>matplotlib.pyplot.show</b><br/>def show(*args, **kwargs) -&gt; None</pre><pre class=\"function-repr-contents function-repr-contents-collapsed\" style=\"\"><a class=\"filepath\" style=\"display:none\" href=\"#\">/usr/local/lib/python3.12/dist-packages/matplotlib/pyplot.py</a>Display all open figures.\n",
              "\n",
              "Parameters\n",
              "----------\n",
              "block : bool, optional\n",
              "    Whether to wait for all figures to be closed before returning.\n",
              "\n",
              "    If `True` block and run the GUI main loop until all figure windows\n",
              "    are closed.\n",
              "\n",
              "    If `False` ensure that all figure windows are displayed and return\n",
              "    immediately.  In this case, you are responsible for ensuring\n",
              "    that the event loop is running to have responsive figures.\n",
              "\n",
              "    Defaults to True in non-interactive mode and to False in interactive\n",
              "    mode (see `.pyplot.isinteractive`).\n",
              "\n",
              "See Also\n",
              "--------\n",
              "ion : Enable interactive mode, which shows / updates the figure after\n",
              "      every plotting command, so that calling ``show()`` is not necessary.\n",
              "ioff : Disable interactive mode.\n",
              "savefig : Save the figure to an image file instead of showing it on screen.\n",
              "\n",
              "Notes\n",
              "-----\n",
              "**Saving figures to file and showing a window at the same time**\n",
              "\n",
              "If you want an image file as well as a user interface window, use\n",
              "`.pyplot.savefig` before `.pyplot.show`. At the end of (a blocking)\n",
              "``show()`` the figure is closed and thus unregistered from pyplot. Calling\n",
              "`.pyplot.savefig` afterwards would save a new and thus empty figure. This\n",
              "limitation of command order does not apply if the show is non-blocking or\n",
              "if you keep a reference to the figure and use `.Figure.savefig`.\n",
              "\n",
              "**Auto-show in jupyter notebooks**\n",
              "\n",
              "The jupyter backends (activated via ``%matplotlib inline``,\n",
              "``%matplotlib notebook``, or ``%matplotlib widget``), call ``show()`` at\n",
              "the end of every cell by default. Thus, you usually don&#x27;t have to call it\n",
              "explicitly there.</pre>\n",
              "      <script>\n",
              "      if (google.colab.kernel.accessAllowed && google.colab.files && google.colab.files.view) {\n",
              "        for (const element of document.querySelectorAll('.filepath')) {\n",
              "          element.style.display = 'block'\n",
              "          element.onclick = (event) => {\n",
              "            event.preventDefault();\n",
              "            event.stopPropagation();\n",
              "            google.colab.files.view(element.textContent, 569);\n",
              "          };\n",
              "        }\n",
              "      }\n",
              "      for (const element of document.querySelectorAll('.function-repr-contents')) {\n",
              "        element.onclick = (event) => {\n",
              "          event.preventDefault();\n",
              "          event.stopPropagation();\n",
              "          element.classList.toggle('function-repr-contents-collapsed');\n",
              "        };\n",
              "      }\n",
              "      </script>\n",
              "      </div>"
            ]
          },
          "metadata": {},
          "execution_count": 91
        },
        {
          "output_type": "display_data",
          "data": {
            "text/plain": [
              "<Figure size 640x480 with 1 Axes>"
            ],
            "image/png": "[encoded data removed]"
          },
          "metadata": {}
        }
      ],
      "source": [
        "# TODO\n",
        "import matplotlib.pyplot as plt\n",
        "import numpy as np\n",
        "\n",
        "pixel_original = X_train_original.ravel()\n",
        "pixel_reconstructed = X_val_reconstructed_normalized.ravel()\n",
        "\n",
        "\n",
        "plt.hist(pixel_original, bins=50, alpha=1, label=\"originales\", color=\"blue\", density=True)\n",
        "plt.hist(pixel_reconstructed, bins=50, alpha=0.6, label=\"reconstruites\", color=\"yellow\", density=True)\n",
        "plt.xlabel(\"Valeur du pixel\")\n",
        "plt.ylabel(\"Densité\")\n",
        "plt.legend()\n",
        "plt.show"
      ]
    },
    {
      "cell_type": "code",
      "execution_count": 92,
      "id": "6dc978bb",
      "metadata": {
        "colab": {
          "base_uri": "https://localhost:8080/",
          "height": 1000
        },
        "id": "6dc978bb",
        "outputId": "cb0bee3c-4a9d-4f72-cc9e-90b8d6555c39"
      },
      "outputs": [
        {
          "output_type": "display_data",
          "data": {
            "text/plain": [
              "<Figure size 650x1500 with 15 Axes>"
            ],
            "image/png": "[encoded data removed]"
          },
          "metadata": {}
        }
      ],
      "source": [
        "# TODO\n",
        "plot_original_deteriorated_reconstructed_images(X_train_original[:5], X_train_deteriorated[:5], X_train_reconstructed_normalized[:5])"
      ]
    },
    {
      "cell_type": "code",
      "execution_count": 94,
      "id": "7fed9427",
      "metadata": {
        "colab": {
          "base_uri": "https://localhost:8080/"
        },
        "id": "7fed9427",
        "outputId": "0b7a3082-7423-4402-e64c-ac3f12fb939c"
      },
      "outputs": [
        {
          "output_type": "stream",
          "name": "stdout",
          "text": [
            "erreur quadratique train reconstruit normalisé 0.03152918443083763\n",
            "erreur quadratique val reconstruit normalisé 0.03194475919008255\n"
          ]
        }
      ],
      "source": [
        "# TODO\n",
        "print(\"erreur quadratique train reconstruit normalisé\", mean_squarred_error(X_train_original, X_train_reconstructed_normalized))\n",
        "print(\"erreur quadratique val reconstruit normalisé\", mean_squarred_error(X_val_original, X_val_reconstructed_normalized))"
      ]
    },
    {
      "cell_type": "markdown",
      "id": "a5d478ba",
      "metadata": {
        "id": "a5d478ba"
      },
      "source": [
        "**Réponse** : Les résultats sont meilleurs avec une MSE qui se rapproche de 0 cependant les images reconstruites restent tout de même floues et pas totaltement reconstruites."
      ]
    },
    {
      "cell_type": "markdown",
      "id": "570fac56",
      "metadata": {
        "id": "570fac56"
      },
      "source": [
        "Nous allons maintenant essayer une autre approche un peu plus avancée pour rendre la distribution des pixels des images reconstruites plus proche de celles des pixels des images originales.\n",
        "Pour cela, nous allons utiliser la **transformation par quantiles**.\n",
        "\n",
        "Sur le jeu d'entraînement, on apprend :\n",
        "* $T_1$ : la transformation qui passe de la distribution des pixels des images originales à une distribution uniforme, et\n",
        "* $T_2$ : la transformation qui passe de la distribution des pixels des images reconstruites à une distribution uniforme.\n",
        "\n",
        "Ensuite, pour transformer les images reconstruites afin que la distribution de leurs pixels suive la distribution des pixels des images originales, on applique la transformation $T_1^{-1} \\circ T_2$ aux images reconstruites.\n",
        "\n",
        "Le code ci-dessous applique ces transformations sur les jeux d'entraînement et d'évaluation :"
      ]
    },
    {
      "cell_type": "code",
      "execution_count": 107,
      "id": "ce799684",
      "metadata": {
        "id": "ce799684"
      },
      "outputs": [],
      "source": [
        "from sklearn.preprocessing import QuantileTransformer\n",
        "\n",
        "\n",
        "qt_train_original = QuantileTransformer(n_quantiles=100, subsample=None)\n",
        "qt_train_reconstructed = QuantileTransformer(n_quantiles=100, subsample=None)\n",
        "\n",
        "qt_train_original.fit(X_train_original.ravel().view(-1, 1))\n",
        "qt_train_reconstructed.fit(X_train_reconstructed.ravel().view(-1, 1))\n",
        "\n",
        "X_train_reconstructed_quantile = qt_train_original.inverse_transform(\n",
        "    qt_train_reconstructed.transform(X_train_reconstructed.ravel().view(-1, 1))\n",
        ").reshape(X_train_reconstructed.shape)\n",
        "\n",
        "X_val_reconstructed_quantile = qt_train_original.inverse_transform(\n",
        "    qt_train_reconstructed.transform(X_val_reconstructed.ravel().view(-1, 1))\n",
        ").reshape(X_val_reconstructed.shape)"
      ]
    },
    {
      "cell_type": "markdown",
      "id": "be365ca7",
      "metadata": {
        "id": "be365ca7"
      },
      "source": [
        "### Question 11\n",
        "\n",
        "1. Affichez la nouvelle distribution des pixels sur le jeu d'entraînement.\n",
        "2. Affichez quelques images reconstruites transformées sur le jeu de validation avec la fonction `plot_original_deteriorated_reconstructed_images()`.\n",
        "3. Calculez les erreurs quadratiques moyennes sur les deux jeux.\n",
        "4. Commentez les résultats obtenus."
      ]
    },
    {
      "cell_type": "code",
      "execution_count": 108,
      "id": "470489e0",
      "metadata": {
        "colab": {
          "base_uri": "https://localhost:8080/",
          "height": 617
        },
        "id": "470489e0",
        "outputId": "af8373a8-2618-4586-f1ed-a11b0a2f7692"
      },
      "outputs": [
        {
          "output_type": "execute_result",
          "data": {
            "text/plain": [
              "<function matplotlib.pyplot.show(close=None, block=None)>"
            ],
            "text/html": [
              "<div style=\"max-width:800px; border: 1px solid var(--colab-border-color);\"><style>\n",
              "      pre.function-repr-contents {\n",
              "        overflow-x: auto;\n",
              "        padding: 8px 12px;\n",
              "        max-height: 500px;\n",
              "      }\n",
              "\n",
              "      pre.function-repr-contents.function-repr-contents-collapsed {\n",
              "        cursor: pointer;\n",
              "        max-height: 100px;\n",
              "      }\n",
              "    </style>\n",
              "    <pre style=\"white-space: initial; background:\n",
              "         var(--colab-secondary-surface-color); padding: 8px 12px;\n",
              "         border-bottom: 1px solid var(--colab-border-color);\"><b>matplotlib.pyplot.show</b><br/>def show(*args, **kwargs) -&gt; None</pre><pre class=\"function-repr-contents function-repr-contents-collapsed\" style=\"\"><a class=\"filepath\" style=\"display:none\" href=\"#\">/usr/local/lib/python3.12/dist-packages/matplotlib/pyplot.py</a>Display all open figures.\n",
              "\n",
              "Parameters\n",
              "----------\n",
              "block : bool, optional\n",
              "    Whether to wait for all figures to be closed before returning.\n",
              "\n",
              "    If `True` block and run the GUI main loop until all figure windows\n",
              "    are closed.\n",
              "\n",
              "    If `False` ensure that all figure windows are displayed and return\n",
              "    immediately.  In this case, you are responsible for ensuring\n",
              "    that the event loop is running to have responsive figures.\n",
              "\n",
              "    Defaults to True in non-interactive mode and to False in interactive\n",
              "    mode (see `.pyplot.isinteractive`).\n",
              "\n",
              "See Also\n",
              "--------\n",
              "ion : Enable interactive mode, which shows / updates the figure after\n",
              "      every plotting command, so that calling ``show()`` is not necessary.\n",
              "ioff : Disable interactive mode.\n",
              "savefig : Save the figure to an image file instead of showing it on screen.\n",
              "\n",
              "Notes\n",
              "-----\n",
              "**Saving figures to file and showing a window at the same time**\n",
              "\n",
              "If you want an image file as well as a user interface window, use\n",
              "`.pyplot.savefig` before `.pyplot.show`. At the end of (a blocking)\n",
              "``show()`` the figure is closed and thus unregistered from pyplot. Calling\n",
              "`.pyplot.savefig` afterwards would save a new and thus empty figure. This\n",
              "limitation of command order does not apply if the show is non-blocking or\n",
              "if you keep a reference to the figure and use `.Figure.savefig`.\n",
              "\n",
              "**Auto-show in jupyter notebooks**\n",
              "\n",
              "The jupyter backends (activated via ``%matplotlib inline``,\n",
              "``%matplotlib notebook``, or ``%matplotlib widget``), call ``show()`` at\n",
              "the end of every cell by default. Thus, you usually don&#x27;t have to call it\n",
              "explicitly there.</pre>\n",
              "      <script>\n",
              "      if (google.colab.kernel.accessAllowed && google.colab.files && google.colab.files.view) {\n",
              "        for (const element of document.querySelectorAll('.filepath')) {\n",
              "          element.style.display = 'block'\n",
              "          element.onclick = (event) => {\n",
              "            event.preventDefault();\n",
              "            event.stopPropagation();\n",
              "            google.colab.files.view(element.textContent, 569);\n",
              "          };\n",
              "        }\n",
              "      }\n",
              "      for (const element of document.querySelectorAll('.function-repr-contents')) {\n",
              "        element.onclick = (event) => {\n",
              "          event.preventDefault();\n",
              "          event.stopPropagation();\n",
              "          element.classList.toggle('function-repr-contents-collapsed');\n",
              "        };\n",
              "      }\n",
              "      </script>\n",
              "      </div>"
            ]
          },
          "metadata": {},
          "execution_count": 108
        },
        {
          "output_type": "display_data",
          "data": {
            "text/plain": [
              "<Figure size 640x480 with 1 Axes>"
            ],
            "image/png": "[encoded data removed]"
          },
          "metadata": {}
        }
      ],
      "source": [
        "# TODO\n",
        "pixel_original = X_train_original.ravel()\n",
        "pixel_reconstructed = X_train_reconstructed_quantile.ravel()\n",
        "\n",
        "\n",
        "plt.hist(pixel_original, bins=50, alpha=0.9, label=\"originales\", color=\"blue\", density=True)\n",
        "plt.hist(pixel_reconstructed, bins=50, alpha=0.6, label=\"reconstruites\", color=\"yellow\", density=True)\n",
        "plt.xlabel(\"Valeur du pixel\")\n",
        "plt.ylabel(\"Densité\")\n",
        "plt.legend()\n",
        "plt.show"
      ]
    },
    {
      "cell_type": "code",
      "execution_count": 109,
      "id": "75f3e6fa",
      "metadata": {
        "colab": {
          "base_uri": "https://localhost:8080/",
          "height": 1000
        },
        "id": "75f3e6fa",
        "outputId": "e7b464ee-ab26-4e89-a2a4-948d0f6395d1"
      },
      "outputs": [
        {
          "output_type": "display_data",
          "data": {
            "text/plain": [
              "<Figure size 650x1500 with 15 Axes>"
            ],
            "image/png": "[encoded data removed]"
          },
          "metadata": {}
        }
      ],
      "source": [
        "# TODO\n",
        "plot_original_deteriorated_reconstructed_images(X_train_original[:5], X_train_deteriorated[:5], X_train_reconstructed_quantile[:5])"
      ]
    },
    {
      "cell_type": "code",
      "execution_count": 110,
      "id": "9deb01ff",
      "metadata": {
        "colab": {
          "base_uri": "https://localhost:8080/"
        },
        "id": "9deb01ff",
        "outputId": "1d25a203-213d-4684-a4bf-f1501282b765"
      },
      "outputs": [
        {
          "output_type": "stream",
          "name": "stderr",
          "text": [
            "/tmp/ipython-input-1035630328.py:3: DeprecationWarning: __array_wrap__ must accept context and return_scalar arguments (positionally) in the future. (Deprecated NumPy 2.0)\n",
            "  mse = torch.mean((x - x_bar)**2)\n"
          ]
        },
        {
          "output_type": "stream",
          "name": "stdout",
          "text": [
            "mse train reconstruit quantile : 0.026425307597846098\n",
            "mse val reconstruit quantile : 0.0263102850880625\n"
          ]
        }
      ],
      "source": [
        "# TODO\n",
        "print(\"mse train reconstruit quantile :\",mean_squarred_error(X_train_original, X_train_reconstructed_quantile))\n",
        "print(\"mse val reconstruit quantile :\",mean_squarred_error(X_val_original, X_val_reconstructed_quantile))"
      ]
    },
    {
      "cell_type": "markdown",
      "id": "69209ba0",
      "metadata": {
        "id": "69209ba0"
      },
      "source": [
        "**Réponse** : La mse s'améliore encore, la densité des reconstruit est proche des originales. Les images reste encore un peu flou et pas totalement reconstruites"
      ]
    },
    {
      "cell_type": "markdown",
      "id": "35ea1305",
      "metadata": {
        "id": "35ea1305"
      },
      "source": [
        "Nous allons maintenant essayer une approche par réseaux de neurones convolutifs.\n",
        "\n",
        "### Question 12\n",
        "\n",
        "Créez les *dataloaders* pour les jeux d'entraînement et de validation en utilisant la classe [`torch.utils.data.DataLoader()`](https://docs.pytorch.org/docs/stable/data.html#torch.utils.data.DataLoader) avec des lots de taille $32$. N'oubliez pas de mélanger (*shuffle*) les observations pour le jeu d'entraînement, mais pas pour le jeu de validation. Pour créer les jeux de données, utiliser la classe [`torch.utils.data.TensorDataset()`](https://docs.pytorch.org/docs/stable/data.html#torch.utils.data.TensorDataset). **Chaque jeu de données doit contenir à la fois les images détériorées et les images originales**."
      ]
    },
    {
      "cell_type": "code",
      "execution_count": 111,
      "id": "8ef54b20",
      "metadata": {
        "id": "8ef54b20"
      },
      "outputs": [],
      "source": [
        "from torch.utils.data import DataLoader, TensorDataset\n",
        "\n",
        "dataset_train = TensorDataset(X_train_deteriorated, X_train_original)\n",
        "dataset_val = TensorDataset(X_val_deteriorated, X_val_original)\n",
        "\n",
        "dataloader_train = DataLoader(dataset_train, batch_size=32, shuffle=True)\n",
        "dataloader_val = DataLoader(dataset_val, batch_size=32)"
      ]
    },
    {
      "cell_type": "markdown",
      "id": "84a20c50",
      "metadata": {
        "id": "84a20c50"
      },
      "source": [
        "## Architecture"
      ]
    },
    {
      "cell_type": "markdown",
      "id": "69747852",
      "metadata": {
        "id": "69747852"
      },
      "source": [
        "Nous allons utiliser une architecture de type auto-encodeur, composée d'un encodeur et d'un décodeur.\n",
        "\n",
        "L'encodeur aura l'architecture séquentielle suivante :\n",
        "\n",
        "* Convolution en deux dimensions avec $32$ canaux en sortie, un noyau de taille $3 \\times 3$ et du rembourrage (*padding*) de $1$.\n",
        "* Fonction d'activation ReLU.\n",
        "* Regroupement par le maximum avec un noyau de taille $2 \\times 2$.\n",
        "* Convolution en deux dimensions avec $16$ canaux en sortie, un noyau de taille $3 \\times 3$ et du rembourrage (*padding*) de $1$.\n",
        "* Fonction d'activation ReLU.\n",
        "* Regroupement par le maximum avec un noyau de taille $2 \\times 2$.\n",
        "* Convolution en deux dimensions avec $8$ canaux en sorties, un noyau de taille $3 \\times 3$ et du rembourrage (*padding*) de $1$.\n",
        "* Fonction d'activation ReLU.\n",
        "* Regroupement par le maximum avec un noyau de taille $2 \\times 2$.\n",
        "\n",
        "Le décodeur aura l'architecture séquentielle suivante :\n",
        "\n",
        "* Convolution transposée avec $8$ canaux en sortie, un noyau de taille $3 \\times 3$ et un pas (*stride*) de taille $2$.\n",
        "* Fonction d'activation ReLU.\n",
        "\n",
        "* Convolution transposée avec $16$ canaux en sortie, un noyau de taille $2 \\times 2$ et un pas (*stride*) de taille $2$.\n",
        "* Fonction d'activation ReLU.\n",
        "\n",
        "* Convolution transposée avec $32$ canaux en sortie, un noyau de taille $2 \\times 2$ et un pas (*stride*) de taille $2$.\n",
        "* Fonction d'activation ReLU.\n",
        "\n",
        "* Convolution avec $1$ canal en sortie, un noyau de taille $3 \\times 3$ et du rembourrage (*padding*) de $1$.\n",
        "* Fonction d'activation sigmoïde.\n",
        "\n",
        "Voici les liens vers les documentations des classes pertinentes :\n",
        "[`torch.nn.Conv2d()`](https://pytorch.org/docs/stable/generated/torch.nn.Conv2d.html),\n",
        "[`torch.nn.ReLU()`](https://pytorch.org/docs/stable/generated/torch.nn.ReLU.html),\n",
        "[`torch.nn.MaxPool2d()`](https://pytorch.org/docs/stable/generated/torch.nn.MaxPool2d.html),\n",
        "[`torch.nn.ConvTranspose2d()`](https://pytorch.org/docs/stable/generated/torch.nn.ConvTranspose2d.html) et\n",
        "[`torch.nn.Sigmoid()`](https://pytorch.org/docs/stable/generated/torch.nn.Sigmoid.html).\n",
        "\n",
        "        \n",
        "### Question 13\n",
        "\n",
        "Complétez le code manquant dans les méthodes `__init__()`, `forward()`, `step()` et `configure_optimizers()` de la classe `DenoisingAutoencoder()` avec les informations suivantes :\n",
        "* `__init__()` : il faut définir la fonction de perte (`self.loss`) : on utilisera l'erreur quadratique moyenne ; il faut initialiser toutes les couches.\n",
        "* `forward()` : il faut définir la passe avant, c'est-à-dire comment passer des entrées (les images détériorées) aux sorties (les images reconstruites).\n",
        "* `step()` : étant donné un lot d'observations (`batch`), il faut :\n",
        "    + récupérer les entrées (les images détériorées) et les vraies sorties (les images originales),\n",
        "    + faire une passe avant pour récupérer les images reconstruites,\n",
        "    + calculer la fonction de coût entre les images reconstruites et les images originales (`loss`).\n",
        "* `configure_optimizers()` : on utilisera l'algorithme d'optimisation *Adam* avec les valeurs par défaut pour ses hyperparamètres."
      ]
    },
    {
      "cell_type": "code",
      "execution_count": 1,
      "id": "e2dac183",
      "metadata": {
        "colab": {
          "base_uri": "https://localhost:8080/",
          "height": 384
        },
        "id": "e2dac183",
        "outputId": "66a9b96d-4347-4531-ac41-8ff2245efed6"
      },
      "outputs": [
        {
          "output_type": "error",
          "ename": "ModuleNotFoundError",
          "evalue": "No module named 'lightning'",
          "traceback": [
            "\u001b[0;31m---------------------------------------------------------------------------\u001b[0m",
            "\u001b[0;31mModuleNotFoundError\u001b[0m                       Traceback (most recent call last)",
            "\u001b[0;32m/tmp/ipython-input-2853836208.py\u001b[0m in \u001b[0;36m<cell line: 0>\u001b[0;34m()\u001b[0m\n\u001b[0;32m----> 1\u001b[0;31m \u001b[0;32mimport\u001b[0m \u001b[0mlightning\u001b[0m \u001b[0;32mas\u001b[0m \u001b[0mL\u001b[0m\u001b[0;34m\u001b[0m\u001b[0;34m\u001b[0m\u001b[0m\n\u001b[0m\u001b[1;32m      2\u001b[0m \u001b[0;34m\u001b[0m\u001b[0m\n\u001b[1;32m      3\u001b[0m \u001b[0;34m\u001b[0m\u001b[0m\n\u001b[1;32m      4\u001b[0m \u001b[0;32mclass\u001b[0m \u001b[0mDenoisingAutoencoder\u001b[0m\u001b[0;34m(\u001b[0m\u001b[0mL\u001b[0m\u001b[0;34m.\u001b[0m\u001b[0mLightningModule\u001b[0m\u001b[0;34m)\u001b[0m\u001b[0;34m:\u001b[0m\u001b[0;34m\u001b[0m\u001b[0;34m\u001b[0m\u001b[0m\n\u001b[1;32m      5\u001b[0m \u001b[0;34m\u001b[0m\u001b[0m\n",
            "\u001b[0;31mModuleNotFoundError\u001b[0m: No module named 'lightning'",
            "",
            "\u001b[0;31m---------------------------------------------------------------------------\u001b[0;32m\nNOTE: If your import is failing due to a missing package, you can\nmanually install dependencies using either !pip or !apt.\n\nTo view examples of installing some common dependencies, click the\n\"Open Examples\" button below.\n\u001b[0;31m---------------------------------------------------------------------------\u001b[0m\n"
          ],
          "errorDetails": {
            "actions": [
              {
                "action": "open_url",
                "actionText": "Open Examples",
                "url": "/notebooks/snippets/importing_libraries.ipynb"
              }
            ]
          }
        }
      ],
      "source": [
        "import lightning as L\n",
        "\n",
        "\n",
        "class DenoisingAutoencoder(L.LightningModule):\n",
        "\n",
        "    def __init__(self):\n",
        "        \"\"\"Constructeur.\n",
        "\n",
        "        Dans le constructeur, on exécute le constructeur de la clase mère et on définit\n",
        "        toutes les couches et fonctions d'activation de notre réseau de neurones.\n",
        "        \"\"\"\n",
        "        super().__init__()  # Toujours exécuter le constructeur de la classe mère\n",
        "\n",
        "        ### BEGIN TODO ###\n",
        "        # Initialisation de la fonction de perte\n",
        "        self.loss = torch.nn.MSELoss()\n",
        "\n",
        "        # Initialisation de toutes les couches\n",
        "        self.sequential = torch.nn.Sequential(\n",
        "            torch.nn.Conv2d(1, 32, kernel_size = 3, padding=1),\n",
        "            torch.nn.ReLU(),\n",
        "            torch.nn.MaxPool2d(2),\n",
        "            torch.nn.Conv2d(32, 16, kernel_size = 3, padding=1),\n",
        "            torch.nn.ReLU(),\n",
        "            torch.nn.MaxPool2d(2),\n",
        "            torch.nn.Conv2d(16, 8, kernel_size = 3, padding=1),\n",
        "            torch.nn.ReLU(),\n",
        "            torch.nn.MaxPool2d(2),\n",
        "            torch.nn.ConvTranspose2d(8, 8, kernel_size=3, stride = 2),\n",
        "            torch.nn.ReLU(),\n",
        "            torch.nn.ConvTranspose2d(8, 16, kernel_size=2, stride = 2),\n",
        "            torch.nn.ReLU(),\n",
        "            torch.nn.ConvTranspose2d(16, 32, kernel_size=2, stride = 2),\n",
        "            torch.nn.ReLU(),\n",
        "            torch.nn.Conv2d(32, 1, kernel_size = 3, padding=1),\n",
        "            torch.nn.Sigmoid()\n",
        "        )\n",
        "        #### END TODO ####\n",
        "\n",
        "    def forward(self, X_deteriorated):\n",
        "        \"\"\"Passe avant\n",
        "\n",
        "        Parameters\n",
        "        ----------\n",
        "        X_deteriorated : Tensor, shape = (taille_lot, 1, hauteur, largeur)\n",
        "            Images détériorées.\n",
        "\n",
        "        Returns\n",
        "        -------\n",
        "        X_predicted : Tensor, shape = (taille_lot, 1, hauteur, largeur)\n",
        "            Images prédites.\n",
        "        \"\"\"\n",
        "        ### BEGIN TODO ###\n",
        "        X_predicted = self.sequential(X_deteriorated)\n",
        "\n",
        "        #### END TODO ####\n",
        "        return X_predicted\n",
        "\n",
        "    def step(self, batch, dataset):\n",
        "        \"\"\"Effectue une étape.\n",
        "\n",
        "        Une étape consiste à passer d'un lot d'images (l'argument X)\n",
        "        à l'évaluation de la fonction de coût pour ce lot d'observations.\n",
        "\n",
        "        Parameters\n",
        "        ----------\n",
        "        batch : list[Tensor]\n",
        "            Lot d'observations.\n",
        "\n",
        "        dataset : {\"training\", \"validation\"}\n",
        "            Jeu de données utilisé.\n",
        "\n",
        "        Returns\n",
        "        -------\n",
        "        loss : Tensor, shape = (1,)\n",
        "            La fonction de coût pour ce lot d'observations.\n",
        "        \"\"\"\n",
        "        ### BEGIN TODO ###\n",
        "        X, y = batch\n",
        "        y_pred = self(X)\n",
        "        loss = self.loss(y_pred, y)\n",
        "\n",
        "        #### END TODO ###\n",
        "\n",
        "        if dataset == \"training\":\n",
        "            name = \"train\"\n",
        "            bar_step = True\n",
        "        else:\n",
        "            name = \"val\"\n",
        "            bar_step = False\n",
        "\n",
        "        self.log(f\"loss_{name}\", loss, prog_bar=bar_step, on_step=bar_step, on_epoch=True)\n",
        "\n",
        "        return loss\n",
        "\n",
        "    def training_step(self, batch):\n",
        "        \"\"\"Effectue une étape d'entraînement.\"\"\"\n",
        "        return self.step(batch, \"training\")\n",
        "\n",
        "    def validation_step(self, batch):\n",
        "        \"\"\"Effectue une étape de validation.\"\"\"\n",
        "        return self.step(batch, \"validation\")\n",
        "\n",
        "    def on_train_start(self):\n",
        "        \"\"\"Code exécuté au début de l'entraînement.\"\"\"\n",
        "        string = f\"Version {self.trainer.logger.version}\"\n",
        "        print(f\"{string}\\n{'=' * len(string)}\\n\")\n",
        "\n",
        "    def on_train_epoch_end(self):\n",
        "        \"\"\"Code exécuté à la fin de chaque époque d'entraînement.\"\"\"\n",
        "        metrics = self.trainer.callback_metrics\n",
        "        string = (f\"\"\"\n",
        "            Époque {self.trainer.current_epoch + 1} / {self.trainer.max_epochs}\n",
        "            ------------------------------------\n",
        "            |     Jeu      | Fonction de perte |\n",
        "            | ------------ | ----------------- |\n",
        "            | Entraînement |{metrics['loss_train'].item():^19.5f}|\n",
        "            |  Validation  |{metrics['loss_val'].item():^19.5f}|\n",
        "            ------------------------------------\n",
        "        \"\"\")\n",
        "        string = '\\n'.join([line.strip() for line in string.strip().split('\\n')])\n",
        "        print(string, '\\n')\n",
        "\n",
        "    def configure_optimizers(self):\n",
        "        \"\"\"Configure l'algorithme d'optimisation à utiliser.\"\"\"\n",
        "        ### BEGIN TODO ###\n",
        "        optimizer = torch.optim.Adam(self.parameters())\n",
        "        #### END TODO ####\n",
        "        return optimizer"
      ]
    },
    {
      "cell_type": "markdown",
      "id": "10adda94",
      "metadata": {
        "id": "10adda94"
      },
      "source": [
        "### Question 14\n",
        "\n",
        "Affichez un résumé de votre architecture. Combien de paramètres entraînables a-t-elle ?"
      ]
    },
    {
      "cell_type": "code",
      "execution_count": 113,
      "id": "8cc79ebe",
      "metadata": {
        "colab": {
          "base_uri": "https://localhost:8080/"
        },
        "id": "8cc79ebe",
        "outputId": "e5fa9164-fabf-413c-c9b5-d06f6b181f09"
      },
      "outputs": [
        {
          "output_type": "execute_result",
          "data": {
            "text/plain": [
              "==========================================================================================\n",
              "Layer (type:depth-idx)                   Output Shape              Param #\n",
              "==========================================================================================\n",
              "DenoisingAutoencoder                     [1, 28, 28]               --\n",
              "├─Sequential: 1-1                        [1, 28, 28]               --\n",
              "│    └─Conv2d: 2-1                       [32, 28, 28]              320\n",
              "│    └─ReLU: 2-2                         [32, 28, 28]              --\n",
              "│    └─MaxPool2d: 2-3                    [32, 14, 14]              --\n",
              "│    └─Conv2d: 2-4                       [16, 14, 14]              4,624\n",
              "│    └─ReLU: 2-5                         [16, 14, 14]              --\n",
              "│    └─MaxPool2d: 2-6                    [16, 7, 7]                --\n",
              "│    └─Conv2d: 2-7                       [8, 7, 7]                 1,160\n",
              "│    └─ReLU: 2-8                         [8, 7, 7]                 --\n",
              "│    └─MaxPool2d: 2-9                    [8, 3, 3]                 --\n",
              "│    └─ConvTranspose2d: 2-10             [8, 7, 7]                 584\n",
              "│    └─ReLU: 2-11                        [8, 7, 7]                 --\n",
              "│    └─ConvTranspose2d: 2-12             [16, 14, 14]              528\n",
              "│    └─ReLU: 2-13                        [16, 14, 14]              --\n",
              "│    └─ConvTranspose2d: 2-14             [32, 28, 28]              2,080\n",
              "│    └─ReLU: 2-15                        [32, 28, 28]              --\n",
              "│    └─Conv2d: 2-16                      [1, 28, 28]               289\n",
              "==========================================================================================\n",
              "Total params: 9,585\n",
              "Trainable params: 9,585\n",
              "Non-trainable params: 0\n",
              "Total mult-adds (Units.MEGABYTES): 3.41\n",
              "==========================================================================================\n",
              "Input size (MB): 0.00\n",
              "Forward/backward pass size (MB): 0.46\n",
              "Params size (MB): 0.04\n",
              "Estimated Total Size (MB): 0.51\n",
              "=========================================================================================="
            ]
          },
          "metadata": {},
          "execution_count": 113
        }
      ],
      "source": [
        "# TODO\n",
        "from torchinfo import summary\n",
        "model = DenoisingAutoencoder()\n",
        "summary(model,(1,28,28))"
      ]
    },
    {
      "cell_type": "markdown",
      "id": "2ec8706e",
      "metadata": {
        "id": "2ec8706e"
      },
      "source": [
        "**Réponse** : Le paramètre a 9,585 paramèrtres entrainables"
      ]
    },
    {
      "cell_type": "markdown",
      "id": "bf034930",
      "metadata": {
        "id": "bf034930"
      },
      "source": [
        "### Question 15\n",
        "\n",
        "Entraînez votre modèle pendant $10$ époques."
      ]
    },
    {
      "cell_type": "code",
      "execution_count": 114,
      "id": "70f751c3",
      "metadata": {
        "scrolled": false,
        "colab": {
          "base_uri": "https://localhost:8080/",
          "height": 1000,
          "referenced_widgets": [
            "93e737ea90674f6e8cde17e686d0f9fd",
            "c272314aaf2e4976a94c28b872f466c6",
            "98b8739e872b4972b38a88d85515f8a0",
            "b81a82e586954b54b8106a7c64ab94fc",
            "057d6f8ceca54a1ab6ec95999b3fbf83",
            "0646d7c038064d5ba5283bcf0abeea93",
            "20a3d0298a2044559ab230cbf78cc8e8",
            "a8ec4cd376ed4145973191f26a71af93",
            "6c0b3f1a049642e8a32fdd2d083ca453",
            "411669eba97946958a685a81cb3eeec5",
            "cfd62f2f1be8438f9697db00410034f4",
            "54f86e9fc6824deebba23954387e2fd9",
            "583c352463254cf88bc6552a5180f673",
            "e67e1d8002644b3f9a5f717cf6f82bc9",
            "8a2cf9339c7845d2947a01df6440ee05",
            "d83c59a5e1e842dd96dc276d86dbc15e",
            "ade012ecb6e0476496f59e1c39092c45",
            "38fd597ef0994df8a817b4f8063456ad",
            "d47dcdf0afd14b3390695b60d8d9e843",
            "6451ddbdbe784df682316ac12ade80c1",
            "42b9745aef6e48b1b0c983797a44f70b",
            "d788f6c75094405794bfa8368bf27f94",
            "567b37f9fc53442dad3ce819d124edb5",
            "4703206211b347da83d4e82a8063250b",
            "1db54c801cf24ec7a8a6cbbefea8fa1f",
            "45caddb90b734887ab29cbb07f892531",
            "ea7bb171897f4de699c5db5a339542b1",
            "8e8bc10392e14a828660a65557899605",
            "b2b8e95fd5cb4beea859347e10b92b1f",
            "13edd68b94034d5da651cda6965a09fe",
            "12602dba3c7c426b8d5130bba279f773",
            "236831e6e88d42f9888efc2eb75e00c6",
            "8be93cc5967e43068ba9d682539d6ec0",
            "5f28f7e45fc444d3be6b72837f58125c",
            "caf6d61acb974262819a56beea410970",
            "0c256c194d8241dcb0c86cdb6d79c171",
            "1afe3e590f5c444ebea3311c31d91bc9",
            "18f23e43e84e4053874d2689066180bf",
            "a47fea9a58a84a049c5b076f8b160053",
            "f2cb845f8cc046959a81b263e695be4d",
            "c3a22240ae884fc9b5d50a42aedbf171",
            "b016ec4ebd2c413f988f5509c55bf83b",
            "ddd0fa7f81f44e1d9a20d4543f2b6337",
            "a8fd4bd45cc64233a7d583186ec5613b",
            "4d3c88b808ea44249f9de5f3f0bf0d17",
            "abf8c5454cad40d0af6a55f5bcae8383",
            "faa0a638ad674b77a8d3fc8e4b7c46e7",
            "10b94d5338af4214aa2bd1f70765ac1d",
            "6ab4321ea0e348fa8f4455f59259ff2f",
            "d61c4841693448498f07aba361eeba23",
            "57d2b3983bb847bbb4da17ab992112f4",
            "27a230b951744e33b8b58e7763b6aed3",
            "5c8e1f31a6e8490190c6f52da431020a",
            "220882f8a18c463188f37675bfdd74b8",
            "85fd5f22637343f8848b5b9e217f9fc9",
            "310edc12956d4bdd97064598155e7e2f",
            "71afb900e0034228a592128e6c92247e",
            "f8aab8d00f874289b24c1c8be078a41d",
            "eddd8b9630094d9aa9a04c832feaf778",
            "e8997d0b1d49414e8c299c3df7bfb742",
            "010cc9ae2fcd4ecc87a8b4cdaa103437",
            "876353f4352e46c48b30312bc5c2e0dc",
            "54da6282003740eaaeacc4500435f4c0",
            "6aab519c13604c8c88cba25d1e0a65f0",
            "ddc77392ccb5416fb98c2c614715e6eb",
            "d46b3a1f30964dd7a3df192fe87a289d",
            "bbac5b0443be409aa5ddc74583d77654",
            "89d57b4ee69b4147986f7f29049fbf25",
            "fbea3f7bad6f44218b85153ea7ff9b86",
            "71ef23b0ac3f4eed85a51ea32a31c5d9",
            "8e6f2906e4fc4764b878389727f6001d",
            "56818a43f43540959bdb37f753f7ae4e",
            "b47319e68b6244a8bc0a75f1bc721409",
            "0e60cf1e052544c3a5a9730cf6962c10",
            "33a7ab5be1ff4fc88303e2b4454282b5",
            "9cb105fb3fa14b4b83e47ff80025dbc1",
            "742632fed3c5429483d922988c0ae4fd",
            "e24a76f83b6848eebbb0e5cc4bd9933a",
            "756d27774fdc4f828095c97706b3856b",
            "67b31b27f4df4744ab1ecb43b75bb058",
            "09bdc64b83e24c2ab3da98ac47494158",
            "c940fed3a9a4408a94d5eb21f5dd8da8",
            "a3b78f99379e49899119130b4e835e2f",
            "030b1741b5834a80a2e377a77c4aa37e",
            "c986bbdb3faf4168b716b63e8b18e75b",
            "94c1efc9347946ad8d8a68e16cb2f594",
            "908be1a427604a34921e8a17dde73bfd",
            "ca8aaf7c45cb4d14aafa303827f77226",
            "078df2b23a0247c994ef9d470f7c4cff",
            "13bcadaa6d774f9081a7970e0041fe27",
            "b846b00ea3aa4be0bb804990713b45d2",
            "4b609a75a8454a51865272a819cd4ca4",
            "1dd7500bdead42e8b188d888d6a625e2",
            "bf41fa4f3cba4d2db0cecfa227bbed5f",
            "ac03f6882c104abaac0096d1e86cbcbf",
            "cc341ef43f444f0fa2099d2d6306431b",
            "4f34cabdfbc547b187936f0b3781065a",
            "4bab4ae0ae724caf999007286cececb1",
            "b6641a079f4a42ed8be669b296e0cc9a",
            "4bd2a529b89a4adba64333a9a9e32a38",
            "731d734b14db498ca022735cdfe12ea8",
            "ef2d857bf19c4f3897627cce199091a0",
            "2fbe820ded7745ebb2b73cc99448b0aa",
            "43be19fb81584b529e8575bd51aa159f",
            "a6e6c92746b24c14bb61ef26242d6fc9",
            "4db0699d93f64d5ea2499f13221c803b",
            "6bd9abf3b43647329a6538cfdd023fa2",
            "ab8a9bd012fa4d438d50be2a85b51150",
            "4a93e27c89bf432ea58f8df7ae2fd23a",
            "73ab51ad565a4af0903bf1c2e03a8a8c",
            "cc6f1e0e1a88418b8f8d94eb941f4e6f",
            "f2782b81e87a4f67838e8e4e94bba10c",
            "7eefdb82a8254c3d8b9e0b5aa746ef04",
            "b3b0452b190b4e00a9c14aafd969dbc9",
            "d86a4caa59f04d629a006374d32217e9",
            "862ed7c0be2349bb87436e7385bc5ea1",
            "d5132e8a77d44672b7c9f9216df60820",
            "eb9c2e9dddf94d1f8ea68ec50e0c1a1c",
            "cb233c5391f94a3badc72df47cd4ef5c",
            "d8810d076f504adb8a4584e7ac86ae58",
            "9b6c6847568949f0bf5fe0a658efbc46"
          ]
        },
        "id": "70f751c3",
        "outputId": "97059ea0-ef7b-462d-ab3a-c23ac9f3c2f0"
      },
      "outputs": [
        {
          "output_type": "display_data",
          "data": {
            "text/plain": [
              "Training: |          | 0/? [00:00<?, ?it/s]"
            ],
            "application/vnd.jupyter.widget-view+json": {
              "version_major": 2,
              "version_minor": 0,
              "model_id": "93e737ea90674f6e8cde17e686d0f9fd"
            }
          },
          "metadata": {}
        },
        {
          "output_type": "stream",
          "name": "stdout",
          "text": [
            "Version 0\n",
            "=========\n",
            "\n"
          ]
        },
        {
          "output_type": "display_data",
          "data": {
            "text/plain": [
              "Validation: |          | 0/? [00:00<?, ?it/s]"
            ],
            "application/vnd.jupyter.widget-view+json": {
              "version_major": 2,
              "version_minor": 0,
              "model_id": "54f86e9fc6824deebba23954387e2fd9"
            }
          },
          "metadata": {}
        },
        {
          "output_type": "stream",
          "name": "stdout",
          "text": [
            "Époque 1 / 10\n",
            "------------------------------------\n",
            "|     Jeu      | Fonction de perte |\n",
            "| ------------ | ----------------- |\n",
            "| Entraînement |      0.03369      |\n",
            "|  Validation  |      0.02501      |\n",
            "------------------------------------ \n",
            "\n"
          ]
        },
        {
          "output_type": "display_data",
          "data": {
            "text/plain": [
              "Validation: |          | 0/? [00:00<?, ?it/s]"
            ],
            "application/vnd.jupyter.widget-view+json": {
              "version_major": 2,
              "version_minor": 0,
              "model_id": "567b37f9fc53442dad3ce819d124edb5"
            }
          },
          "metadata": {}
        },
        {
          "output_type": "stream",
          "name": "stdout",
          "text": [
            "Époque 2 / 10\n",
            "------------------------------------\n",
            "|     Jeu      | Fonction de perte |\n",
            "| ------------ | ----------------- |\n",
            "| Entraînement |      0.02346      |\n",
            "|  Validation  |      0.02161      |\n",
            "------------------------------------ \n",
            "\n"
          ]
        },
        {
          "output_type": "display_data",
          "data": {
            "text/plain": [
              "Validation: |          | 0/? [00:00<?, ?it/s]"
            ],
            "application/vnd.jupyter.widget-view+json": {
              "version_major": 2,
              "version_minor": 0,
              "model_id": "5f28f7e45fc444d3be6b72837f58125c"
            }
          },
          "metadata": {}
        },
        {
          "output_type": "stream",
          "name": "stdout",
          "text": [
            "Époque 3 / 10\n",
            "------------------------------------\n",
            "|     Jeu      | Fonction de perte |\n",
            "| ------------ | ----------------- |\n",
            "| Entraînement |      0.02118      |\n",
            "|  Validation  |      0.02008      |\n",
            "------------------------------------ \n",
            "\n"
          ]
        },
        {
          "output_type": "display_data",
          "data": {
            "text/plain": [
              "Validation: |          | 0/? [00:00<?, ?it/s]"
            ],
            "application/vnd.jupyter.widget-view+json": {
              "version_major": 2,
              "version_minor": 0,
              "model_id": "4d3c88b808ea44249f9de5f3f0bf0d17"
            }
          },
          "metadata": {}
        },
        {
          "output_type": "stream",
          "name": "stdout",
          "text": [
            "Époque 4 / 10\n",
            "------------------------------------\n",
            "|     Jeu      | Fonction de perte |\n",
            "| ------------ | ----------------- |\n",
            "| Entraînement |      0.01988      |\n",
            "|  Validation  |      0.01887      |\n",
            "------------------------------------ \n",
            "\n"
          ]
        },
        {
          "output_type": "display_data",
          "data": {
            "text/plain": [
              "Validation: |          | 0/? [00:00<?, ?it/s]"
            ],
            "application/vnd.jupyter.widget-view+json": {
              "version_major": 2,
              "version_minor": 0,
              "model_id": "310edc12956d4bdd97064598155e7e2f"
            }
          },
          "metadata": {}
        },
        {
          "output_type": "stream",
          "name": "stdout",
          "text": [
            "Époque 5 / 10\n",
            "------------------------------------\n",
            "|     Jeu      | Fonction de perte |\n",
            "| ------------ | ----------------- |\n",
            "| Entraînement |      0.01884      |\n",
            "|  Validation  |      0.01856      |\n",
            "------------------------------------ \n",
            "\n"
          ]
        },
        {
          "output_type": "display_data",
          "data": {
            "text/plain": [
              "Validation: |          | 0/? [00:00<?, ?it/s]"
            ],
            "application/vnd.jupyter.widget-view+json": {
              "version_major": 2,
              "version_minor": 0,
              "model_id": "bbac5b0443be409aa5ddc74583d77654"
            }
          },
          "metadata": {}
        },
        {
          "output_type": "stream",
          "name": "stdout",
          "text": [
            "Époque 6 / 10\n",
            "------------------------------------\n",
            "|     Jeu      | Fonction de perte |\n",
            "| ------------ | ----------------- |\n",
            "| Entraînement |      0.01802      |\n",
            "|  Validation  |      0.01750      |\n",
            "------------------------------------ \n",
            "\n"
          ]
        },
        {
          "output_type": "display_data",
          "data": {
            "text/plain": [
              "Validation: |          | 0/? [00:00<?, ?it/s]"
            ],
            "application/vnd.jupyter.widget-view+json": {
              "version_major": 2,
              "version_minor": 0,
              "model_id": "e24a76f83b6848eebbb0e5cc4bd9933a"
            }
          },
          "metadata": {}
        },
        {
          "output_type": "stream",
          "name": "stdout",
          "text": [
            "Époque 7 / 10\n",
            "------------------------------------\n",
            "|     Jeu      | Fonction de perte |\n",
            "| ------------ | ----------------- |\n",
            "| Entraînement |      0.01727      |\n",
            "|  Validation  |      0.01675      |\n",
            "------------------------------------ \n",
            "\n"
          ]
        },
        {
          "output_type": "display_data",
          "data": {
            "text/plain": [
              "Validation: |          | 0/? [00:00<?, ?it/s]"
            ],
            "application/vnd.jupyter.widget-view+json": {
              "version_major": 2,
              "version_minor": 0,
              "model_id": "078df2b23a0247c994ef9d470f7c4cff"
            }
          },
          "metadata": {}
        },
        {
          "output_type": "stream",
          "name": "stdout",
          "text": [
            "Époque 8 / 10\n",
            "------------------------------------\n",
            "|     Jeu      | Fonction de perte |\n",
            "| ------------ | ----------------- |\n",
            "| Entraînement |      0.01665      |\n",
            "|  Validation  |      0.01617      |\n",
            "------------------------------------ \n",
            "\n"
          ]
        },
        {
          "output_type": "display_data",
          "data": {
            "text/plain": [
              "Validation: |          | 0/? [00:00<?, ?it/s]"
            ],
            "application/vnd.jupyter.widget-view+json": {
              "version_major": 2,
              "version_minor": 0,
              "model_id": "4bd2a529b89a4adba64333a9a9e32a38"
            }
          },
          "metadata": {}
        },
        {
          "output_type": "stream",
          "name": "stdout",
          "text": [
            "Époque 9 / 10\n",
            "------------------------------------\n",
            "|     Jeu      | Fonction de perte |\n",
            "| ------------ | ----------------- |\n",
            "| Entraînement |      0.01617      |\n",
            "|  Validation  |      0.01555      |\n",
            "------------------------------------ \n",
            "\n"
          ]
        },
        {
          "output_type": "display_data",
          "data": {
            "text/plain": [
              "Validation: |          | 0/? [00:00<?, ?it/s]"
            ],
            "application/vnd.jupyter.widget-view+json": {
              "version_major": 2,
              "version_minor": 0,
              "model_id": "cc6f1e0e1a88418b8f8d94eb941f4e6f"
            }
          },
          "metadata": {}
        },
        {
          "output_type": "stream",
          "name": "stdout",
          "text": [
            "Époque 10 / 10\n",
            "------------------------------------\n",
            "|     Jeu      | Fonction de perte |\n",
            "| ------------ | ----------------- |\n",
            "| Entraînement |      0.01566      |\n",
            "|  Validation  |      0.01549      |\n",
            "------------------------------------ \n",
            "\n"
          ]
        }
      ],
      "source": [
        "# TODO\n",
        "from lightning.pytorch.callbacks import TQDMProgressBar\n",
        "from lightning.pytorch.loggers import CSVLogger\n",
        "\n",
        "\n",
        "model = DenoisingAutoencoder()\n",
        "\n",
        "trainer = L.Trainer(\n",
        "    max_epochs=10,\n",
        "    enable_model_summary=False,  # supprimer le résumé du modèle\n",
        "    logger=CSVLogger('.'),  # sauvegarder les résultats dans un fichier CSV\n",
        "    num_sanity_val_steps=0,  # ne pas effectuer d'étape de validation avant l'entraînement\n",
        "    callbacks=[TQDMProgressBar(refresh_rate=100)]  # mettre à jour la barre de progression tous les 100 lots\n",
        ")\n",
        "\n",
        "trainer.fit(\n",
        "    model=model,\n",
        "    train_dataloaders=dataloader_train,\n",
        "    val_dataloaders=dataloader_val\n",
        ")"
      ]
    },
    {
      "cell_type": "markdown",
      "id": "c0075a9e",
      "metadata": {
        "id": "c0075a9e"
      },
      "source": [
        "On récupère toutes les images reconstruites par le réseau de neurones artificiels sur le jeu de validation :"
      ]
    },
    {
      "cell_type": "code",
      "execution_count": null,
      "id": "e931ceea",
      "metadata": {
        "id": "e931ceea"
      },
      "outputs": [],
      "source": [
        "X_val_reconstructed_dae = model(X_val_deteriorated).detach()"
      ]
    },
    {
      "cell_type": "markdown",
      "id": "05fdf825",
      "metadata": {
        "id": "05fdf825"
      },
      "source": [
        "### Question 16\n",
        "\n",
        "En utilisant la fonction `plot_original_deteriorated_reconstructed_images()`, affichez quelques images reconstruites par le réseau de neurones artificiels sur le jeu de validation."
      ]
    },
    {
      "cell_type": "code",
      "execution_count": null,
      "id": "08ccba93",
      "metadata": {
        "id": "08ccba93"
      },
      "outputs": [],
      "source": [
        "# TODO"
      ]
    },
    {
      "cell_type": "markdown",
      "id": "22ea0b87",
      "metadata": {
        "id": "22ea0b87"
      },
      "source": [
        "### Question 17\n",
        "\n",
        "Quel est le meilleur modèle parmi les différentes approches essayées ? Justifiez votre réponse."
      ]
    },
    {
      "cell_type": "markdown",
      "id": "e6b86ec6",
      "metadata": {
        "id": "e6b86ec6"
      },
      "source": [
        "**Réponse** : TODO"
      ]
    }
  ],
  "metadata": {
    "kernelspec": {
      "display_name": "Python 3",
      "name": "python3"
    },
    "language_info": {
      "codemirror_mode": {
        "name": "ipython",
        "version": 3
      },
      "file_extension": ".py",
      "mimetype": "text/x-python",
      "name": "python",
      "nbconvert_exporter": "python",
      "pygments_lexer": "ipython3",
      "version": "3.12.7"
    },
    "colab": {
      "provenance": [],
      "gpuType": "T4",
      "include_colab_link": true
    },
    "accelerator": "GPU",
    "widgets": {
      "application/vnd.jupyter.widget-state+json": {
        "93e737ea90674f6e8cde17e686d0f9fd": {
          "model_module": "@jupyter-widgets/controls",
          "model_name": "HBoxModel",
          "model_module_version": "1.5.0",
          "state": {
            "_dom_classes": [],
            "_model_module": "@jupyter-widgets/controls",
            "_model_module_version": "1.5.0",
            "_model_name": "HBoxModel",
            "_view_count": null,
            "_view_module": "@jupyter-widgets/controls",
            "_view_module_version": "1.5.0",
            "_view_name": "HBoxView",
            "box_style": "",
            "children": [
              "IPY_MODEL_c272314aaf2e4976a94c28b872f466c6",
              "IPY_MODEL_98b8739e872b4972b38a88d85515f8a0",
              "IPY_MODEL_b81a82e586954b54b8106a7c64ab94fc"
            ],
            "layout": "IPY_MODEL_057d6f8ceca54a1ab6ec95999b3fbf83"
          }
        },
        "c272314aaf2e4976a94c28b872f466c6": {
          "model_module": "@jupyter-widgets/controls",
          "model_name": "HTMLModel",
          "model_module_version": "1.5.0",
          "state": {
            "_dom_classes": [],
            "_model_module": "@jupyter-widgets/controls",
            "_model_module_version": "1.5.0",
            "_model_name": "HTMLModel",
            "_view_count": null,
            "_view_module": "@jupyter-widgets/controls",
            "_view_module_version": "1.5.0",
            "_view_name": "HTMLView",
            "description": "",
            "description_tooltip": null,
            "layout": "IPY_MODEL_0646d7c038064d5ba5283bcf0abeea93",
            "placeholder": "​",
            "style": "IPY_MODEL_20a3d0298a2044559ab230cbf78cc8e8",
            "value": "Epoch 9: 100%"
          }
        },
        "98b8739e872b4972b38a88d85515f8a0": {
          "model_module": "@jupyter-widgets/controls",
          "model_name": "FloatProgressModel",
          "model_module_version": "1.5.0",
          "state": {
            "_dom_classes": [],
            "_model_module": "@jupyter-widgets/controls",
            "_model_module_version": "1.5.0",
            "_model_name": "FloatProgressModel",
            "_view_count": null,
            "_view_module": "@jupyter-widgets/controls",
            "_view_module_version": "1.5.0",
            "_view_name": "ProgressView",
            "bar_style": "success",
            "description": "",
            "description_tooltip": null,
            "layout": "IPY_MODEL_a8ec4cd376ed4145973191f26a71af93",
            "max": 1,
            "min": 0,
            "orientation": "horizontal",
            "style": "IPY_MODEL_6c0b3f1a049642e8a32fdd2d083ca453",
            "value": 1
          }
        },
        "b81a82e586954b54b8106a7c64ab94fc": {
          "model_module": "@jupyter-widgets/controls",
          "model_name": "HTMLModel",
          "model_module_version": "1.5.0",
          "state": {
            "_dom_classes": [],
            "_model_module": "@jupyter-widgets/controls",
            "_model_module_version": "1.5.0",
            "_model_name": "HTMLModel",
            "_view_count": null,
            "_view_module": "@jupyter-widgets/controls",
            "_view_module_version": "1.5.0",
            "_view_name": "HTMLView",
            "description": "",
            "description_tooltip": null,
            "layout": "IPY_MODEL_411669eba97946958a685a81cb3eeec5",
            "placeholder": "​",
            "style": "IPY_MODEL_cfd62f2f1be8438f9697db00410034f4",
            "value": " 1875/1875 [00:09&lt;00:00, 198.91it/s, v_num=0, loss_train_step=0.0154, loss_train_epoch=0.0157]"
          }
        },
        "057d6f8ceca54a1ab6ec95999b3fbf83": {
          "model_module": "@jupyter-widgets/base",
          "model_name": "LayoutModel",
          "model_module_version": "1.2.0",
          "state": {
            "_model_module": "@jupyter-widgets/base",
            "_model_module_version": "1.2.0",
            "_model_name": "LayoutModel",
            "_view_count": null,
            "_view_module": "@jupyter-widgets/base",
            "_view_module_version": "1.2.0",
            "_view_name": "LayoutView",
            "align_content": null,
            "align_items": null,
            "align_self": null,
            "border": null,
            "bottom": null,
            "display": "inline-flex",
            "flex": null,
            "flex_flow": "row wrap",
            "grid_area": null,
            "grid_auto_columns": null,
            "grid_auto_flow": null,
            "grid_auto_rows": null,
            "grid_column": null,
            "grid_gap": null,
            "grid_row": null,
            "grid_template_areas": null,
            "grid_template_columns": null,
            "grid_template_rows": null,
            "height": null,
            "justify_content": null,
            "justify_items": null,
            "left": null,
            "margin": null,
            "max_height": null,
            "max_width": null,
            "min_height": null,
            "min_width": null,
            "object_fit": null,
            "object_position": null,
            "order": null,
            "overflow": null,
            "overflow_x": null,
            "overflow_y": null,
            "padding": null,
            "right": null,
            "top": null,
            "visibility": null,
            "width": "100%"
          }
        },
        "0646d7c038064d5ba5283bcf0abeea93": {
          "model_module": "@jupyter-widgets/base",
          "model_name": "LayoutModel",
          "model_module_version": "1.2.0",
          "state": {
            "_model_module": "@jupyter-widgets/base",
            "_model_module_version": "1.2.0",
            "_model_name": "LayoutModel",
            "_view_count": null,
            "_view_module": "@jupyter-widgets/base",
            "_view_module_version": "1.2.0",
            "_view_name": "LayoutView",
            "align_content": null,
            "align_items": null,
            "align_self": null,
            "border": null,
            "bottom": null,
            "display": null,
            "flex": null,
            "flex_flow": null,
            "grid_area": null,
            "grid_auto_columns": null,
            "grid_auto_flow": null,
            "grid_auto_rows": null,
            "grid_column": null,
            "grid_gap": null,
            "grid_row": null,
            "grid_template_areas": null,
            "grid_template_columns": null,
            "grid_template_rows": null,
            "height": null,
            "justify_content": null,
            "justify_items": null,
            "left": null,
            "margin": null,
            "max_height": null,
            "max_width": null,
            "min_height": null,
            "min_width": null,
            "object_fit": null,
            "object_position": null,
            "order": null,
            "overflow": null,
            "overflow_x": null,
            "overflow_y": null,
            "padding": null,
            "right": null,
            "top": null,
            "visibility": null,
            "width": null
          }
        },
        "20a3d0298a2044559ab230cbf78cc8e8": {
          "model_module": "@jupyter-widgets/controls",
          "model_name": "DescriptionStyleModel",
          "model_module_version": "1.5.0",
          "state": {
            "_model_module": "@jupyter-widgets/controls",
            "_model_module_version": "1.5.0",
            "_model_name": "DescriptionStyleModel",
            "_view_count": null,
            "_view_module": "@jupyter-widgets/base",
            "_view_module_version": "1.2.0",
            "_view_name": "StyleView",
            "description_width": ""
          }
        },
        "a8ec4cd376ed4145973191f26a71af93": {
          "model_module": "@jupyter-widgets/base",
          "model_name": "LayoutModel",
          "model_module_version": "1.2.0",
          "state": {
            "_model_module": "@jupyter-widgets/base",
            "_model_module_version": "1.2.0",
            "_model_name": "LayoutModel",
            "_view_count": null,
            "_view_module": "@jupyter-widgets/base",
            "_view_module_version": "1.2.0",
            "_view_name": "LayoutView",
            "align_content": null,
            "align_items": null,
            "align_self": null,
            "border": null,
            "bottom": null,
            "display": null,
            "flex": "2",
            "flex_flow": null,
            "grid_area": null,
            "grid_auto_columns": null,
            "grid_auto_flow": null,
            "grid_auto_rows": null,
            "grid_column": null,
            "grid_gap": null,
            "grid_row": null,
            "grid_template_areas": null,
            "grid_template_columns": null,
            "grid_template_rows": null,
            "height": null,
            "justify_content": null,
            "justify_items": null,
            "left": null,
            "margin": null,
            "max_height": null,
            "max_width": null,
            "min_height": null,
            "min_width": null,
            "object_fit": null,
            "object_position": null,
            "order": null,
            "overflow": null,
            "overflow_x": null,
            "overflow_y": null,
            "padding": null,
            "right": null,
            "top": null,
            "visibility": null,
            "width": null
          }
        },
        "6c0b3f1a049642e8a32fdd2d083ca453": {
          "model_module": "@jupyter-widgets/controls",
          "model_name": "ProgressStyleModel",
          "model_module_version": "1.5.0",
          "state": {
            "_model_module": "@jupyter-widgets/controls",
            "_model_module_version": "1.5.0",
            "_model_name": "ProgressStyleModel",
            "_view_count": null,
            "_view_module": "@jupyter-widgets/base",
            "_view_module_version": "1.2.0",
            "_view_name": "StyleView",
            "bar_color": null,
            "description_width": ""
          }
        },
        "411669eba97946958a685a81cb3eeec5": {
          "model_module": "@jupyter-widgets/base",
          "model_name": "LayoutModel",
          "model_module_version": "1.2.0",
          "state": {
            "_model_module": "@jupyter-widgets/base",
            "_model_module_version": "1.2.0",
            "_model_name": "LayoutModel",
            "_view_count": null,
            "_view_module": "@jupyter-widgets/base",
            "_view_module_version": "1.2.0",
            "_view_name": "LayoutView",
            "align_content": null,
            "align_items": null,
            "align_self": null,
            "border": null,
            "bottom": null,
            "display": null,
            "flex": null,
            "flex_flow": null,
            "grid_area": null,
            "grid_auto_columns": null,
            "grid_auto_flow": null,
            "grid_auto_rows": null,
            "grid_column": null,
            "grid_gap": null,
            "grid_row": null,
            "grid_template_areas": null,
            "grid_template_columns": null,
            "grid_template_rows": null,
            "height": null,
            "justify_content": null,
            "justify_items": null,
            "left": null,
            "margin": null,
            "max_height": null,
            "max_width": null,
            "min_height": null,
            "min_width": null,
            "object_fit": null,
            "object_position": null,
            "order": null,
            "overflow": null,
            "overflow_x": null,
            "overflow_y": null,
            "padding": null,
            "right": null,
            "top": null,
            "visibility": null,
            "width": null
          }
        },
        "cfd62f2f1be8438f9697db00410034f4": {
          "model_module": "@jupyter-widgets/controls",
          "model_name": "DescriptionStyleModel",
          "model_module_version": "1.5.0",
          "state": {
            "_model_module": "@jupyter-widgets/controls",
            "_model_module_version": "1.5.0",
            "_model_name": "DescriptionStyleModel",
            "_view_count": null,
            "_view_module": "@jupyter-widgets/base",
            "_view_module_version": "1.2.0",
            "_view_name": "StyleView",
            "description_width": ""
          }
        },
        "54f86e9fc6824deebba23954387e2fd9": {
          "model_module": "@jupyter-widgets/controls",
          "model_name": "HBoxModel",
          "model_module_version": "1.5.0",
          "state": {
            "_dom_classes": [],
            "_model_module": "@jupyter-widgets/controls",
            "_model_module_version": "1.5.0",
            "_model_name": "HBoxModel",
            "_view_count": null,
            "_view_module": "@jupyter-widgets/controls",
            "_view_module_version": "1.5.0",
            "_view_name": "HBoxView",
            "box_style": "",
            "children": [
              "IPY_MODEL_583c352463254cf88bc6552a5180f673",
              "IPY_MODEL_e67e1d8002644b3f9a5f717cf6f82bc9",
              "IPY_MODEL_8a2cf9339c7845d2947a01df6440ee05"
            ],
            "layout": "IPY_MODEL_d83c59a5e1e842dd96dc276d86dbc15e"
          }
        },
        "583c352463254cf88bc6552a5180f673": {
          "model_module": "@jupyter-widgets/controls",
          "model_name": "HTMLModel",
          "model_module_version": "1.5.0",
          "state": {
            "_dom_classes": [],
            "_model_module": "@jupyter-widgets/controls",
            "_model_module_version": "1.5.0",
            "_model_name": "HTMLModel",
            "_view_count": null,
            "_view_module": "@jupyter-widgets/controls",
            "_view_module_version": "1.5.0",
            "_view_name": "HTMLView",
            "description": "",
            "description_tooltip": null,
            "layout": "IPY_MODEL_ade012ecb6e0476496f59e1c39092c45",
            "placeholder": "​",
            "style": "IPY_MODEL_38fd597ef0994df8a817b4f8063456ad",
            "value": "Validation DataLoader 0: 100%"
          }
        },
        "e67e1d8002644b3f9a5f717cf6f82bc9": {
          "model_module": "@jupyter-widgets/controls",
          "model_name": "FloatProgressModel",
          "model_module_version": "1.5.0",
          "state": {
            "_dom_classes": [],
            "_model_module": "@jupyter-widgets/controls",
            "_model_module_version": "1.5.0",
            "_model_name": "FloatProgressModel",
            "_view_count": null,
            "_view_module": "@jupyter-widgets/controls",
            "_view_module_version": "1.5.0",
            "_view_name": "ProgressView",
            "bar_style": "",
            "description": "",
            "description_tooltip": null,
            "layout": "IPY_MODEL_d47dcdf0afd14b3390695b60d8d9e843",
            "max": 1,
            "min": 0,
            "orientation": "horizontal",
            "style": "IPY_MODEL_6451ddbdbe784df682316ac12ade80c1",
            "value": 1
          }
        },
        "8a2cf9339c7845d2947a01df6440ee05": {
          "model_module": "@jupyter-widgets/controls",
          "model_name": "HTMLModel",
          "model_module_version": "1.5.0",
          "state": {
            "_dom_classes": [],
            "_model_module": "@jupyter-widgets/controls",
            "_model_module_version": "1.5.0",
            "_model_name": "HTMLModel",
            "_view_count": null,
            "_view_module": "@jupyter-widgets/controls",
            "_view_module_version": "1.5.0",
            "_view_name": "HTMLView",
            "description": "",
            "description_tooltip": null,
            "layout": "IPY_MODEL_42b9745aef6e48b1b0c983797a44f70b",
            "placeholder": "​",
            "style": "IPY_MODEL_d788f6c75094405794bfa8368bf27f94",
            "value": " 313/313 [00:00&lt;00:00, 472.62it/s]"
          }
        },
        "d83c59a5e1e842dd96dc276d86dbc15e": {
          "model_module": "@jupyter-widgets/base",
          "model_name": "LayoutModel",
          "model_module_version": "1.2.0",
          "state": {
            "_model_module": "@jupyter-widgets/base",
            "_model_module_version": "1.2.0",
            "_model_name": "LayoutModel",
            "_view_count": null,
            "_view_module": "@jupyter-widgets/base",
            "_view_module_version": "1.2.0",
            "_view_name": "LayoutView",
            "align_content": null,
            "align_items": null,
            "align_self": null,
            "border": null,
            "bottom": null,
            "display": "inline-flex",
            "flex": null,
            "flex_flow": "row wrap",
            "grid_area": null,
            "grid_auto_columns": null,
            "grid_auto_flow": null,
            "grid_auto_rows": null,
            "grid_column": null,
            "grid_gap": null,
            "grid_row": null,
            "grid_template_areas": null,
            "grid_template_columns": null,
            "grid_template_rows": null,
            "height": null,
            "justify_content": null,
            "justify_items": null,
            "left": null,
            "margin": null,
            "max_height": null,
            "max_width": null,
            "min_height": null,
            "min_width": null,
            "object_fit": null,
            "object_position": null,
            "order": null,
            "overflow": null,
            "overflow_x": null,
            "overflow_y": null,
            "padding": null,
            "right": null,
            "top": null,
            "visibility": "hidden",
            "width": "100%"
          }
        },
        "ade012ecb6e0476496f59e1c39092c45": {
          "model_module": "@jupyter-widgets/base",
          "model_name": "LayoutModel",
          "model_module_version": "1.2.0",
          "state": {
            "_model_module": "@jupyter-widgets/base",
            "_model_module_version": "1.2.0",
            "_model_name": "LayoutModel",
            "_view_count": null,
            "_view_module": "@jupyter-widgets/base",
            "_view_module_version": "1.2.0",
            "_view_name": "LayoutView",
            "align_content": null,
            "align_items": null,
            "align_self": null,
            "border": null,
            "bottom": null,
            "display": null,
            "flex": null,
            "flex_flow": null,
            "grid_area": null,
            "grid_auto_columns": null,
            "grid_auto_flow": null,
            "grid_auto_rows": null,
            "grid_column": null,
            "grid_gap": null,
            "grid_row": null,
            "grid_template_areas": null,
            "grid_template_columns": null,
            "grid_template_rows": null,
            "height": null,
            "justify_content": null,
            "justify_items": null,
            "left": null,
            "margin": null,
            "max_height": null,
            "max_width": null,
            "min_height": null,
            "min_width": null,
            "object_fit": null,
            "object_position": null,
            "order": null,
            "overflow": null,
            "overflow_x": null,
            "overflow_y": null,
            "padding": null,
            "right": null,
            "top": null,
            "visibility": null,
            "width": null
          }
        },
        "38fd597ef0994df8a817b4f8063456ad": {
          "model_module": "@jupyter-widgets/controls",
          "model_name": "DescriptionStyleModel",
          "model_module_version": "1.5.0",
          "state": {
            "_model_module": "@jupyter-widgets/controls",
            "_model_module_version": "1.5.0",
            "_model_name": "DescriptionStyleModel",
            "_view_count": null,
            "_view_module": "@jupyter-widgets/base",
            "_view_module_version": "1.2.0",
            "_view_name": "StyleView",
            "description_width": ""
          }
        },
        "d47dcdf0afd14b3390695b60d8d9e843": {
          "model_module": "@jupyter-widgets/base",
          "model_name": "LayoutModel",
          "model_module_version": "1.2.0",
          "state": {
            "_model_module": "@jupyter-widgets/base",
            "_model_module_version": "1.2.0",
            "_model_name": "LayoutModel",
            "_view_count": null,
            "_view_module": "@jupyter-widgets/base",
            "_view_module_version": "1.2.0",
            "_view_name": "LayoutView",
            "align_content": null,
            "align_items": null,
            "align_self": null,
            "border": null,
            "bottom": null,
            "display": null,
            "flex": "2",
            "flex_flow": null,
            "grid_area": null,
            "grid_auto_columns": null,
            "grid_auto_flow": null,
            "grid_auto_rows": null,
            "grid_column": null,
            "grid_gap": null,
            "grid_row": null,
            "grid_template_areas": null,
            "grid_template_columns": null,
            "grid_template_rows": null,
            "height": null,
            "justify_content": null,
            "justify_items": null,
            "left": null,
            "margin": null,
            "max_height": null,
            "max_width": null,
            "min_height": null,
            "min_width": null,
            "object_fit": null,
            "object_position": null,
            "order": null,
            "overflow": null,
            "overflow_x": null,
            "overflow_y": null,
            "padding": null,
            "right": null,
            "top": null,
            "visibility": null,
            "width": null
          }
        },
        "6451ddbdbe784df682316ac12ade80c1": {
          "model_module": "@jupyter-widgets/controls",
          "model_name": "ProgressStyleModel",
          "model_module_version": "1.5.0",
          "state": {
            "_model_module": "@jupyter-widgets/controls",
            "_model_module_version": "1.5.0",
            "_model_name": "ProgressStyleModel",
            "_view_count": null,
            "_view_module": "@jupyter-widgets/base",
            "_view_module_version": "1.2.0",
            "_view_name": "StyleView",
            "bar_color": null,
            "description_width": ""
          }
        },
        "42b9745aef6e48b1b0c983797a44f70b": {
          "model_module": "@jupyter-widgets/base",
          "model_name": "LayoutModel",
          "model_module_version": "1.2.0",
          "state": {
            "_model_module": "@jupyter-widgets/base",
            "_model_module_version": "1.2.0",
            "_model_name": "LayoutModel",
            "_view_count": null,
            "_view_module": "@jupyter-widgets/base",
            "_view_module_version": "1.2.0",
            "_view_name": "LayoutView",
            "align_content": null,
            "align_items": null,
            "align_self": null,
            "border": null,
            "bottom": null,
            "display": null,
            "flex": null,
            "flex_flow": null,
            "grid_area": null,
            "grid_auto_columns": null,
            "grid_auto_flow": null,
            "grid_auto_rows": null,
            "grid_column": null,
            "grid_gap": null,
            "grid_row": null,
            "grid_template_areas": null,
            "grid_template_columns": null,
            "grid_template_rows": null,
            "height": null,
            "justify_content": null,
            "justify_items": null,
            "left": null,
            "margin": null,
            "max_height": null,
            "max_width": null,
            "min_height": null,
            "min_width": null,
            "object_fit": null,
            "object_position": null,
            "order": null,
            "overflow": null,
            "overflow_x": null,
            "overflow_y": null,
            "padding": null,
            "right": null,
            "top": null,
            "visibility": null,
            "width": null
          }
        },
        "d788f6c75094405794bfa8368bf27f94": {
          "model_module": "@jupyter-widgets/controls",
          "model_name": "DescriptionStyleModel",
          "model_module_version": "1.5.0",
          "state": {
            "_model_module": "@jupyter-widgets/controls",
            "_model_module_version": "1.5.0",
            "_model_name": "DescriptionStyleModel",
            "_view_count": null,
            "_view_module": "@jupyter-widgets/base",
            "_view_module_version": "1.2.0",
            "_view_name": "StyleView",
            "description_width": ""
          }
        },
        "567b37f9fc53442dad3ce819d124edb5": {
          "model_module": "@jupyter-widgets/controls",
          "model_name": "HBoxModel",
          "model_module_version": "1.5.0",
          "state": {
            "_dom_classes": [],
            "_model_module": "@jupyter-widgets/controls",
            "_model_module_version": "1.5.0",
            "_model_name": "HBoxModel",
            "_view_count": null,
            "_view_module": "@jupyter-widgets/controls",
            "_view_module_version": "1.5.0",
            "_view_name": "HBoxView",
            "box_style": "",
            "children": [
              "IPY_MODEL_4703206211b347da83d4e82a8063250b",
              "IPY_MODEL_1db54c801cf24ec7a8a6cbbefea8fa1f",
              "IPY_MODEL_45caddb90b734887ab29cbb07f892531"
            ],
            "layout": "IPY_MODEL_ea7bb171897f4de699c5db5a339542b1"
          }
        },
        "4703206211b347da83d4e82a8063250b": {
          "model_module": "@jupyter-widgets/controls",
          "model_name": "HTMLModel",
          "model_module_version": "1.5.0",
          "state": {
            "_dom_classes": [],
            "_model_module": "@jupyter-widgets/controls",
            "_model_module_version": "1.5.0",
            "_model_name": "HTMLModel",
            "_view_count": null,
            "_view_module": "@jupyter-widgets/controls",
            "_view_module_version": "1.5.0",
            "_view_name": "HTMLView",
            "description": "",
            "description_tooltip": null,
            "layout": "IPY_MODEL_8e8bc10392e14a828660a65557899605",
            "placeholder": "​",
            "style": "IPY_MODEL_b2b8e95fd5cb4beea859347e10b92b1f",
            "value": "Validation DataLoader 0: 100%"
          }
        },
        "1db54c801cf24ec7a8a6cbbefea8fa1f": {
          "model_module": "@jupyter-widgets/controls",
          "model_name": "FloatProgressModel",
          "model_module_version": "1.5.0",
          "state": {
            "_dom_classes": [],
            "_model_module": "@jupyter-widgets/controls",
            "_model_module_version": "1.5.0",
            "_model_name": "FloatProgressModel",
            "_view_count": null,
            "_view_module": "@jupyter-widgets/controls",
            "_view_module_version": "1.5.0",
            "_view_name": "ProgressView",
            "bar_style": "",
            "description": "",
            "description_tooltip": null,
            "layout": "IPY_MODEL_13edd68b94034d5da651cda6965a09fe",
            "max": 1,
            "min": 0,
            "orientation": "horizontal",
            "style": "IPY_MODEL_12602dba3c7c426b8d5130bba279f773",
            "value": 1
          }
        },
        "45caddb90b734887ab29cbb07f892531": {
          "model_module": "@jupyter-widgets/controls",
          "model_name": "HTMLModel",
          "model_module_version": "1.5.0",
          "state": {
            "_dom_classes": [],
            "_model_module": "@jupyter-widgets/controls",
            "_model_module_version": "1.5.0",
            "_model_name": "HTMLModel",
            "_view_count": null,
            "_view_module": "@jupyter-widgets/controls",
            "_view_module_version": "1.5.0",
            "_view_name": "HTMLView",
            "description": "",
            "description_tooltip": null,
            "layout": "IPY_MODEL_236831e6e88d42f9888efc2eb75e00c6",
            "placeholder": "​",
            "style": "IPY_MODEL_8be93cc5967e43068ba9d682539d6ec0",
            "value": " 313/313 [00:00&lt;00:00, 474.63it/s]"
          }
        },
        "ea7bb171897f4de699c5db5a339542b1": {
          "model_module": "@jupyter-widgets/base",
          "model_name": "LayoutModel",
          "model_module_version": "1.2.0",
          "state": {
            "_model_module": "@jupyter-widgets/base",
            "_model_module_version": "1.2.0",
            "_model_name": "LayoutModel",
            "_view_count": null,
            "_view_module": "@jupyter-widgets/base",
            "_view_module_version": "1.2.0",
            "_view_name": "LayoutView",
            "align_content": null,
            "align_items": null,
            "align_self": null,
            "border": null,
            "bottom": null,
            "display": "inline-flex",
            "flex": null,
            "flex_flow": "row wrap",
            "grid_area": null,
            "grid_auto_columns": null,
            "grid_auto_flow": null,
            "grid_auto_rows": null,
            "grid_column": null,
            "grid_gap": null,
            "grid_row": null,
            "grid_template_areas": null,
            "grid_template_columns": null,
            "grid_template_rows": null,
            "height": null,
            "justify_content": null,
            "justify_items": null,
            "left": null,
            "margin": null,
            "max_height": null,
            "max_width": null,
            "min_height": null,
            "min_width": null,
            "object_fit": null,
            "object_position": null,
            "order": null,
            "overflow": null,
            "overflow_x": null,
            "overflow_y": null,
            "padding": null,
            "right": null,
            "top": null,
            "visibility": "hidden",
            "width": "100%"
          }
        },
        "8e8bc10392e14a828660a65557899605": {
          "model_module": "@jupyter-widgets/base",
          "model_name": "LayoutModel",
          "model_module_version": "1.2.0",
          "state": {
            "_model_module": "@jupyter-widgets/base",
            "_model_module_version": "1.2.0",
            "_model_name": "LayoutModel",
            "_view_count": null,
            "_view_module": "@jupyter-widgets/base",
            "_view_module_version": "1.2.0",
            "_view_name": "LayoutView",
            "align_content": null,
            "align_items": null,
            "align_self": null,
            "border": null,
            "bottom": null,
            "display": null,
            "flex": null,
            "flex_flow": null,
            "grid_area": null,
            "grid_auto_columns": null,
            "grid_auto_flow": null,
            "grid_auto_rows": null,
            "grid_column": null,
            "grid_gap": null,
            "grid_row": null,
            "grid_template_areas": null,
            "grid_template_columns": null,
            "grid_template_rows": null,
            "height": null,
            "justify_content": null,
            "justify_items": null,
            "left": null,
            "margin": null,
            "max_height": null,
            "max_width": null,
            "min_height": null,
            "min_width": null,
            "object_fit": null,
            "object_position": null,
            "order": null,
            "overflow": null,
            "overflow_x": null,
            "overflow_y": null,
            "padding": null,
            "right": null,
            "top": null,
            "visibility": null,
            "width": null
          }
        },
        "b2b8e95fd5cb4beea859347e10b92b1f": {
          "model_module": "@jupyter-widgets/controls",
          "model_name": "DescriptionStyleModel",
          "model_module_version": "1.5.0",
          "state": {
            "_model_module": "@jupyter-widgets/controls",
            "_model_module_version": "1.5.0",
            "_model_name": "DescriptionStyleModel",
            "_view_count": null,
            "_view_module": "@jupyter-widgets/base",
            "_view_module_version": "1.2.0",
            "_view_name": "StyleView",
            "description_width": ""
          }
        },
        "13edd68b94034d5da651cda6965a09fe": {
          "model_module": "@jupyter-widgets/base",
          "model_name": "LayoutModel",
          "model_module_version": "1.2.0",
          "state": {
            "_model_module": "@jupyter-widgets/base",
            "_model_module_version": "1.2.0",
            "_model_name": "LayoutModel",
            "_view_count": null,
            "_view_module": "@jupyter-widgets/base",
            "_view_module_version": "1.2.0",
            "_view_name": "LayoutView",
            "align_content": null,
            "align_items": null,
            "align_self": null,
            "border": null,
            "bottom": null,
            "display": null,
            "flex": "2",
            "flex_flow": null,
            "grid_area": null,
            "grid_auto_columns": null,
            "grid_auto_flow": null,
            "grid_auto_rows": null,
            "grid_column": null,
            "grid_gap": null,
            "grid_row": null,
            "grid_template_areas": null,
            "grid_template_columns": null,
            "grid_template_rows": null,
            "height": null,
            "justify_content": null,
            "justify_items": null,
            "left": null,
            "margin": null,
            "max_height": null,
            "max_width": null,
            "min_height": null,
            "min_width": null,
            "object_fit": null,
            "object_position": null,
            "order": null,
            "overflow": null,
            "overflow_x": null,
            "overflow_y": null,
            "padding": null,
            "right": null,
            "top": null,
            "visibility": null,
            "width": null
          }
        },
        "12602dba3c7c426b8d5130bba279f773": {
          "model_module": "@jupyter-widgets/controls",
          "model_name": "ProgressStyleModel",
          "model_module_version": "1.5.0",
          "state": {
            "_model_module": "@jupyter-widgets/controls",
            "_model_module_version": "1.5.0",
            "_model_name": "ProgressStyleModel",
            "_view_count": null,
            "_view_module": "@jupyter-widgets/base",
            "_view_module_version": "1.2.0",
            "_view_name": "StyleView",
            "bar_color": null,
            "description_width": ""
          }
        },
        "236831e6e88d42f9888efc2eb75e00c6": {
          "model_module": "@jupyter-widgets/base",
          "model_name": "LayoutModel",
          "model_module_version": "1.2.0",
          "state": {
            "_model_module": "@jupyter-widgets/base",
            "_model_module_version": "1.2.0",
            "_model_name": "LayoutModel",
            "_view_count": null,
            "_view_module": "@jupyter-widgets/base",
            "_view_module_version": "1.2.0",
            "_view_name": "LayoutView",
            "align_content": null,
            "align_items": null,
            "align_self": null,
            "border": null,
            "bottom": null,
            "display": null,
            "flex": null,
            "flex_flow": null,
            "grid_area": null,
            "grid_auto_columns": null,
            "grid_auto_flow": null,
            "grid_auto_rows": null,
            "grid_column": null,
            "grid_gap": null,
            "grid_row": null,
            "grid_template_areas": null,
            "grid_template_columns": null,
            "grid_template_rows": null,
            "height": null,
            "justify_content": null,
            "justify_items": null,
            "left": null,
            "margin": null,
            "max_height": null,
            "max_width": null,
            "min_height": null,
            "min_width": null,
            "object_fit": null,
            "object_position": null,
            "order": null,
            "overflow": null,
            "overflow_x": null,
            "overflow_y": null,
            "padding": null,
            "right": null,
            "top": null,
            "visibility": null,
            "width": null
          }
        },
        "8be93cc5967e43068ba9d682539d6ec0": {
          "model_module": "@jupyter-widgets/controls",
          "model_name": "DescriptionStyleModel",
          "model_module_version": "1.5.0",
          "state": {
            "_model_module": "@jupyter-widgets/controls",
            "_model_module_version": "1.5.0",
            "_model_name": "DescriptionStyleModel",
            "_view_count": null,
            "_view_module": "@jupyter-widgets/base",
            "_view_module_version": "1.2.0",
            "_view_name": "StyleView",
            "description_width": ""
          }
        },
        "5f28f7e45fc444d3be6b72837f58125c": {
          "model_module": "@jupyter-widgets/controls",
          "model_name": "HBoxModel",
          "model_module_version": "1.5.0",
          "state": {
            "_dom_classes": [],
            "_model_module": "@jupyter-widgets/controls",
            "_model_module_version": "1.5.0",
            "_model_name": "HBoxModel",
            "_view_count": null,
            "_view_module": "@jupyter-widgets/controls",
            "_view_module_version": "1.5.0",
            "_view_name": "HBoxView",
            "box_style": "",
            "children": [
              "IPY_MODEL_caf6d61acb974262819a56beea410970",
              "IPY_MODEL_0c256c194d8241dcb0c86cdb6d79c171",
              "IPY_MODEL_1afe3e590f5c444ebea3311c31d91bc9"
            ],
            "layout": "IPY_MODEL_18f23e43e84e4053874d2689066180bf"
          }
        },
        "caf6d61acb974262819a56beea410970": {
          "model_module": "@jupyter-widgets/controls",
          "model_name": "HTMLModel",
          "model_module_version": "1.5.0",
          "state": {
            "_dom_classes": [],
            "_model_module": "@jupyter-widgets/controls",
            "_model_module_version": "1.5.0",
            "_model_name": "HTMLModel",
            "_view_count": null,
            "_view_module": "@jupyter-widgets/controls",
            "_view_module_version": "1.5.0",
            "_view_name": "HTMLView",
            "description": "",
            "description_tooltip": null,
            "layout": "IPY_MODEL_a47fea9a58a84a049c5b076f8b160053",
            "placeholder": "​",
            "style": "IPY_MODEL_f2cb845f8cc046959a81b263e695be4d",
            "value": "Validation DataLoader 0: 100%"
          }
        },
        "0c256c194d8241dcb0c86cdb6d79c171": {
          "model_module": "@jupyter-widgets/controls",
          "model_name": "FloatProgressModel",
          "model_module_version": "1.5.0",
          "state": {
            "_dom_classes": [],
            "_model_module": "@jupyter-widgets/controls",
            "_model_module_version": "1.5.0",
            "_model_name": "FloatProgressModel",
            "_view_count": null,
            "_view_module": "@jupyter-widgets/controls",
            "_view_module_version": "1.5.0",
            "_view_name": "ProgressView",
            "bar_style": "",
            "description": "",
            "description_tooltip": null,
            "layout": "IPY_MODEL_c3a22240ae884fc9b5d50a42aedbf171",
            "max": 1,
            "min": 0,
            "orientation": "horizontal",
            "style": "IPY_MODEL_b016ec4ebd2c413f988f5509c55bf83b",
            "value": 1
          }
        },
        "1afe3e590f5c444ebea3311c31d91bc9": {
          "model_module": "@jupyter-widgets/controls",
          "model_name": "HTMLModel",
          "model_module_version": "1.5.0",
          "state": {
            "_dom_classes": [],
            "_model_module": "@jupyter-widgets/controls",
            "_model_module_version": "1.5.0",
            "_model_name": "HTMLModel",
            "_view_count": null,
            "_view_module": "@jupyter-widgets/controls",
            "_view_module_version": "1.5.0",
            "_view_name": "HTMLView",
            "description": "",
            "description_tooltip": null,
            "layout": "IPY_MODEL_ddd0fa7f81f44e1d9a20d4543f2b6337",
            "placeholder": "​",
            "style": "IPY_MODEL_a8fd4bd45cc64233a7d583186ec5613b",
            "value": " 313/313 [00:00&lt;00:00, 473.46it/s]"
          }
        },
        "18f23e43e84e4053874d2689066180bf": {
          "model_module": "@jupyter-widgets/base",
          "model_name": "LayoutModel",
          "model_module_version": "1.2.0",
          "state": {
            "_model_module": "@jupyter-widgets/base",
            "_model_module_version": "1.2.0",
            "_model_name": "LayoutModel",
            "_view_count": null,
            "_view_module": "@jupyter-widgets/base",
            "_view_module_version": "1.2.0",
            "_view_name": "LayoutView",
            "align_content": null,
            "align_items": null,
            "align_self": null,
            "border": null,
            "bottom": null,
            "display": "inline-flex",
            "flex": null,
            "flex_flow": "row wrap",
            "grid_area": null,
            "grid_auto_columns": null,
            "grid_auto_flow": null,
            "grid_auto_rows": null,
            "grid_column": null,
            "grid_gap": null,
            "grid_row": null,
            "grid_template_areas": null,
            "grid_template_columns": null,
            "grid_template_rows": null,
            "height": null,
            "justify_content": null,
            "justify_items": null,
            "left": null,
            "margin": null,
            "max_height": null,
            "max_width": null,
            "min_height": null,
            "min_width": null,
            "object_fit": null,
            "object_position": null,
            "order": null,
            "overflow": null,
            "overflow_x": null,
            "overflow_y": null,
            "padding": null,
            "right": null,
            "top": null,
            "visibility": "hidden",
            "width": "100%"
          }
        },
        "a47fea9a58a84a049c5b076f8b160053": {
          "model_module": "@jupyter-widgets/base",
          "model_name": "LayoutModel",
          "model_module_version": "1.2.0",
          "state": {
            "_model_module": "@jupyter-widgets/base",
            "_model_module_version": "1.2.0",
            "_model_name": "LayoutModel",
            "_view_count": null,
            "_view_module": "@jupyter-widgets/base",
            "_view_module_version": "1.2.0",
            "_view_name": "LayoutView",
            "align_content": null,
            "align_items": null,
            "align_self": null,
            "border": null,
            "bottom": null,
            "display": null,
            "flex": null,
            "flex_flow": null,
            "grid_area": null,
            "grid_auto_columns": null,
            "grid_auto_flow": null,
            "grid_auto_rows": null,
            "grid_column": null,
            "grid_gap": null,
            "grid_row": null,
            "grid_template_areas": null,
            "grid_template_columns": null,
            "grid_template_rows": null,
            "height": null,
            "justify_content": null,
            "justify_items": null,
            "left": null,
            "margin": null,
            "max_height": null,
            "max_width": null,
            "min_height": null,
            "min_width": null,
            "object_fit": null,
            "object_position": null,
            "order": null,
            "overflow": null,
            "overflow_x": null,
            "overflow_y": null,
            "padding": null,
            "right": null,
            "top": null,
            "visibility": null,
            "width": null
          }
        },
        "f2cb845f8cc046959a81b263e695be4d": {
          "model_module": "@jupyter-widgets/controls",
          "model_name": "DescriptionStyleModel",
          "model_module_version": "1.5.0",
          "state": {
            "_model_module": "@jupyter-widgets/controls",
            "_model_module_version": "1.5.0",
            "_model_name": "DescriptionStyleModel",
            "_view_count": null,
            "_view_module": "@jupyter-widgets/base",
            "_view_module_version": "1.2.0",
            "_view_name": "StyleView",
            "description_width": ""
          }
        },
        "c3a22240ae884fc9b5d50a42aedbf171": {
          "model_module": "@jupyter-widgets/base",
          "model_name": "LayoutModel",
          "model_module_version": "1.2.0",
          "state": {
            "_model_module": "@jupyter-widgets/base",
            "_model_module_version": "1.2.0",
            "_model_name": "LayoutModel",
            "_view_count": null,
            "_view_module": "@jupyter-widgets/base",
            "_view_module_version": "1.2.0",
            "_view_name": "LayoutView",
            "align_content": null,
            "align_items": null,
            "align_self": null,
            "border": null,
            "bottom": null,
            "display": null,
            "flex": "2",
            "flex_flow": null,
            "grid_area": null,
            "grid_auto_columns": null,
            "grid_auto_flow": null,
            "grid_auto_rows": null,
            "grid_column": null,
            "grid_gap": null,
            "grid_row": null,
            "grid_template_areas": null,
            "grid_template_columns": null,
            "grid_template_rows": null,
            "height": null,
            "justify_content": null,
            "justify_items": null,
            "left": null,
            "margin": null,
            "max_height": null,
            "max_width": null,
            "min_height": null,
            "min_width": null,
            "object_fit": null,
            "object_position": null,
            "order": null,
            "overflow": null,
            "overflow_x": null,
            "overflow_y": null,
            "padding": null,
            "right": null,
            "top": null,
            "visibility": null,
            "width": null
          }
        },
        "b016ec4ebd2c413f988f5509c55bf83b": {
          "model_module": "@jupyter-widgets/controls",
          "model_name": "ProgressStyleModel",
          "model_module_version": "1.5.0",
          "state": {
            "_model_module": "@jupyter-widgets/controls",
            "_model_module_version": "1.5.0",
            "_model_name": "ProgressStyleModel",
            "_view_count": null,
            "_view_module": "@jupyter-widgets/base",
            "_view_module_version": "1.2.0",
            "_view_name": "StyleView",
            "bar_color": null,
            "description_width": ""
          }
        },
        "ddd0fa7f81f44e1d9a20d4543f2b6337": {
          "model_module": "@jupyter-widgets/base",
          "model_name": "LayoutModel",
          "model_module_version": "1.2.0",
          "state": {
            "_model_module": "@jupyter-widgets/base",
            "_model_module_version": "1.2.0",
            "_model_name": "LayoutModel",
            "_view_count": null,
            "_view_module": "@jupyter-widgets/base",
            "_view_module_version": "1.2.0",
            "_view_name": "LayoutView",
            "align_content": null,
            "align_items": null,
            "align_self": null,
            "border": null,
            "bottom": null,
            "display": null,
            "flex": null,
            "flex_flow": null,
            "grid_area": null,
            "grid_auto_columns": null,
            "grid_auto_flow": null,
            "grid_auto_rows": null,
            "grid_column": null,
            "grid_gap": null,
            "grid_row": null,
            "grid_template_areas": null,
            "grid_template_columns": null,
            "grid_template_rows": null,
            "height": null,
            "justify_content": null,
            "justify_items": null,
            "left": null,
            "margin": null,
            "max_height": null,
            "max_width": null,
            "min_height": null,
            "min_width": null,
            "object_fit": null,
            "object_position": null,
            "order": null,
            "overflow": null,
            "overflow_x": null,
            "overflow_y": null,
            "padding": null,
            "right": null,
            "top": null,
            "visibility": null,
            "width": null
          }
        },
        "a8fd4bd45cc64233a7d583186ec5613b": {
          "model_module": "@jupyter-widgets/controls",
          "model_name": "DescriptionStyleModel",
          "model_module_version": "1.5.0",
          "state": {
            "_model_module": "@jupyter-widgets/controls",
            "_model_module_version": "1.5.0",
            "_model_name": "DescriptionStyleModel",
            "_view_count": null,
            "_view_module": "@jupyter-widgets/base",
            "_view_module_version": "1.2.0",
            "_view_name": "StyleView",
            "description_width": ""
          }
        },
        "4d3c88b808ea44249f9de5f3f0bf0d17": {
          "model_module": "@jupyter-widgets/controls",
          "model_name": "HBoxModel",
          "model_module_version": "1.5.0",
          "state": {
            "_dom_classes": [],
            "_model_module": "@jupyter-widgets/controls",
            "_model_module_version": "1.5.0",
            "_model_name": "HBoxModel",
            "_view_count": null,
            "_view_module": "@jupyter-widgets/controls",
            "_view_module_version": "1.5.0",
            "_view_name": "HBoxView",
            "box_style": "",
            "children": [
              "IPY_MODEL_abf8c5454cad40d0af6a55f5bcae8383",
              "IPY_MODEL_faa0a638ad674b77a8d3fc8e4b7c46e7",
              "IPY_MODEL_10b94d5338af4214aa2bd1f70765ac1d"
            ],
            "layout": "IPY_MODEL_6ab4321ea0e348fa8f4455f59259ff2f"
          }
        },
        "abf8c5454cad40d0af6a55f5bcae8383": {
          "model_module": "@jupyter-widgets/controls",
          "model_name": "HTMLModel",
          "model_module_version": "1.5.0",
          "state": {
            "_dom_classes": [],
            "_model_module": "@jupyter-widgets/controls",
            "_model_module_version": "1.5.0",
            "_model_name": "HTMLModel",
            "_view_count": null,
            "_view_module": "@jupyter-widgets/controls",
            "_view_module_version": "1.5.0",
            "_view_name": "HTMLView",
            "description": "",
            "description_tooltip": null,
            "layout": "IPY_MODEL_d61c4841693448498f07aba361eeba23",
            "placeholder": "​",
            "style": "IPY_MODEL_57d2b3983bb847bbb4da17ab992112f4",
            "value": "Validation DataLoader 0: 100%"
          }
        },
        "faa0a638ad674b77a8d3fc8e4b7c46e7": {
          "model_module": "@jupyter-widgets/controls",
          "model_name": "FloatProgressModel",
          "model_module_version": "1.5.0",
          "state": {
            "_dom_classes": [],
            "_model_module": "@jupyter-widgets/controls",
            "_model_module_version": "1.5.0",
            "_model_name": "FloatProgressModel",
            "_view_count": null,
            "_view_module": "@jupyter-widgets/controls",
            "_view_module_version": "1.5.0",
            "_view_name": "ProgressView",
            "bar_style": "",
            "description": "",
            "description_tooltip": null,
            "layout": "IPY_MODEL_27a230b951744e33b8b58e7763b6aed3",
            "max": 1,
            "min": 0,
            "orientation": "horizontal",
            "style": "IPY_MODEL_5c8e1f31a6e8490190c6f52da431020a",
            "value": 1
          }
        },
        "10b94d5338af4214aa2bd1f70765ac1d": {
          "model_module": "@jupyter-widgets/controls",
          "model_name": "HTMLModel",
          "model_module_version": "1.5.0",
          "state": {
            "_dom_classes": [],
            "_model_module": "@jupyter-widgets/controls",
            "_model_module_version": "1.5.0",
            "_model_name": "HTMLModel",
            "_view_count": null,
            "_view_module": "@jupyter-widgets/controls",
            "_view_module_version": "1.5.0",
            "_view_name": "HTMLView",
            "description": "",
            "description_tooltip": null,
            "layout": "IPY_MODEL_220882f8a18c463188f37675bfdd74b8",
            "placeholder": "​",
            "style": "IPY_MODEL_85fd5f22637343f8848b5b9e217f9fc9",
            "value": " 313/313 [00:00&lt;00:00, 389.26it/s]"
          }
        },
        "6ab4321ea0e348fa8f4455f59259ff2f": {
          "model_module": "@jupyter-widgets/base",
          "model_name": "LayoutModel",
          "model_module_version": "1.2.0",
          "state": {
            "_model_module": "@jupyter-widgets/base",
            "_model_module_version": "1.2.0",
            "_model_name": "LayoutModel",
            "_view_count": null,
            "_view_module": "@jupyter-widgets/base",
            "_view_module_version": "1.2.0",
            "_view_name": "LayoutView",
            "align_content": null,
            "align_items": null,
            "align_self": null,
            "border": null,
            "bottom": null,
            "display": "inline-flex",
            "flex": null,
            "flex_flow": "row wrap",
            "grid_area": null,
            "grid_auto_columns": null,
            "grid_auto_flow": null,
            "grid_auto_rows": null,
            "grid_column": null,
            "grid_gap": null,
            "grid_row": null,
            "grid_template_areas": null,
            "grid_template_columns": null,
            "grid_template_rows": null,
            "height": null,
            "justify_content": null,
            "justify_items": null,
            "left": null,
            "margin": null,
            "max_height": null,
            "max_width": null,
            "min_height": null,
            "min_width": null,
            "object_fit": null,
            "object_position": null,
            "order": null,
            "overflow": null,
            "overflow_x": null,
            "overflow_y": null,
            "padding": null,
            "right": null,
            "top": null,
            "visibility": "hidden",
            "width": "100%"
          }
        },
        "d61c4841693448498f07aba361eeba23": {
          "model_module": "@jupyter-widgets/base",
          "model_name": "LayoutModel",
          "model_module_version": "1.2.0",
          "state": {
            "_model_module": "@jupyter-widgets/base",
            "_model_module_version": "1.2.0",
            "_model_name": "LayoutModel",
            "_view_count": null,
            "_view_module": "@jupyter-widgets/base",
            "_view_module_version": "1.2.0",
            "_view_name": "LayoutView",
            "align_content": null,
            "align_items": null,
            "align_self": null,
            "border": null,
            "bottom": null,
            "display": null,
            "flex": null,
            "flex_flow": null,
            "grid_area": null,
            "grid_auto_columns": null,
            "grid_auto_flow": null,
            "grid_auto_rows": null,
            "grid_column": null,
            "grid_gap": null,
            "grid_row": null,
            "grid_template_areas": null,
            "grid_template_columns": null,
            "grid_template_rows": null,
            "height": null,
            "justify_content": null,
            "justify_items": null,
            "left": null,
            "margin": null,
            "max_height": null,
            "max_width": null,
            "min_height": null,
            "min_width": null,
            "object_fit": null,
            "object_position": null,
            "order": null,
            "overflow": null,
            "overflow_x": null,
            "overflow_y": null,
            "padding": null,
            "right": null,
            "top": null,
            "visibility": null,
            "width": null
          }
        },
        "57d2b3983bb847bbb4da17ab992112f4": {
          "model_module": "@jupyter-widgets/controls",
          "model_name": "DescriptionStyleModel",
          "model_module_version": "1.5.0",
          "state": {
            "_model_module": "@jupyter-widgets/controls",
            "_model_module_version": "1.5.0",
            "_model_name": "DescriptionStyleModel",
            "_view_count": null,
            "_view_module": "@jupyter-widgets/base",
            "_view_module_version": "1.2.0",
            "_view_name": "StyleView",
            "description_width": ""
          }
        },
        "27a230b951744e33b8b58e7763b6aed3": {
          "model_module": "@jupyter-widgets/base",
          "model_name": "LayoutModel",
          "model_module_version": "1.2.0",
          "state": {
            "_model_module": "@jupyter-widgets/base",
            "_model_module_version": "1.2.0",
            "_model_name": "LayoutModel",
            "_view_count": null,
            "_view_module": "@jupyter-widgets/base",
            "_view_module_version": "1.2.0",
            "_view_name": "LayoutView",
            "align_content": null,
            "align_items": null,
            "align_self": null,
            "border": null,
            "bottom": null,
            "display": null,
            "flex": "2",
            "flex_flow": null,
            "grid_area": null,
            "grid_auto_columns": null,
            "grid_auto_flow": null,
            "grid_auto_rows": null,
            "grid_column": null,
            "grid_gap": null,
            "grid_row": null,
            "grid_template_areas": null,
            "grid_template_columns": null,
            "grid_template_rows": null,
            "height": null,
            "justify_content": null,
            "justify_items": null,
            "left": null,
            "margin": null,
            "max_height": null,
            "max_width": null,
            "min_height": null,
            "min_width": null,
            "object_fit": null,
            "object_position": null,
            "order": null,
            "overflow": null,
            "overflow_x": null,
            "overflow_y": null,
            "padding": null,
            "right": null,
            "top": null,
            "visibility": null,
            "width": null
          }
        },
        "5c8e1f31a6e8490190c6f52da431020a": {
          "model_module": "@jupyter-widgets/controls",
          "model_name": "ProgressStyleModel",
          "model_module_version": "1.5.0",
          "state": {
            "_model_module": "@jupyter-widgets/controls",
            "_model_module_version": "1.5.0",
            "_model_name": "ProgressStyleModel",
            "_view_count": null,
            "_view_module": "@jupyter-widgets/base",
            "_view_module_version": "1.2.0",
            "_view_name": "StyleView",
            "bar_color": null,
            "description_width": ""
          }
        },
        "220882f8a18c463188f37675bfdd74b8": {
          "model_module": "@jupyter-widgets/base",
          "model_name": "LayoutModel",
          "model_module_version": "1.2.0",
          "state": {
            "_model_module": "@jupyter-widgets/base",
            "_model_module_version": "1.2.0",
            "_model_name": "LayoutModel",
            "_view_count": null,
            "_view_module": "@jupyter-widgets/base",
            "_view_module_version": "1.2.0",
            "_view_name": "LayoutView",
            "align_content": null,
            "align_items": null,
            "align_self": null,
            "border": null,
            "bottom": null,
            "display": null,
            "flex": null,
            "flex_flow": null,
            "grid_area": null,
            "grid_auto_columns": null,
            "grid_auto_flow": null,
            "grid_auto_rows": null,
            "grid_column": null,
            "grid_gap": null,
            "grid_row": null,
            "grid_template_areas": null,
            "grid_template_columns": null,
            "grid_template_rows": null,
            "height": null,
            "justify_content": null,
            "justify_items": null,
            "left": null,
            "margin": null,
            "max_height": null,
            "max_width": null,
            "min_height": null,
            "min_width": null,
            "object_fit": null,
            "object_position": null,
            "order": null,
            "overflow": null,
            "overflow_x": null,
            "overflow_y": null,
            "padding": null,
            "right": null,
            "top": null,
            "visibility": null,
            "width": null
          }
        },
        "85fd5f22637343f8848b5b9e217f9fc9": {
          "model_module": "@jupyter-widgets/controls",
          "model_name": "DescriptionStyleModel",
          "model_module_version": "1.5.0",
          "state": {
            "_model_module": "@jupyter-widgets/controls",
            "_model_module_version": "1.5.0",
            "_model_name": "DescriptionStyleModel",
            "_view_count": null,
            "_view_module": "@jupyter-widgets/base",
            "_view_module_version": "1.2.0",
            "_view_name": "StyleView",
            "description_width": ""
          }
        },
        "310edc12956d4bdd97064598155e7e2f": {
          "model_module": "@jupyter-widgets/controls",
          "model_name": "HBoxModel",
          "model_module_version": "1.5.0",
          "state": {
            "_dom_classes": [],
            "_model_module": "@jupyter-widgets/controls",
            "_model_module_version": "1.5.0",
            "_model_name": "HBoxModel",
            "_view_count": null,
            "_view_module": "@jupyter-widgets/controls",
            "_view_module_version": "1.5.0",
            "_view_name": "HBoxView",
            "box_style": "",
            "children": [
              "IPY_MODEL_71afb900e0034228a592128e6c92247e",
              "IPY_MODEL_f8aab8d00f874289b24c1c8be078a41d",
              "IPY_MODEL_eddd8b9630094d9aa9a04c832feaf778"
            ],
            "layout": "IPY_MODEL_e8997d0b1d49414e8c299c3df7bfb742"
          }
        },
        "71afb900e0034228a592128e6c92247e": {
          "model_module": "@jupyter-widgets/controls",
          "model_name": "HTMLModel",
          "model_module_version": "1.5.0",
          "state": {
            "_dom_classes": [],
            "_model_module": "@jupyter-widgets/controls",
            "_model_module_version": "1.5.0",
            "_model_name": "HTMLModel",
            "_view_count": null,
            "_view_module": "@jupyter-widgets/controls",
            "_view_module_version": "1.5.0",
            "_view_name": "HTMLView",
            "description": "",
            "description_tooltip": null,
            "layout": "IPY_MODEL_010cc9ae2fcd4ecc87a8b4cdaa103437",
            "placeholder": "​",
            "style": "IPY_MODEL_876353f4352e46c48b30312bc5c2e0dc",
            "value": "Validation DataLoader 0: 100%"
          }
        },
        "f8aab8d00f874289b24c1c8be078a41d": {
          "model_module": "@jupyter-widgets/controls",
          "model_name": "FloatProgressModel",
          "model_module_version": "1.5.0",
          "state": {
            "_dom_classes": [],
            "_model_module": "@jupyter-widgets/controls",
            "_model_module_version": "1.5.0",
            "_model_name": "FloatProgressModel",
            "_view_count": null,
            "_view_module": "@jupyter-widgets/controls",
            "_view_module_version": "1.5.0",
            "_view_name": "ProgressView",
            "bar_style": "",
            "description": "",
            "description_tooltip": null,
            "layout": "IPY_MODEL_54da6282003740eaaeacc4500435f4c0",
            "max": 1,
            "min": 0,
            "orientation": "horizontal",
            "style": "IPY_MODEL_6aab519c13604c8c88cba25d1e0a65f0",
            "value": 1
          }
        },
        "eddd8b9630094d9aa9a04c832feaf778": {
          "model_module": "@jupyter-widgets/controls",
          "model_name": "HTMLModel",
          "model_module_version": "1.5.0",
          "state": {
            "_dom_classes": [],
            "_model_module": "@jupyter-widgets/controls",
            "_model_module_version": "1.5.0",
            "_model_name": "HTMLModel",
            "_view_count": null,
            "_view_module": "@jupyter-widgets/controls",
            "_view_module_version": "1.5.0",
            "_view_name": "HTMLView",
            "description": "",
            "description_tooltip": null,
            "layout": "IPY_MODEL_ddc77392ccb5416fb98c2c614715e6eb",
            "placeholder": "​",
            "style": "IPY_MODEL_d46b3a1f30964dd7a3df192fe87a289d",
            "value": " 313/313 [00:00&lt;00:00, 487.02it/s]"
          }
        },
        "e8997d0b1d49414e8c299c3df7bfb742": {
          "model_module": "@jupyter-widgets/base",
          "model_name": "LayoutModel",
          "model_module_version": "1.2.0",
          "state": {
            "_model_module": "@jupyter-widgets/base",
            "_model_module_version": "1.2.0",
            "_model_name": "LayoutModel",
            "_view_count": null,
            "_view_module": "@jupyter-widgets/base",
            "_view_module_version": "1.2.0",
            "_view_name": "LayoutView",
            "align_content": null,
            "align_items": null,
            "align_self": null,
            "border": null,
            "bottom": null,
            "display": "inline-flex",
            "flex": null,
            "flex_flow": "row wrap",
            "grid_area": null,
            "grid_auto_columns": null,
            "grid_auto_flow": null,
            "grid_auto_rows": null,
            "grid_column": null,
            "grid_gap": null,
            "grid_row": null,
            "grid_template_areas": null,
            "grid_template_columns": null,
            "grid_template_rows": null,
            "height": null,
            "justify_content": null,
            "justify_items": null,
            "left": null,
            "margin": null,
            "max_height": null,
            "max_width": null,
            "min_height": null,
            "min_width": null,
            "object_fit": null,
            "object_position": null,
            "order": null,
            "overflow": null,
            "overflow_x": null,
            "overflow_y": null,
            "padding": null,
            "right": null,
            "top": null,
            "visibility": "hidden",
            "width": "100%"
          }
        },
        "010cc9ae2fcd4ecc87a8b4cdaa103437": {
          "model_module": "@jupyter-widgets/base",
          "model_name": "LayoutModel",
          "model_module_version": "1.2.0",
          "state": {
            "_model_module": "@jupyter-widgets/base",
            "_model_module_version": "1.2.0",
            "_model_name": "LayoutModel",
            "_view_count": null,
            "_view_module": "@jupyter-widgets/base",
            "_view_module_version": "1.2.0",
            "_view_name": "LayoutView",
            "align_content": null,
            "align_items": null,
            "align_self": null,
            "border": null,
            "bottom": null,
            "display": null,
            "flex": null,
            "flex_flow": null,
            "grid_area": null,
            "grid_auto_columns": null,
            "grid_auto_flow": null,
            "grid_auto_rows": null,
            "grid_column": null,
            "grid_gap": null,
            "grid_row": null,
            "grid_template_areas": null,
            "grid_template_columns": null,
            "grid_template_rows": null,
            "height": null,
            "justify_content": null,
            "justify_items": null,
            "left": null,
            "margin": null,
            "max_height": null,
            "max_width": null,
            "min_height": null,
            "min_width": null,
            "object_fit": null,
            "object_position": null,
            "order": null,
            "overflow": null,
            "overflow_x": null,
            "overflow_y": null,
            "padding": null,
            "right": null,
            "top": null,
            "visibility": null,
            "width": null
          }
        },
        "876353f4352e46c48b30312bc5c2e0dc": {
          "model_module": "@jupyter-widgets/controls",
          "model_name": "DescriptionStyleModel",
          "model_module_version": "1.5.0",
          "state": {
            "_model_module": "@jupyter-widgets/controls",
            "_model_module_version": "1.5.0",
            "_model_name": "DescriptionStyleModel",
            "_view_count": null,
            "_view_module": "@jupyter-widgets/base",
            "_view_module_version": "1.2.0",
            "_view_name": "StyleView",
            "description_width": ""
          }
        },
        "54da6282003740eaaeacc4500435f4c0": {
          "model_module": "@jupyter-widgets/base",
          "model_name": "LayoutModel",
          "model_module_version": "1.2.0",
          "state": {
            "_model_module": "@jupyter-widgets/base",
            "_model_module_version": "1.2.0",
            "_model_name": "LayoutModel",
            "_view_count": null,
            "_view_module": "@jupyter-widgets/base",
            "_view_module_version": "1.2.0",
            "_view_name": "LayoutView",
            "align_content": null,
            "align_items": null,
            "align_self": null,
            "border": null,
            "bottom": null,
            "display": null,
            "flex": "2",
            "flex_flow": null,
            "grid_area": null,
            "grid_auto_columns": null,
            "grid_auto_flow": null,
            "grid_auto_rows": null,
            "grid_column": null,
            "grid_gap": null,
            "grid_row": null,
            "grid_template_areas": null,
            "grid_template_columns": null,
            "grid_template_rows": null,
            "height": null,
            "justify_content": null,
            "justify_items": null,
            "left": null,
            "margin": null,
            "max_height": null,
            "max_width": null,
            "min_height": null,
            "min_width": null,
            "object_fit": null,
            "object_position": null,
            "order": null,
            "overflow": null,
            "overflow_x": null,
            "overflow_y": null,
            "padding": null,
            "right": null,
            "top": null,
            "visibility": null,
            "width": null
          }
        },
        "6aab519c13604c8c88cba25d1e0a65f0": {
          "model_module": "@jupyter-widgets/controls",
          "model_name": "ProgressStyleModel",
          "model_module_version": "1.5.0",
          "state": {
            "_model_module": "@jupyter-widgets/controls",
            "_model_module_version": "1.5.0",
            "_model_name": "ProgressStyleModel",
            "_view_count": null,
            "_view_module": "@jupyter-widgets/base",
            "_view_module_version": "1.2.0",
            "_view_name": "StyleView",
            "bar_color": null,
            "description_width": ""
          }
        },
        "ddc77392ccb5416fb98c2c614715e6eb": {
          "model_module": "@jupyter-widgets/base",
          "model_name": "LayoutModel",
          "model_module_version": "1.2.0",
          "state": {
            "_model_module": "@jupyter-widgets/base",
            "_model_module_version": "1.2.0",
            "_model_name": "LayoutModel",
            "_view_count": null,
            "_view_module": "@jupyter-widgets/base",
            "_view_module_version": "1.2.0",
            "_view_name": "LayoutView",
            "align_content": null,
            "align_items": null,
            "align_self": null,
            "border": null,
            "bottom": null,
            "display": null,
            "flex": null,
            "flex_flow": null,
            "grid_area": null,
            "grid_auto_columns": null,
            "grid_auto_flow": null,
            "grid_auto_rows": null,
            "grid_column": null,
            "grid_gap": null,
            "grid_row": null,
            "grid_template_areas": null,
            "grid_template_columns": null,
            "grid_template_rows": null,
            "height": null,
            "justify_content": null,
            "justify_items": null,
            "left": null,
            "margin": null,
            "max_height": null,
            "max_width": null,
            "min_height": null,
            "min_width": null,
            "object_fit": null,
            "object_position": null,
            "order": null,
            "overflow": null,
            "overflow_x": null,
            "overflow_y": null,
            "padding": null,
            "right": null,
            "top": null,
            "visibility": null,
            "width": null
          }
        },
        "d46b3a1f30964dd7a3df192fe87a289d": {
          "model_module": "@jupyter-widgets/controls",
          "model_name": "DescriptionStyleModel",
          "model_module_version": "1.5.0",
          "state": {
            "_model_module": "@jupyter-widgets/controls",
            "_model_module_version": "1.5.0",
            "_model_name": "DescriptionStyleModel",
            "_view_count": null,
            "_view_module": "@jupyter-widgets/base",
            "_view_module_version": "1.2.0",
            "_view_name": "StyleView",
            "description_width": ""
          }
        },
        "bbac5b0443be409aa5ddc74583d77654": {
          "model_module": "@jupyter-widgets/controls",
          "model_name": "HBoxModel",
          "model_module_version": "1.5.0",
          "state": {
            "_dom_classes": [],
            "_model_module": "@jupyter-widgets/controls",
            "_model_module_version": "1.5.0",
            "_model_name": "HBoxModel",
            "_view_count": null,
            "_view_module": "@jupyter-widgets/controls",
            "_view_module_version": "1.5.0",
            "_view_name": "HBoxView",
            "box_style": "",
            "children": [
              "IPY_MODEL_89d57b4ee69b4147986f7f29049fbf25",
              "IPY_MODEL_fbea3f7bad6f44218b85153ea7ff9b86",
              "IPY_MODEL_71ef23b0ac3f4eed85a51ea32a31c5d9"
            ],
            "layout": "IPY_MODEL_8e6f2906e4fc4764b878389727f6001d"
          }
        },
        "89d57b4ee69b4147986f7f29049fbf25": {
          "model_module": "@jupyter-widgets/controls",
          "model_name": "HTMLModel",
          "model_module_version": "1.5.0",
          "state": {
            "_dom_classes": [],
            "_model_module": "@jupyter-widgets/controls",
            "_model_module_version": "1.5.0",
            "_model_name": "HTMLModel",
            "_view_count": null,
            "_view_module": "@jupyter-widgets/controls",
            "_view_module_version": "1.5.0",
            "_view_name": "HTMLView",
            "description": "",
            "description_tooltip": null,
            "layout": "IPY_MODEL_56818a43f43540959bdb37f753f7ae4e",
            "placeholder": "​",
            "style": "IPY_MODEL_b47319e68b6244a8bc0a75f1bc721409",
            "value": "Validation DataLoader 0: 100%"
          }
        },
        "fbea3f7bad6f44218b85153ea7ff9b86": {
          "model_module": "@jupyter-widgets/controls",
          "model_name": "FloatProgressModel",
          "model_module_version": "1.5.0",
          "state": {
            "_dom_classes": [],
            "_model_module": "@jupyter-widgets/controls",
            "_model_module_version": "1.5.0",
            "_model_name": "FloatProgressModel",
            "_view_count": null,
            "_view_module": "@jupyter-widgets/controls",
            "_view_module_version": "1.5.0",
            "_view_name": "ProgressView",
            "bar_style": "",
            "description": "",
            "description_tooltip": null,
            "layout": "IPY_MODEL_0e60cf1e052544c3a5a9730cf6962c10",
            "max": 1,
            "min": 0,
            "orientation": "horizontal",
            "style": "IPY_MODEL_33a7ab5be1ff4fc88303e2b4454282b5",
            "value": 1
          }
        },
        "71ef23b0ac3f4eed85a51ea32a31c5d9": {
          "model_module": "@jupyter-widgets/controls",
          "model_name": "HTMLModel",
          "model_module_version": "1.5.0",
          "state": {
            "_dom_classes": [],
            "_model_module": "@jupyter-widgets/controls",
            "_model_module_version": "1.5.0",
            "_model_name": "HTMLModel",
            "_view_count": null,
            "_view_module": "@jupyter-widgets/controls",
            "_view_module_version": "1.5.0",
            "_view_name": "HTMLView",
            "description": "",
            "description_tooltip": null,
            "layout": "IPY_MODEL_9cb105fb3fa14b4b83e47ff80025dbc1",
            "placeholder": "​",
            "style": "IPY_MODEL_742632fed3c5429483d922988c0ae4fd",
            "value": " 313/313 [00:00&lt;00:00, 471.46it/s]"
          }
        },
        "8e6f2906e4fc4764b878389727f6001d": {
          "model_module": "@jupyter-widgets/base",
          "model_name": "LayoutModel",
          "model_module_version": "1.2.0",
          "state": {
            "_model_module": "@jupyter-widgets/base",
            "_model_module_version": "1.2.0",
            "_model_name": "LayoutModel",
            "_view_count": null,
            "_view_module": "@jupyter-widgets/base",
            "_view_module_version": "1.2.0",
            "_view_name": "LayoutView",
            "align_content": null,
            "align_items": null,
            "align_self": null,
            "border": null,
            "bottom": null,
            "display": "inline-flex",
            "flex": null,
            "flex_flow": "row wrap",
            "grid_area": null,
            "grid_auto_columns": null,
            "grid_auto_flow": null,
            "grid_auto_rows": null,
            "grid_column": null,
            "grid_gap": null,
            "grid_row": null,
            "grid_template_areas": null,
            "grid_template_columns": null,
            "grid_template_rows": null,
            "height": null,
            "justify_content": null,
            "justify_items": null,
            "left": null,
            "margin": null,
            "max_height": null,
            "max_width": null,
            "min_height": null,
            "min_width": null,
            "object_fit": null,
            "object_position": null,
            "order": null,
            "overflow": null,
            "overflow_x": null,
            "overflow_y": null,
            "padding": null,
            "right": null,
            "top": null,
            "visibility": "hidden",
            "width": "100%"
          }
        },
        "56818a43f43540959bdb37f753f7ae4e": {
          "model_module": "@jupyter-widgets/base",
          "model_name": "LayoutModel",
          "model_module_version": "1.2.0",
          "state": {
            "_model_module": "@jupyter-widgets/base",
            "_model_module_version": "1.2.0",
            "_model_name": "LayoutModel",
            "_view_count": null,
            "_view_module": "@jupyter-widgets/base",
            "_view_module_version": "1.2.0",
            "_view_name": "LayoutView",
            "align_content": null,
            "align_items": null,
            "align_self": null,
            "border": null,
            "bottom": null,
            "display": null,
            "flex": null,
            "flex_flow": null,
            "grid_area": null,
            "grid_auto_columns": null,
            "grid_auto_flow": null,
            "grid_auto_rows": null,
            "grid_column": null,
            "grid_gap": null,
            "grid_row": null,
            "grid_template_areas": null,
            "grid_template_columns": null,
            "grid_template_rows": null,
            "height": null,
            "justify_content": null,
            "justify_items": null,
            "left": null,
            "margin": null,
            "max_height": null,
            "max_width": null,
            "min_height": null,
            "min_width": null,
            "object_fit": null,
            "object_position": null,
            "order": null,
            "overflow": null,
            "overflow_x": null,
            "overflow_y": null,
            "padding": null,
            "right": null,
            "top": null,
            "visibility": null,
            "width": null
          }
        },
        "b47319e68b6244a8bc0a75f1bc721409": {
          "model_module": "@jupyter-widgets/controls",
          "model_name": "DescriptionStyleModel",
          "model_module_version": "1.5.0",
          "state": {
            "_model_module": "@jupyter-widgets/controls",
            "_model_module_version": "1.5.0",
            "_model_name": "DescriptionStyleModel",
            "_view_count": null,
            "_view_module": "@jupyter-widgets/base",
            "_view_module_version": "1.2.0",
            "_view_name": "StyleView",
            "description_width": ""
          }
        },
        "0e60cf1e052544c3a5a9730cf6962c10": {
          "model_module": "@jupyter-widgets/base",
          "model_name": "LayoutModel",
          "model_module_version": "1.2.0",
          "state": {
            "_model_module": "@jupyter-widgets/base",
            "_model_module_version": "1.2.0",
            "_model_name": "LayoutModel",
            "_view_count": null,
            "_view_module": "@jupyter-widgets/base",
            "_view_module_version": "1.2.0",
            "_view_name": "LayoutView",
            "align_content": null,
            "align_items": null,
            "align_self": null,
            "border": null,
            "bottom": null,
            "display": null,
            "flex": "2",
            "flex_flow": null,
            "grid_area": null,
            "grid_auto_columns": null,
            "grid_auto_flow": null,
            "grid_auto_rows": null,
            "grid_column": null,
            "grid_gap": null,
            "grid_row": null,
            "grid_template_areas": null,
            "grid_template_columns": null,
            "grid_template_rows": null,
            "height": null,
            "justify_content": null,
            "justify_items": null,
            "left": null,
            "margin": null,
            "max_height": null,
            "max_width": null,
            "min_height": null,
            "min_width": null,
            "object_fit": null,
            "object_position": null,
            "order": null,
            "overflow": null,
            "overflow_x": null,
            "overflow_y": null,
            "padding": null,
            "right": null,
            "top": null,
            "visibility": null,
            "width": null
          }
        },
        "33a7ab5be1ff4fc88303e2b4454282b5": {
          "model_module": "@jupyter-widgets/controls",
          "model_name": "ProgressStyleModel",
          "model_module_version": "1.5.0",
          "state": {
            "_model_module": "@jupyter-widgets/controls",
            "_model_module_version": "1.5.0",
            "_model_name": "ProgressStyleModel",
            "_view_count": null,
            "_view_module": "@jupyter-widgets/base",
            "_view_module_version": "1.2.0",
            "_view_name": "StyleView",
            "bar_color": null,
            "description_width": ""
          }
        },
        "9cb105fb3fa14b4b83e47ff80025dbc1": {
          "model_module": "@jupyter-widgets/base",
          "model_name": "LayoutModel",
          "model_module_version": "1.2.0",
          "state": {
            "_model_module": "@jupyter-widgets/base",
            "_model_module_version": "1.2.0",
            "_model_name": "LayoutModel",
            "_view_count": null,
            "_view_module": "@jupyter-widgets/base",
            "_view_module_version": "1.2.0",
            "_view_name": "LayoutView",
            "align_content": null,
            "align_items": null,
            "align_self": null,
            "border": null,
            "bottom": null,
            "display": null,
            "flex": null,
            "flex_flow": null,
            "grid_area": null,
            "grid_auto_columns": null,
            "grid_auto_flow": null,
            "grid_auto_rows": null,
            "grid_column": null,
            "grid_gap": null,
            "grid_row": null,
            "grid_template_areas": null,
            "grid_template_columns": null,
            "grid_template_rows": null,
            "height": null,
            "justify_content": null,
            "justify_items": null,
            "left": null,
            "margin": null,
            "max_height": null,
            "max_width": null,
            "min_height": null,
            "min_width": null,
            "object_fit": null,
            "object_position": null,
            "order": null,
            "overflow": null,
            "overflow_x": null,
            "overflow_y": null,
            "padding": null,
            "right": null,
            "top": null,
            "visibility": null,
            "width": null
          }
        },
        "742632fed3c5429483d922988c0ae4fd": {
          "model_module": "@jupyter-widgets/controls",
          "model_name": "DescriptionStyleModel",
          "model_module_version": "1.5.0",
          "state": {
            "_model_module": "@jupyter-widgets/controls",
            "_model_module_version": "1.5.0",
            "_model_name": "DescriptionStyleModel",
            "_view_count": null,
            "_view_module": "@jupyter-widgets/base",
            "_view_module_version": "1.2.0",
            "_view_name": "StyleView",
            "description_width": ""
          }
        },
        "e24a76f83b6848eebbb0e5cc4bd9933a": {
          "model_module": "@jupyter-widgets/controls",
          "model_name": "HBoxModel",
          "model_module_version": "1.5.0",
          "state": {
            "_dom_classes": [],
            "_model_module": "@jupyter-widgets/controls",
            "_model_module_version": "1.5.0",
            "_model_name": "HBoxModel",
            "_view_count": null,
            "_view_module": "@jupyter-widgets/controls",
            "_view_module_version": "1.5.0",
            "_view_name": "HBoxView",
            "box_style": "",
            "children": [
              "IPY_MODEL_756d27774fdc4f828095c97706b3856b",
              "IPY_MODEL_67b31b27f4df4744ab1ecb43b75bb058",
              "IPY_MODEL_09bdc64b83e24c2ab3da98ac47494158"
            ],
            "layout": "IPY_MODEL_c940fed3a9a4408a94d5eb21f5dd8da8"
          }
        },
        "756d27774fdc4f828095c97706b3856b": {
          "model_module": "@jupyter-widgets/controls",
          "model_name": "HTMLModel",
          "model_module_version": "1.5.0",
          "state": {
            "_dom_classes": [],
            "_model_module": "@jupyter-widgets/controls",
            "_model_module_version": "1.5.0",
            "_model_name": "HTMLModel",
            "_view_count": null,
            "_view_module": "@jupyter-widgets/controls",
            "_view_module_version": "1.5.0",
            "_view_name": "HTMLView",
            "description": "",
            "description_tooltip": null,
            "layout": "IPY_MODEL_a3b78f99379e49899119130b4e835e2f",
            "placeholder": "​",
            "style": "IPY_MODEL_030b1741b5834a80a2e377a77c4aa37e",
            "value": "Validation DataLoader 0: 100%"
          }
        },
        "67b31b27f4df4744ab1ecb43b75bb058": {
          "model_module": "@jupyter-widgets/controls",
          "model_name": "FloatProgressModel",
          "model_module_version": "1.5.0",
          "state": {
            "_dom_classes": [],
            "_model_module": "@jupyter-widgets/controls",
            "_model_module_version": "1.5.0",
            "_model_name": "FloatProgressModel",
            "_view_count": null,
            "_view_module": "@jupyter-widgets/controls",
            "_view_module_version": "1.5.0",
            "_view_name": "ProgressView",
            "bar_style": "",
            "description": "",
            "description_tooltip": null,
            "layout": "IPY_MODEL_c986bbdb3faf4168b716b63e8b18e75b",
            "max": 1,
            "min": 0,
            "orientation": "horizontal",
            "style": "IPY_MODEL_94c1efc9347946ad8d8a68e16cb2f594",
            "value": 1
          }
        },
        "09bdc64b83e24c2ab3da98ac47494158": {
          "model_module": "@jupyter-widgets/controls",
          "model_name": "HTMLModel",
          "model_module_version": "1.5.0",
          "state": {
            "_dom_classes": [],
            "_model_module": "@jupyter-widgets/controls",
            "_model_module_version": "1.5.0",
            "_model_name": "HTMLModel",
            "_view_count": null,
            "_view_module": "@jupyter-widgets/controls",
            "_view_module_version": "1.5.0",
            "_view_name": "HTMLView",
            "description": "",
            "description_tooltip": null,
            "layout": "IPY_MODEL_908be1a427604a34921e8a17dde73bfd",
            "placeholder": "​",
            "style": "IPY_MODEL_ca8aaf7c45cb4d14aafa303827f77226",
            "value": " 313/313 [00:00&lt;00:00, 484.40it/s]"
          }
        },
        "c940fed3a9a4408a94d5eb21f5dd8da8": {
          "model_module": "@jupyter-widgets/base",
          "model_name": "LayoutModel",
          "model_module_version": "1.2.0",
          "state": {
            "_model_module": "@jupyter-widgets/base",
            "_model_module_version": "1.2.0",
            "_model_name": "LayoutModel",
            "_view_count": null,
            "_view_module": "@jupyter-widgets/base",
            "_view_module_version": "1.2.0",
            "_view_name": "LayoutView",
            "align_content": null,
            "align_items": null,
            "align_self": null,
            "border": null,
            "bottom": null,
            "display": "inline-flex",
            "flex": null,
            "flex_flow": "row wrap",
            "grid_area": null,
            "grid_auto_columns": null,
            "grid_auto_flow": null,
            "grid_auto_rows": null,
            "grid_column": null,
            "grid_gap": null,
            "grid_row": null,
            "grid_template_areas": null,
            "grid_template_columns": null,
            "grid_template_rows": null,
            "height": null,
            "justify_content": null,
            "justify_items": null,
            "left": null,
            "margin": null,
            "max_height": null,
            "max_width": null,
            "min_height": null,
            "min_width": null,
            "object_fit": null,
            "object_position": null,
            "order": null,
            "overflow": null,
            "overflow_x": null,
            "overflow_y": null,
            "padding": null,
            "right": null,
            "top": null,
            "visibility": "hidden",
            "width": "100%"
          }
        },
        "a3b78f99379e49899119130b4e835e2f": {
          "model_module": "@jupyter-widgets/base",
          "model_name": "LayoutModel",
          "model_module_version": "1.2.0",
          "state": {
            "_model_module": "@jupyter-widgets/base",
            "_model_module_version": "1.2.0",
            "_model_name": "LayoutModel",
            "_view_count": null,
            "_view_module": "@jupyter-widgets/base",
            "_view_module_version": "1.2.0",
            "_view_name": "LayoutView",
            "align_content": null,
            "align_items": null,
            "align_self": null,
            "border": null,
            "bottom": null,
            "display": null,
            "flex": null,
            "flex_flow": null,
            "grid_area": null,
            "grid_auto_columns": null,
            "grid_auto_flow": null,
            "grid_auto_rows": null,
            "grid_column": null,
            "grid_gap": null,
            "grid_row": null,
            "grid_template_areas": null,
            "grid_template_columns": null,
            "grid_template_rows": null,
            "height": null,
            "justify_content": null,
            "justify_items": null,
            "left": null,
            "margin": null,
            "max_height": null,
            "max_width": null,
            "min_height": null,
            "min_width": null,
            "object_fit": null,
            "object_position": null,
            "order": null,
            "overflow": null,
            "overflow_x": null,
            "overflow_y": null,
            "padding": null,
            "right": null,
            "top": null,
            "visibility": null,
            "width": null
          }
        },
        "030b1741b5834a80a2e377a77c4aa37e": {
          "model_module": "@jupyter-widgets/controls",
          "model_name": "DescriptionStyleModel",
          "model_module_version": "1.5.0",
          "state": {
            "_model_module": "@jupyter-widgets/controls",
            "_model_module_version": "1.5.0",
            "_model_name": "DescriptionStyleModel",
            "_view_count": null,
            "_view_module": "@jupyter-widgets/base",
            "_view_module_version": "1.2.0",
            "_view_name": "StyleView",
            "description_width": ""
          }
        },
        "c986bbdb3faf4168b716b63e8b18e75b": {
          "model_module": "@jupyter-widgets/base",
          "model_name": "LayoutModel",
          "model_module_version": "1.2.0",
          "state": {
            "_model_module": "@jupyter-widgets/base",
            "_model_module_version": "1.2.0",
            "_model_name": "LayoutModel",
            "_view_count": null,
            "_view_module": "@jupyter-widgets/base",
            "_view_module_version": "1.2.0",
            "_view_name": "LayoutView",
            "align_content": null,
            "align_items": null,
            "align_self": null,
            "border": null,
            "bottom": null,
            "display": null,
            "flex": "2",
            "flex_flow": null,
            "grid_area": null,
            "grid_auto_columns": null,
            "grid_auto_flow": null,
            "grid_auto_rows": null,
            "grid_column": null,
            "grid_gap": null,
            "grid_row": null,
            "grid_template_areas": null,
            "grid_template_columns": null,
            "grid_template_rows": null,
            "height": null,
            "justify_content": null,
            "justify_items": null,
            "left": null,
            "margin": null,
            "max_height": null,
            "max_width": null,
            "min_height": null,
            "min_width": null,
            "object_fit": null,
            "object_position": null,
            "order": null,
            "overflow": null,
            "overflow_x": null,
            "overflow_y": null,
            "padding": null,
            "right": null,
            "top": null,
            "visibility": null,
            "width": null
          }
        },
        "94c1efc9347946ad8d8a68e16cb2f594": {
          "model_module": "@jupyter-widgets/controls",
          "model_name": "ProgressStyleModel",
          "model_module_version": "1.5.0",
          "state": {
            "_model_module": "@jupyter-widgets/controls",
            "_model_module_version": "1.5.0",
            "_model_name": "ProgressStyleModel",
            "_view_count": null,
            "_view_module": "@jupyter-widgets/base",
            "_view_module_version": "1.2.0",
            "_view_name": "StyleView",
            "bar_color": null,
            "description_width": ""
          }
        },
        "908be1a427604a34921e8a17dde73bfd": {
          "model_module": "@jupyter-widgets/base",
          "model_name": "LayoutModel",
          "model_module_version": "1.2.0",
          "state": {
            "_model_module": "@jupyter-widgets/base",
            "_model_module_version": "1.2.0",
            "_model_name": "LayoutModel",
            "_view_count": null,
            "_view_module": "@jupyter-widgets/base",
            "_view_module_version": "1.2.0",
            "_view_name": "LayoutView",
            "align_content": null,
            "align_items": null,
            "align_self": null,
            "border": null,
            "bottom": null,
            "display": null,
            "flex": null,
            "flex_flow": null,
            "grid_area": null,
            "grid_auto_columns": null,
            "grid_auto_flow": null,
            "grid_auto_rows": null,
            "grid_column": null,
            "grid_gap": null,
            "grid_row": null,
            "grid_template_areas": null,
            "grid_template_columns": null,
            "grid_template_rows": null,
            "height": null,
            "justify_content": null,
            "justify_items": null,
            "left": null,
            "margin": null,
            "max_height": null,
            "max_width": null,
            "min_height": null,
            "min_width": null,
            "object_fit": null,
            "object_position": null,
            "order": null,
            "overflow": null,
            "overflow_x": null,
            "overflow_y": null,
            "padding": null,
            "right": null,
            "top": null,
            "visibility": null,
            "width": null
          }
        },
        "ca8aaf7c45cb4d14aafa303827f77226": {
          "model_module": "@jupyter-widgets/controls",
          "model_name": "DescriptionStyleModel",
          "model_module_version": "1.5.0",
          "state": {
            "_model_module": "@jupyter-widgets/controls",
            "_model_module_version": "1.5.0",
            "_model_name": "DescriptionStyleModel",
            "_view_count": null,
            "_view_module": "@jupyter-widgets/base",
            "_view_module_version": "1.2.0",
            "_view_name": "StyleView",
            "description_width": ""
          }
        },
        "078df2b23a0247c994ef9d470f7c4cff": {
          "model_module": "@jupyter-widgets/controls",
          "model_name": "HBoxModel",
          "model_module_version": "1.5.0",
          "state": {
            "_dom_classes": [],
            "_model_module": "@jupyter-widgets/controls",
            "_model_module_version": "1.5.0",
            "_model_name": "HBoxModel",
            "_view_count": null,
            "_view_module": "@jupyter-widgets/controls",
            "_view_module_version": "1.5.0",
            "_view_name": "HBoxView",
            "box_style": "",
            "children": [
              "IPY_MODEL_13bcadaa6d774f9081a7970e0041fe27",
              "IPY_MODEL_b846b00ea3aa4be0bb804990713b45d2",
              "IPY_MODEL_4b609a75a8454a51865272a819cd4ca4"
            ],
            "layout": "IPY_MODEL_1dd7500bdead42e8b188d888d6a625e2"
          }
        },
        "13bcadaa6d774f9081a7970e0041fe27": {
          "model_module": "@jupyter-widgets/controls",
          "model_name": "HTMLModel",
          "model_module_version": "1.5.0",
          "state": {
            "_dom_classes": [],
            "_model_module": "@jupyter-widgets/controls",
            "_model_module_version": "1.5.0",
            "_model_name": "HTMLModel",
            "_view_count": null,
            "_view_module": "@jupyter-widgets/controls",
            "_view_module_version": "1.5.0",
            "_view_name": "HTMLView",
            "description": "",
            "description_tooltip": null,
            "layout": "IPY_MODEL_bf41fa4f3cba4d2db0cecfa227bbed5f",
            "placeholder": "​",
            "style": "IPY_MODEL_ac03f6882c104abaac0096d1e86cbcbf",
            "value": "Validation DataLoader 0: 100%"
          }
        },
        "b846b00ea3aa4be0bb804990713b45d2": {
          "model_module": "@jupyter-widgets/controls",
          "model_name": "FloatProgressModel",
          "model_module_version": "1.5.0",
          "state": {
            "_dom_classes": [],
            "_model_module": "@jupyter-widgets/controls",
            "_model_module_version": "1.5.0",
            "_model_name": "FloatProgressModel",
            "_view_count": null,
            "_view_module": "@jupyter-widgets/controls",
            "_view_module_version": "1.5.0",
            "_view_name": "ProgressView",
            "bar_style": "",
            "description": "",
            "description_tooltip": null,
            "layout": "IPY_MODEL_cc341ef43f444f0fa2099d2d6306431b",
            "max": 1,
            "min": 0,
            "orientation": "horizontal",
            "style": "IPY_MODEL_4f34cabdfbc547b187936f0b3781065a",
            "value": 1
          }
        },
        "4b609a75a8454a51865272a819cd4ca4": {
          "model_module": "@jupyter-widgets/controls",
          "model_name": "HTMLModel",
          "model_module_version": "1.5.0",
          "state": {
            "_dom_classes": [],
            "_model_module": "@jupyter-widgets/controls",
            "_model_module_version": "1.5.0",
            "_model_name": "HTMLModel",
            "_view_count": null,
            "_view_module": "@jupyter-widgets/controls",
            "_view_module_version": "1.5.0",
            "_view_name": "HTMLView",
            "description": "",
            "description_tooltip": null,
            "layout": "IPY_MODEL_4bab4ae0ae724caf999007286cececb1",
            "placeholder": "​",
            "style": "IPY_MODEL_b6641a079f4a42ed8be669b296e0cc9a",
            "value": " 313/313 [00:00&lt;00:00, 481.03it/s]"
          }
        },
        "1dd7500bdead42e8b188d888d6a625e2": {
          "model_module": "@jupyter-widgets/base",
          "model_name": "LayoutModel",
          "model_module_version": "1.2.0",
          "state": {
            "_model_module": "@jupyter-widgets/base",
            "_model_module_version": "1.2.0",
            "_model_name": "LayoutModel",
            "_view_count": null,
            "_view_module": "@jupyter-widgets/base",
            "_view_module_version": "1.2.0",
            "_view_name": "LayoutView",
            "align_content": null,
            "align_items": null,
            "align_self": null,
            "border": null,
            "bottom": null,
            "display": "inline-flex",
            "flex": null,
            "flex_flow": "row wrap",
            "grid_area": null,
            "grid_auto_columns": null,
            "grid_auto_flow": null,
            "grid_auto_rows": null,
            "grid_column": null,
            "grid_gap": null,
            "grid_row": null,
            "grid_template_areas": null,
            "grid_template_columns": null,
            "grid_template_rows": null,
            "height": null,
            "justify_content": null,
            "justify_items": null,
            "left": null,
            "margin": null,
            "max_height": null,
            "max_width": null,
            "min_height": null,
            "min_width": null,
            "object_fit": null,
            "object_position": null,
            "order": null,
            "overflow": null,
            "overflow_x": null,
            "overflow_y": null,
            "padding": null,
            "right": null,
            "top": null,
            "visibility": "hidden",
            "width": "100%"
          }
        },
        "bf41fa4f3cba4d2db0cecfa227bbed5f": {
          "model_module": "@jupyter-widgets/base",
          "model_name": "LayoutModel",
          "model_module_version": "1.2.0",
          "state": {
            "_model_module": "@jupyter-widgets/base",
            "_model_module_version": "1.2.0",
            "_model_name": "LayoutModel",
            "_view_count": null,
            "_view_module": "@jupyter-widgets/base",
            "_view_module_version": "1.2.0",
            "_view_name": "LayoutView",
            "align_content": null,
            "align_items": null,
            "align_self": null,
            "border": null,
            "bottom": null,
            "display": null,
            "flex": null,
            "flex_flow": null,
            "grid_area": null,
            "grid_auto_columns": null,
            "grid_auto_flow": null,
            "grid_auto_rows": null,
            "grid_column": null,
            "grid_gap": null,
            "grid_row": null,
            "grid_template_areas": null,
            "grid_template_columns": null,
            "grid_template_rows": null,
            "height": null,
            "justify_content": null,
            "justify_items": null,
            "left": null,
            "margin": null,
            "max_height": null,
            "max_width": null,
            "min_height": null,
            "min_width": null,
            "object_fit": null,
            "object_position": null,
            "order": null,
            "overflow": null,
            "overflow_x": null,
            "overflow_y": null,
            "padding": null,
            "right": null,
            "top": null,
            "visibility": null,
            "width": null
          }
        },
        "ac03f6882c104abaac0096d1e86cbcbf": {
          "model_module": "@jupyter-widgets/controls",
          "model_name": "DescriptionStyleModel",
          "model_module_version": "1.5.0",
          "state": {
            "_model_module": "@jupyter-widgets/controls",
            "_model_module_version": "1.5.0",
            "_model_name": "DescriptionStyleModel",
            "_view_count": null,
            "_view_module": "@jupyter-widgets/base",
            "_view_module_version": "1.2.0",
            "_view_name": "StyleView",
            "description_width": ""
          }
        },
        "cc341ef43f444f0fa2099d2d6306431b": {
          "model_module": "@jupyter-widgets/base",
          "model_name": "LayoutModel",
          "model_module_version": "1.2.0",
          "state": {
            "_model_module": "@jupyter-widgets/base",
            "_model_module_version": "1.2.0",
            "_model_name": "LayoutModel",
            "_view_count": null,
            "_view_module": "@jupyter-widgets/base",
            "_view_module_version": "1.2.0",
            "_view_name": "LayoutView",
            "align_content": null,
            "align_items": null,
            "align_self": null,
            "border": null,
            "bottom": null,
            "display": null,
            "flex": "2",
            "flex_flow": null,
            "grid_area": null,
            "grid_auto_columns": null,
            "grid_auto_flow": null,
            "grid_auto_rows": null,
            "grid_column": null,
            "grid_gap": null,
            "grid_row": null,
            "grid_template_areas": null,
            "grid_template_columns": null,
            "grid_template_rows": null,
            "height": null,
            "justify_content": null,
            "justify_items": null,
            "left": null,
            "margin": null,
            "max_height": null,
            "max_width": null,
            "min_height": null,
            "min_width": null,
            "object_fit": null,
            "object_position": null,
            "order": null,
            "overflow": null,
            "overflow_x": null,
            "overflow_y": null,
            "padding": null,
            "right": null,
            "top": null,
            "visibility": null,
            "width": null
          }
        },
        "4f34cabdfbc547b187936f0b3781065a": {
          "model_module": "@jupyter-widgets/controls",
          "model_name": "ProgressStyleModel",
          "model_module_version": "1.5.0",
          "state": {
            "_model_module": "@jupyter-widgets/controls",
            "_model_module_version": "1.5.0",
            "_model_name": "ProgressStyleModel",
            "_view_count": null,
            "_view_module": "@jupyter-widgets/base",
            "_view_module_version": "1.2.0",
            "_view_name": "StyleView",
            "bar_color": null,
            "description_width": ""
          }
        },
        "4bab4ae0ae724caf999007286cececb1": {
          "model_module": "@jupyter-widgets/base",
          "model_name": "LayoutModel",
          "model_module_version": "1.2.0",
          "state": {
            "_model_module": "@jupyter-widgets/base",
            "_model_module_version": "1.2.0",
            "_model_name": "LayoutModel",
            "_view_count": null,
            "_view_module": "@jupyter-widgets/base",
            "_view_module_version": "1.2.0",
            "_view_name": "LayoutView",
            "align_content": null,
            "align_items": null,
            "align_self": null,
            "border": null,
            "bottom": null,
            "display": null,
            "flex": null,
            "flex_flow": null,
            "grid_area": null,
            "grid_auto_columns": null,
            "grid_auto_flow": null,
            "grid_auto_rows": null,
            "grid_column": null,
            "grid_gap": null,
            "grid_row": null,
            "grid_template_areas": null,
            "grid_template_columns": null,
            "grid_template_rows": null,
            "height": null,
            "justify_content": null,
            "justify_items": null,
            "left": null,
            "margin": null,
            "max_height": null,
            "max_width": null,
            "min_height": null,
            "min_width": null,
            "object_fit": null,
            "object_position": null,
            "order": null,
            "overflow": null,
            "overflow_x": null,
            "overflow_y": null,
            "padding": null,
            "right": null,
            "top": null,
            "visibility": null,
            "width": null
          }
        },
        "b6641a079f4a42ed8be669b296e0cc9a": {
          "model_module": "@jupyter-widgets/controls",
          "model_name": "DescriptionStyleModel",
          "model_module_version": "1.5.0",
          "state": {
            "_model_module": "@jupyter-widgets/controls",
            "_model_module_version": "1.5.0",
            "_model_name": "DescriptionStyleModel",
            "_view_count": null,
            "_view_module": "@jupyter-widgets/base",
            "_view_module_version": "1.2.0",
            "_view_name": "StyleView",
            "description_width": ""
          }
        },
        "4bd2a529b89a4adba64333a9a9e32a38": {
          "model_module": "@jupyter-widgets/controls",
          "model_name": "HBoxModel",
          "model_module_version": "1.5.0",
          "state": {
            "_dom_classes": [],
            "_model_module": "@jupyter-widgets/controls",
            "_model_module_version": "1.5.0",
            "_model_name": "HBoxModel",
            "_view_count": null,
            "_view_module": "@jupyter-widgets/controls",
            "_view_module_version": "1.5.0",
            "_view_name": "HBoxView",
            "box_style": "",
            "children": [
              "IPY_MODEL_731d734b14db498ca022735cdfe12ea8",
              "IPY_MODEL_ef2d857bf19c4f3897627cce199091a0",
              "IPY_MODEL_2fbe820ded7745ebb2b73cc99448b0aa"
            ],
            "layout": "IPY_MODEL_43be19fb81584b529e8575bd51aa159f"
          }
        },
        "731d734b14db498ca022735cdfe12ea8": {
          "model_module": "@jupyter-widgets/controls",
          "model_name": "HTMLModel",
          "model_module_version": "1.5.0",
          "state": {
            "_dom_classes": [],
            "_model_module": "@jupyter-widgets/controls",
            "_model_module_version": "1.5.0",
            "_model_name": "HTMLModel",
            "_view_count": null,
            "_view_module": "@jupyter-widgets/controls",
            "_view_module_version": "1.5.0",
            "_view_name": "HTMLView",
            "description": "",
            "description_tooltip": null,
            "layout": "IPY_MODEL_a6e6c92746b24c14bb61ef26242d6fc9",
            "placeholder": "​",
            "style": "IPY_MODEL_4db0699d93f64d5ea2499f13221c803b",
            "value": "Validation DataLoader 0: 100%"
          }
        },
        "ef2d857bf19c4f3897627cce199091a0": {
          "model_module": "@jupyter-widgets/controls",
          "model_name": "FloatProgressModel",
          "model_module_version": "1.5.0",
          "state": {
            "_dom_classes": [],
            "_model_module": "@jupyter-widgets/controls",
            "_model_module_version": "1.5.0",
            "_model_name": "FloatProgressModel",
            "_view_count": null,
            "_view_module": "@jupyter-widgets/controls",
            "_view_module_version": "1.5.0",
            "_view_name": "ProgressView",
            "bar_style": "",
            "description": "",
            "description_tooltip": null,
            "layout": "IPY_MODEL_6bd9abf3b43647329a6538cfdd023fa2",
            "max": 1,
            "min": 0,
            "orientation": "horizontal",
            "style": "IPY_MODEL_ab8a9bd012fa4d438d50be2a85b51150",
            "value": 1
          }
        },
        "2fbe820ded7745ebb2b73cc99448b0aa": {
          "model_module": "@jupyter-widgets/controls",
          "model_name": "HTMLModel",
          "model_module_version": "1.5.0",
          "state": {
            "_dom_classes": [],
            "_model_module": "@jupyter-widgets/controls",
            "_model_module_version": "1.5.0",
            "_model_name": "HTMLModel",
            "_view_count": null,
            "_view_module": "@jupyter-widgets/controls",
            "_view_module_version": "1.5.0",
            "_view_name": "HTMLView",
            "description": "",
            "description_tooltip": null,
            "layout": "IPY_MODEL_4a93e27c89bf432ea58f8df7ae2fd23a",
            "placeholder": "​",
            "style": "IPY_MODEL_73ab51ad565a4af0903bf1c2e03a8a8c",
            "value": " 313/313 [00:00&lt;00:00, 364.33it/s]"
          }
        },
        "43be19fb81584b529e8575bd51aa159f": {
          "model_module": "@jupyter-widgets/base",
          "model_name": "LayoutModel",
          "model_module_version": "1.2.0",
          "state": {
            "_model_module": "@jupyter-widgets/base",
            "_model_module_version": "1.2.0",
            "_model_name": "LayoutModel",
            "_view_count": null,
            "_view_module": "@jupyter-widgets/base",
            "_view_module_version": "1.2.0",
            "_view_name": "LayoutView",
            "align_content": null,
            "align_items": null,
            "align_self": null,
            "border": null,
            "bottom": null,
            "display": "inline-flex",
            "flex": null,
            "flex_flow": "row wrap",
            "grid_area": null,
            "grid_auto_columns": null,
            "grid_auto_flow": null,
            "grid_auto_rows": null,
            "grid_column": null,
            "grid_gap": null,
            "grid_row": null,
            "grid_template_areas": null,
            "grid_template_columns": null,
            "grid_template_rows": null,
            "height": null,
            "justify_content": null,
            "justify_items": null,
            "left": null,
            "margin": null,
            "max_height": null,
            "max_width": null,
            "min_height": null,
            "min_width": null,
            "object_fit": null,
            "object_position": null,
            "order": null,
            "overflow": null,
            "overflow_x": null,
            "overflow_y": null,
            "padding": null,
            "right": null,
            "top": null,
            "visibility": "hidden",
            "width": "100%"
          }
        },
        "a6e6c92746b24c14bb61ef26242d6fc9": {
          "model_module": "@jupyter-widgets/base",
          "model_name": "LayoutModel",
          "model_module_version": "1.2.0",
          "state": {
            "_model_module": "@jupyter-widgets/base",
            "_model_module_version": "1.2.0",
            "_model_name": "LayoutModel",
            "_view_count": null,
            "_view_module": "@jupyter-widgets/base",
            "_view_module_version": "1.2.0",
            "_view_name": "LayoutView",
            "align_content": null,
            "align_items": null,
            "align_self": null,
            "border": null,
            "bottom": null,
            "display": null,
            "flex": null,
            "flex_flow": null,
            "grid_area": null,
            "grid_auto_columns": null,
            "grid_auto_flow": null,
            "grid_auto_rows": null,
            "grid_column": null,
            "grid_gap": null,
            "grid_row": null,
            "grid_template_areas": null,
            "grid_template_columns": null,
            "grid_template_rows": null,
            "height": null,
            "justify_content": null,
            "justify_items": null,
            "left": null,
            "margin": null,
            "max_height": null,
            "max_width": null,
            "min_height": null,
            "min_width": null,
            "object_fit": null,
            "object_position": null,
            "order": null,
            "overflow": null,
            "overflow_x": null,
            "overflow_y": null,
            "padding": null,
            "right": null,
            "top": null,
            "visibility": null,
            "width": null
          }
        },
        "4db0699d93f64d5ea2499f13221c803b": {
          "model_module": "@jupyter-widgets/controls",
          "model_name": "DescriptionStyleModel",
          "model_module_version": "1.5.0",
          "state": {
            "_model_module": "@jupyter-widgets/controls",
            "_model_module_version": "1.5.0",
            "_model_name": "DescriptionStyleModel",
            "_view_count": null,
            "_view_module": "@jupyter-widgets/base",
            "_view_module_version": "1.2.0",
            "_view_name": "StyleView",
            "description_width": ""
          }
        },
        "6bd9abf3b43647329a6538cfdd023fa2": {
          "model_module": "@jupyter-widgets/base",
          "model_name": "LayoutModel",
          "model_module_version": "1.2.0",
          "state": {
            "_model_module": "@jupyter-widgets/base",
            "_model_module_version": "1.2.0",
            "_model_name": "LayoutModel",
            "_view_count": null,
            "_view_module": "@jupyter-widgets/base",
            "_view_module_version": "1.2.0",
            "_view_name": "LayoutView",
            "align_content": null,
            "align_items": null,
            "align_self": null,
            "border": null,
            "bottom": null,
            "display": null,
            "flex": "2",
            "flex_flow": null,
            "grid_area": null,
            "grid_auto_columns": null,
            "grid_auto_flow": null,
            "grid_auto_rows": null,
            "grid_column": null,
            "grid_gap": null,
            "grid_row": null,
            "grid_template_areas": null,
            "grid_template_columns": null,
            "grid_template_rows": null,
            "height": null,
            "justify_content": null,
            "justify_items": null,
            "left": null,
            "margin": null,
            "max_height": null,
            "max_width": null,
            "min_height": null,
            "min_width": null,
            "object_fit": null,
            "object_position": null,
            "order": null,
            "overflow": null,
            "overflow_x": null,
            "overflow_y": null,
            "padding": null,
            "right": null,
            "top": null,
            "visibility": null,
            "width": null
          }
        },
        "ab8a9bd012fa4d438d50be2a85b51150": {
          "model_module": "@jupyter-widgets/controls",
          "model_name": "ProgressStyleModel",
          "model_module_version": "1.5.0",
          "state": {
            "_model_module": "@jupyter-widgets/controls",
            "_model_module_version": "1.5.0",
            "_model_name": "ProgressStyleModel",
            "_view_count": null,
            "_view_module": "@jupyter-widgets/base",
            "_view_module_version": "1.2.0",
            "_view_name": "StyleView",
            "bar_color": null,
            "description_width": ""
          }
        },
        "4a93e27c89bf432ea58f8df7ae2fd23a": {
          "model_module": "@jupyter-widgets/base",
          "model_name": "LayoutModel",
          "model_module_version": "1.2.0",
          "state": {
            "_model_module": "@jupyter-widgets/base",
            "_model_module_version": "1.2.0",
            "_model_name": "LayoutModel",
            "_view_count": null,
            "_view_module": "@jupyter-widgets/base",
            "_view_module_version": "1.2.0",
            "_view_name": "LayoutView",
            "align_content": null,
            "align_items": null,
            "align_self": null,
            "border": null,
            "bottom": null,
            "display": null,
            "flex": null,
            "flex_flow": null,
            "grid_area": null,
            "grid_auto_columns": null,
            "grid_auto_flow": null,
            "grid_auto_rows": null,
            "grid_column": null,
            "grid_gap": null,
            "grid_row": null,
            "grid_template_areas": null,
            "grid_template_columns": null,
            "grid_template_rows": null,
            "height": null,
            "justify_content": null,
            "justify_items": null,
            "left": null,
            "margin": null,
            "max_height": null,
            "max_width": null,
            "min_height": null,
            "min_width": null,
            "object_fit": null,
            "object_position": null,
            "order": null,
            "overflow": null,
            "overflow_x": null,
            "overflow_y": null,
            "padding": null,
            "right": null,
            "top": null,
            "visibility": null,
            "width": null
          }
        },
        "73ab51ad565a4af0903bf1c2e03a8a8c": {
          "model_module": "@jupyter-widgets/controls",
          "model_name": "DescriptionStyleModel",
          "model_module_version": "1.5.0",
          "state": {
            "_model_module": "@jupyter-widgets/controls",
            "_model_module_version": "1.5.0",
            "_model_name": "DescriptionStyleModel",
            "_view_count": null,
            "_view_module": "@jupyter-widgets/base",
            "_view_module_version": "1.2.0",
            "_view_name": "StyleView",
            "description_width": ""
          }
        },
        "cc6f1e0e1a88418b8f8d94eb941f4e6f": {
          "model_module": "@jupyter-widgets/controls",
          "model_name": "HBoxModel",
          "model_module_version": "1.5.0",
          "state": {
            "_dom_classes": [],
            "_model_module": "@jupyter-widgets/controls",
            "_model_module_version": "1.5.0",
            "_model_name": "HBoxModel",
            "_view_count": null,
            "_view_module": "@jupyter-widgets/controls",
            "_view_module_version": "1.5.0",
            "_view_name": "HBoxView",
            "box_style": "",
            "children": [
              "IPY_MODEL_f2782b81e87a4f67838e8e4e94bba10c",
              "IPY_MODEL_7eefdb82a8254c3d8b9e0b5aa746ef04",
              "IPY_MODEL_b3b0452b190b4e00a9c14aafd969dbc9"
            ],
            "layout": "IPY_MODEL_d86a4caa59f04d629a006374d32217e9"
          }
        },
        "f2782b81e87a4f67838e8e4e94bba10c": {
          "model_module": "@jupyter-widgets/controls",
          "model_name": "HTMLModel",
          "model_module_version": "1.5.0",
          "state": {
            "_dom_classes": [],
            "_model_module": "@jupyter-widgets/controls",
            "_model_module_version": "1.5.0",
            "_model_name": "HTMLModel",
            "_view_count": null,
            "_view_module": "@jupyter-widgets/controls",
            "_view_module_version": "1.5.0",
            "_view_name": "HTMLView",
            "description": "",
            "description_tooltip": null,
            "layout": "IPY_MODEL_862ed7c0be2349bb87436e7385bc5ea1",
            "placeholder": "​",
            "style": "IPY_MODEL_d5132e8a77d44672b7c9f9216df60820",
            "value": "Validation DataLoader 0: 100%"
          }
        },
        "7eefdb82a8254c3d8b9e0b5aa746ef04": {
          "model_module": "@jupyter-widgets/controls",
          "model_name": "FloatProgressModel",
          "model_module_version": "1.5.0",
          "state": {
            "_dom_classes": [],
            "_model_module": "@jupyter-widgets/controls",
            "_model_module_version": "1.5.0",
            "_model_name": "FloatProgressModel",
            "_view_count": null,
            "_view_module": "@jupyter-widgets/controls",
            "_view_module_version": "1.5.0",
            "_view_name": "ProgressView",
            "bar_style": "",
            "description": "",
            "description_tooltip": null,
            "layout": "IPY_MODEL_eb9c2e9dddf94d1f8ea68ec50e0c1a1c",
            "max": 1,
            "min": 0,
            "orientation": "horizontal",
            "style": "IPY_MODEL_cb233c5391f94a3badc72df47cd4ef5c",
            "value": 1
          }
        },
        "b3b0452b190b4e00a9c14aafd969dbc9": {
          "model_module": "@jupyter-widgets/controls",
          "model_name": "HTMLModel",
          "model_module_version": "1.5.0",
          "state": {
            "_dom_classes": [],
            "_model_module": "@jupyter-widgets/controls",
            "_model_module_version": "1.5.0",
            "_model_name": "HTMLModel",
            "_view_count": null,
            "_view_module": "@jupyter-widgets/controls",
            "_view_module_version": "1.5.0",
            "_view_name": "HTMLView",
            "description": "",
            "description_tooltip": null,
            "layout": "IPY_MODEL_d8810d076f504adb8a4584e7ac86ae58",
            "placeholder": "​",
            "style": "IPY_MODEL_9b6c6847568949f0bf5fe0a658efbc46",
            "value": " 313/313 [00:00&lt;00:00, 482.41it/s]"
          }
        },
        "d86a4caa59f04d629a006374d32217e9": {
          "model_module": "@jupyter-widgets/base",
          "model_name": "LayoutModel",
          "model_module_version": "1.2.0",
          "state": {
            "_model_module": "@jupyter-widgets/base",
            "_model_module_version": "1.2.0",
            "_model_name": "LayoutModel",
            "_view_count": null,
            "_view_module": "@jupyter-widgets/base",
            "_view_module_version": "1.2.0",
            "_view_name": "LayoutView",
            "align_content": null,
            "align_items": null,
            "align_self": null,
            "border": null,
            "bottom": null,
            "display": "inline-flex",
            "flex": null,
            "flex_flow": "row wrap",
            "grid_area": null,
            "grid_auto_columns": null,
            "grid_auto_flow": null,
            "grid_auto_rows": null,
            "grid_column": null,
            "grid_gap": null,
            "grid_row": null,
            "grid_template_areas": null,
            "grid_template_columns": null,
            "grid_template_rows": null,
            "height": null,
            "justify_content": null,
            "justify_items": null,
            "left": null,
            "margin": null,
            "max_height": null,
            "max_width": null,
            "min_height": null,
            "min_width": null,
            "object_fit": null,
            "object_position": null,
            "order": null,
            "overflow": null,
            "overflow_x": null,
            "overflow_y": null,
            "padding": null,
            "right": null,
            "top": null,
            "visibility": "hidden",
            "width": "100%"
          }
        },
        "862ed7c0be2349bb87436e7385bc5ea1": {
          "model_module": "@jupyter-widgets/base",
          "model_name": "LayoutModel",
          "model_module_version": "1.2.0",
          "state": {
            "_model_module": "@jupyter-widgets/base",
            "_model_module_version": "1.2.0",
            "_model_name": "LayoutModel",
            "_view_count": null,
            "_view_module": "@jupyter-widgets/base",
            "_view_module_version": "1.2.0",
            "_view_name": "LayoutView",
            "align_content": null,
            "align_items": null,
            "align_self": null,
            "border": null,
            "bottom": null,
            "display": null,
            "flex": null,
            "flex_flow": null,
            "grid_area": null,
            "grid_auto_columns": null,
            "grid_auto_flow": null,
            "grid_auto_rows": null,
            "grid_column": null,
            "grid_gap": null,
            "grid_row": null,
            "grid_template_areas": null,
            "grid_template_columns": null,
            "grid_template_rows": null,
            "height": null,
            "justify_content": null,
            "justify_items": null,
            "left": null,
            "margin": null,
            "max_height": null,
            "max_width": null,
            "min_height": null,
            "min_width": null,
            "object_fit": null,
            "object_position": null,
            "order": null,
            "overflow": null,
            "overflow_x": null,
            "overflow_y": null,
            "padding": null,
            "right": null,
            "top": null,
            "visibility": null,
            "width": null
          }
        },
        "d5132e8a77d44672b7c9f9216df60820": {
          "model_module": "@jupyter-widgets/controls",
          "model_name": "DescriptionStyleModel",
          "model_module_version": "1.5.0",
          "state": {
            "_model_module": "@jupyter-widgets/controls",
            "_model_module_version": "1.5.0",
            "_model_name": "DescriptionStyleModel",
            "_view_count": null,
            "_view_module": "@jupyter-widgets/base",
            "_view_module_version": "1.2.0",
            "_view_name": "StyleView",
            "description_width": ""
          }
        },
        "eb9c2e9dddf94d1f8ea68ec50e0c1a1c": {
          "model_module": "@jupyter-widgets/base",
          "model_name": "LayoutModel",
          "model_module_version": "1.2.0",
          "state": {
            "_model_module": "@jupyter-widgets/base",
            "_model_module_version": "1.2.0",
            "_model_name": "LayoutModel",
            "_view_count": null,
            "_view_module": "@jupyter-widgets/base",
            "_view_module_version": "1.2.0",
            "_view_name": "LayoutView",
            "align_content": null,
            "align_items": null,
            "align_self": null,
            "border": null,
            "bottom": null,
            "display": null,
            "flex": "2",
            "flex_flow": null,
            "grid_area": null,
            "grid_auto_columns": null,
            "grid_auto_flow": null,
            "grid_auto_rows": null,
            "grid_column": null,
            "grid_gap": null,
            "grid_row": null,
            "grid_template_areas": null,
            "grid_template_columns": null,
            "grid_template_rows": null,
            "height": null,
            "justify_content": null,
            "justify_items": null,
            "left": null,
            "margin": null,
            "max_height": null,
            "max_width": null,
            "min_height": null,
            "min_width": null,
            "object_fit": null,
            "object_position": null,
            "order": null,
            "overflow": null,
            "overflow_x": null,
            "overflow_y": null,
            "padding": null,
            "right": null,
            "top": null,
            "visibility": null,
            "width": null
          }
        },
        "cb233c5391f94a3badc72df47cd4ef5c": {
          "model_module": "@jupyter-widgets/controls",
          "model_name": "ProgressStyleModel",
          "model_module_version": "1.5.0",
          "state": {
            "_model_module": "@jupyter-widgets/controls",
            "_model_module_version": "1.5.0",
            "_model_name": "ProgressStyleModel",
            "_view_count": null,
            "_view_module": "@jupyter-widgets/base",
            "_view_module_version": "1.2.0",
            "_view_name": "StyleView",
            "bar_color": null,
            "description_width": ""
          }
        },
        "d8810d076f504adb8a4584e7ac86ae58": {
          "model_module": "@jupyter-widgets/base",
          "model_name": "LayoutModel",
          "model_module_version": "1.2.0",
          "state": {
            "_model_module": "@jupyter-widgets/base",
            "_model_module_version": "1.2.0",
            "_model_name": "LayoutModel",
            "_view_count": null,
            "_view_module": "@jupyter-widgets/base",
            "_view_module_version": "1.2.0",
            "_view_name": "LayoutView",
            "align_content": null,
            "align_items": null,
            "align_self": null,
            "border": null,
            "bottom": null,
            "display": null,
            "flex": null,
            "flex_flow": null,
            "grid_area": null,
            "grid_auto_columns": null,
            "grid_auto_flow": null,
            "grid_auto_rows": null,
            "grid_column": null,
            "grid_gap": null,
            "grid_row": null,
            "grid_template_areas": null,
            "grid_template_columns": null,
            "grid_template_rows": null,
            "height": null,
            "justify_content": null,
            "justify_items": null,
            "left": null,
            "margin": null,
            "max_height": null,
            "max_width": null,
            "min_height": null,
            "min_width": null,
            "object_fit": null,
            "object_position": null,
            "order": null,
            "overflow": null,
            "overflow_x": null,
            "overflow_y": null,
            "padding": null,
            "right": null,
            "top": null,
            "visibility": null,
            "width": null
          }
        },
        "9b6c6847568949f0bf5fe0a658efbc46": {
          "model_module": "@jupyter-widgets/controls",
          "model_name": "DescriptionStyleModel",
          "model_module_version": "1.5.0",
          "state": {
            "_model_module": "@jupyter-widgets/controls",
            "_model_module_version": "1.5.0",
            "_model_name": "DescriptionStyleModel",
            "_view_count": null,
            "_view_module": "@jupyter-widgets/base",
            "_view_module_version": "1.2.0",
            "_view_name": "StyleView",
            "description_width": ""
          }
        }
      }
    }
  },
  "nbformat": 4,
  "nbformat_minor": 5
}